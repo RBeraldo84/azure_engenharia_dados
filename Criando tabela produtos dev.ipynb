{
 "cells": [
  {
   "cell_type": "markdown",
   "metadata": {
    "application/vnd.databricks.v1+cell": {
     "cellMetadata": {},
     "inputWidgets": {},
     "nuid": "0d9f6ff7-775d-4089-861a-027eed0a2047",
     "showTitle": false,
     "title": ""
    }
   },
   "source": [
    "# Tabela Produtos Work"
   ]
  },
  {
   "cell_type": "markdown",
   "metadata": {
    "application/vnd.databricks.v1+cell": {
     "cellMetadata": {},
     "inputWidgets": {},
     "nuid": "d9dbc3df-e3e7-4166-82ec-f886ad9e7e60",
     "showTitle": false,
     "title": ""
    }
   },
   "source": [
    "## Imports"
   ]
  },
  {
   "cell_type": "code",
   "execution_count": 0,
   "metadata": {
    "application/vnd.databricks.v1+cell": {
     "cellMetadata": {
      "byteLimit": 2048000,
      "rowLimit": 10000
     },
     "inputWidgets": {},
     "nuid": "353ad966-7de8-4b63-a3f4-75f7f315a8e3",
     "showTitle": false,
     "title": ""
    }
   },
   "outputs": [],
   "source": [
    "from pyspark.sql.functions import *\n",
    "from pyspark.sql.types import *"
   ]
  },
  {
   "cell_type": "markdown",
   "metadata": {
    "application/vnd.databricks.v1+cell": {
     "cellMetadata": {},
     "inputWidgets": {},
     "nuid": "40c29067-f784-4aa7-99ae-012c91a9f32f",
     "showTitle": false,
     "title": ""
    }
   },
   "source": [
    "## Análise Inicial"
   ]
  },
  {
   "cell_type": "code",
   "execution_count": 0,
   "metadata": {
    "application/vnd.databricks.v1+cell": {
     "cellMetadata": {
      "byteLimit": 2048000,
      "rowLimit": 10000
     },
     "inputWidgets": {},
     "nuid": "c163096b-7851-4762-a0e3-ef9e4cbadfe7",
     "showTitle": false,
     "title": ""
    }
   },
   "outputs": [
    {
     "output_type": "display_data",
     "data": {
      "text/html": [
       "<style scoped>\n  .table-result-container {\n    max-height: 300px;\n    overflow: auto;\n  }\n  table, th, td {\n    border: 1px solid black;\n    border-collapse: collapse;\n  }\n  th, td {\n    padding: 5px;\n  }\n  th {\n    text-align: left;\n  }\n</style><div class='table-result-container'><table class='table-result'><thead style='background-color: white'><tr><th>produto</th><th>descricao</th><th>departamento</th><th>nome_departamento</th></tr></thead><tbody><tr><td>2966373</td><td>Bola Cravo Vinil Verde HomePet</td><td>11</td><td>brinquedos-cachorros</td></tr><tr><td>3110653</td><td>Bolinha com Pena Cat Toy LCM</td><td>6</td><td>brinquedos-gatos</td></tr><tr><td>3122490</td><td>Rótula Bovina Bona Pet Osso para Cachorro</td><td>1</td><td>petiscos-cachorros</td></tr><tr><td>3121712</td><td>Ração N&D Quinoa Cães Adultos Skin & Coat Peixe</td><td>10</td><td>racoes-cachorros</td></tr><tr><td>3138824</td><td>Bandana Melância Emporium Distripet</td><td>15</td><td>roupas-acessorios-cachorros</td></tr><tr><td>3137523</td><td>Ração Qualiday Gatos Adultos Carne</td><td>8</td><td>racoes-gatos</td></tr><tr><td>3120563</td><td>Enfeite Bota Hamster Decorado Trema</td><td>7</td><td>peixes</td></tr><tr><td>3137831</td><td>Kit Brinquedo Antiestresse Papagaios Calopsitas e Periquitos</td><td>4</td><td>passaros</td></tr><tr><td>2855533</td><td>Banho e Tosa Higi�nica - Pequeno</td><td>9</td><td>banho-tosa</td></tr><tr><td>3142338</td><td>Cookie Premier Gatos Adultos Original</td><td>14</td><td>petiscos-gatos</td></tr><tr><td>3103319</td><td>Cama Clássica Flicks Cáqui</td><td>12</td><td>casas-camas-cachorros</td></tr><tr><td>1032666</td><td>Cama Oval Flicks Verde</td><td>5</td><td>casas-camas-gatos</td></tr><tr><td>1032151</td><td>Gel Dental 1 Mês+ Mordisco de Carinho Soft Care Baby</td><td>3</td><td>higiene-limpeza-gatos</td></tr><tr><td>3144976</td><td>Suplemento Hepvet</td><td>13</td><td>medicamentos-cachorros</td></tr><tr><td>1027300</td><td>Educador Xixi Aqui Bellokão</td><td>2</td><td>higiene-limpeza-cachorros</td></tr><tr><td>3106514</td><td>Anti-Inflamatório Azium Cães e Gatos</td><td>16</td><td>medicamentos-gatos</td></tr><tr><td>1021806</td><td>Spray para Mau Hálito Dental Splash Soft Care</td><td>2</td><td>higiene-limpeza-cachorros</td></tr><tr><td>3109785</td><td>Poleiro Parafuso De Madeira Para Aves Toy For Bird</td><td>4</td><td>passaros</td></tr><tr><td>1033178</td><td>Copo Lava-Patas MyHug</td><td>3</td><td>higiene-limpeza-gatos</td></tr><tr><td>966041</td><td>Ração Royal Canin Gatos Filhotes</td><td>8</td><td>racoes-gatos</td></tr><tr><td>3078554</td><td>Stick OnebyOne Denta Bite Spin Pet</td><td>1</td><td>petiscos-cachorros</td></tr><tr><td>1029129</td><td>Toca Octa para Gato Pet Games</td><td>5</td><td>casas-camas-gatos</td></tr><tr><td>2853142</td><td>Ração Colorbits Granules Tetra</td><td>7</td><td>peixes</td></tr><tr><td>3129705</td><td>Vetmedin Boehringer Ingelheim 50 comprimidos</td><td>13</td><td>medicamentos-cachorros</td></tr><tr><td>3022385</td><td>Meia Sapato HomePet Rosa</td><td>15</td><td>roupas-acessorios-cachorros</td></tr><tr><td>854519</td><td>Caminha e Toca para Pet 3 em 1 Preto 02 Simba Dog</td><td>12</td><td>casas-camas-cachorros</td></tr><tr><td>3106537</td><td>Capstar 11,4 mg: para cães e gatos de até 11,4 kg</td><td>16</td><td>medicamentos-gatos</td></tr><tr><td>3147300</td><td>Petisco Whiskas Temptations Anti Bola de Pelo Gatos Adultos</td><td>14</td><td>petiscos-gatos</td></tr><tr><td>3132870</td><td>Ração Golden Power Training Filhotes Frango e Arroz</td><td>10</td><td>racoes-cachorros</td></tr><tr><td>3086294</td><td>Bola de Tênis Mini LCM</td><td>11</td><td>brinquedos-cachorros</td></tr><tr><td>963299</td><td>Bolinha Com Sino Animania Lilás</td><td>6</td><td>brinquedos-gatos</td></tr><tr><td>3139095</td><td>Banho - Pequeno</td><td>9</td><td>banho-tosa</td></tr><tr><td>1027219</td><td>Brinquedo Varetinha Rato Sisal Savana</td><td>6</td><td>brinquedos-gatos</td></tr><tr><td>1020925</td><td>Rede para Gato Flicks Cinza</td><td>5</td><td>casas-camas-gatos</td></tr><tr><td>2981471</td><td>Ração N&D Quinoa Cães Adultos Skin & Coat Pato</td><td>10</td><td>racoes-cachorros</td></tr><tr><td>3084451</td><td>Banho e Tosa M�quina - Pequeno</td><td>9</td><td>banho-tosa</td></tr><tr><td>3111038</td><td>Bola de Tênis Bicolor LCM</td><td>11</td><td>brinquedos-cachorros</td></tr><tr><td>3108781</td><td>Panettone com Flocos de Carne para Cães Pet Dog</td><td>1</td><td>petiscos-cachorros</td></tr><tr><td>3126844</td><td>Petisco Whiskas Temptations Salmão Gatos Adultos</td><td>14</td><td>petiscos-gatos</td></tr><tr><td>854523</td><td>Cama Pet Simples Turquesa</td><td>12</td><td>casas-camas-cachorros</td></tr><tr><td>3103399</td><td>Ninho Para Manon Mandarin Bragança 11x11x11cm</td><td>4</td><td>passaros</td></tr><tr><td>1031999</td><td>Rasqueadeira P</td><td>3</td><td>higiene-limpeza-gatos</td></tr><tr><td>3123933</td><td>Chemital para Cães Chemitec</td><td>13</td><td>medicamentos-cachorros</td></tr><tr><td>3131106</td><td>Shampoo Astor Peles Sensíveis Mundo Animal</td><td>2</td><td>higiene-limpeza-cachorros</td></tr><tr><td>2874040</td><td>Bandana Donuts Emporium Distripet Rosa</td><td>15</td><td>roupas-acessorios-cachorros</td></tr><tr><td>3113789</td><td>Ração Úmida Pet Delícia Gatos Frango com Mamão</td><td>8</td><td>racoes-gatos</td></tr><tr><td>3136362</td><td>Ração Gold Neon Alcon</td><td>7</td><td>peixes</td></tr><tr><td>3106515</td><td>Suplemento Aminoácido Organew</td><td>16</td><td>medicamentos-gatos</td></tr><tr><td>3141234</td><td>Ninho de Madeira Para Calopsita</td><td>4</td><td>passaros</td></tr><tr><td>1025461</td><td>Cama Eslovênia Bege Bichinho Chic</td><td>5</td><td>casas-camas-gatos</td></tr><tr><td>1030651</td><td>Areia para Gato Katbom Natural Granulado Higiênico</td><td>3</td><td>higiene-limpeza-gatos</td></tr><tr><td>3131679</td><td>Ração Royal Canin Medium Adult Cães Adultos</td><td>10</td><td>racoes-cachorros</td></tr><tr><td>3140600</td><td>Petisco Bifinho Joy Beef Carne</td><td>1</td><td>petiscos-cachorros</td></tr><tr><td>1028683</td><td>Saquinho Higiênico Coletor de Fezes</td><td>2</td><td>higiene-limpeza-cachorros</td></tr><tr><td>3144517</td><td>Roupa Para Cachorro Vestido Petisco Pax Estampado Preto</td><td>15</td><td>roupas-acessorios-cachorros</td></tr><tr><td>3118106</td><td>Colchonete Lavável para Cães e Gatos Mokoi Azul</td><td>12</td><td>casas-camas-cachorros</td></tr><tr><td>3090002</td><td>Coleira Antipulgas Scalibor Cães Pequenos e Médios</td><td>13</td><td>medicamentos-cachorros</td></tr><tr><td>3137564</td><td>Ração Qualiday Gatos Adultos Salmão</td><td>8</td><td>racoes-gatos</td></tr><tr><td>3131186</td><td>Bombinha Bomba Submersa Hbo300 300 L/H Aquário Fontes</td><td>7</td><td>peixes</td></tr><tr><td>1011323</td><td>Bolinhas para Gatos Meow & Me</td><td>6</td><td>brinquedos-gatos</td></tr><tr><td>3104577</td><td>Brinquedo Hamburguer Com Corda Animania</td><td>11</td><td>brinquedos-cachorros</td></tr><tr><td>3131168</td><td>Banho e Tosa Tesoura - Pequeno</td><td>9</td><td>banho-tosa</td></tr><tr><td>3119277</td><td>Petisco Bilisko Gato Carne</td><td>14</td><td>petiscos-gatos</td></tr><tr><td>3149221</td><td>Anizen Homeo Pet</td><td>16</td><td>medicamentos-gatos</td></tr><tr><td>3149206</td><td>Ceto-C 20 com 20 comprimidos</td><td>16</td><td>medicamentos-gatos</td></tr><tr><td>3133085</td><td>Ração para Peixes de Fundo Poytara</td><td>7</td><td>peixes</td></tr><tr><td>3126763</td><td>Brinquedo Látex Latoy Disney Dory</td><td>11</td><td>brinquedos-cachorros</td></tr><tr><td>1022786</td><td>Shampoo Forest Balance Maracujá Megamazon Pet Society</td><td>2</td><td>higiene-limpeza-cachorros</td></tr><tr><td>1025311</td><td>Cama New Canadá Flicks Rosa</td><td>5</td><td>casas-camas-gatos</td></tr><tr><td>1034044</td><td>Bandeja Higiênica Quadrada FourPlastic Azul</td><td>3</td><td>higiene-limpeza-gatos</td></tr><tr><td>3139872</td><td>Ração Úmida N&D Natural Atum e Salmão</td><td>8</td><td>racoes-gatos</td></tr><tr><td>3127092</td><td>Osso Original Kadi</td><td>1</td><td>petiscos-cachorros</td></tr><tr><td>1024499</td><td>Brinquedo Dispenser para Ração Cat Ball Pet Games</td><td>6</td><td>brinquedos-gatos</td></tr><tr><td>3132263</td><td>Escova��o de Dentes</td><td>9</td><td>banho-tosa</td></tr><tr><td>3137812</td><td>Thuya Avic. Indubras</td><td>4</td><td>passaros</td></tr><tr><td>3107083</td><td>Bandana Donuts Emporium Distripet Verde</td><td>15</td><td>roupas-acessorios-cachorros</td></tr><tr><td>2988710</td><td>Petisco DentaLife Gatos Adultos 40g</td><td>14</td><td>petiscos-gatos</td></tr><tr><td>3131541</td><td>Ração Equilíbrio Raças Específicas Shih Tzu Filhotes Frango</td><td>10</td><td>racoes-cachorros</td></tr><tr><td>3128830</td><td>Auritop Gel Otológico Ourofino</td><td>13</td><td>medicamentos-cachorros</td></tr><tr><td>3122472</td><td>Cama Divã São Pet Marrom</td><td>12</td><td>casas-camas-cachorros</td></tr><tr><td>3141337</td><td>Petisco Bifinho Joy Beef Churrasco</td><td>1</td><td>petiscos-cachorros</td></tr><tr><td>1029557</td><td>Granulado Sanitário para Gatos Pipicat Multi-Cat</td><td>3</td><td>higiene-limpeza-gatos</td></tr><tr><td>3110806</td><td>Combo Viveiro Para Pássaros Pequeno De Parede Completo Azul</td><td>4</td><td>passaros</td></tr><tr><td>3126144</td><td>Blusa Tricô com Manga Flicks Salmão</td><td>15</td><td>roupas-acessorios-cachorros</td></tr><tr><td>3106565</td><td>Antibacteriano Ibatrim para Cães e Gatos Ibasa</td><td>16</td><td>medicamentos-gatos</td></tr><tr><td>3144151</td><td>Petisco Kelcat Snack Bifitos Carne</td><td>14</td><td>petiscos-gatos</td></tr><tr><td>3134927</td><td>Ração Farmina N&D Prime Gatos Adultos Cordeiro e Blueberry</td><td>8</td><td>racoes-gatos</td></tr><tr><td>2988233</td><td>Brinquedo Osso Rex Grande Animania Verde</td><td>11</td><td>brinquedos-cachorros</td></tr><tr><td>3130198</td><td>Cobertor Sideral Azul</td><td>12</td><td>casas-camas-cachorros</td></tr><tr><td>3110162</td><td>Ração Bettamix Alcon</td><td>7</td><td>peixes</td></tr><tr><td>3110763</td><td>Artrin Condroprotetor Brouwer</td><td>13</td><td>medicamentos-cachorros</td></tr><tr><td>2990485</td><td>Banho e Tosa Higi�nica - M�dio</td><td>9</td><td>banho-tosa</td></tr><tr><td>1012251</td><td>Bolinha para Gato Vermelha 5 unidades Meow & Me</td><td>6</td><td>brinquedos-gatos</td></tr><tr><td>1025349</td><td>Toca do Gato Furacão Pet Paris Lílas</td><td>5</td><td>casas-camas-gatos</td></tr><tr><td>1027488</td><td>Cortador Unha Pet 9Cm Western Pet</td><td>2</td><td>higiene-limpeza-cachorros</td></tr><tr><td>3116179</td><td>Test PH Tropical Labcon Alcon</td><td>7</td><td>peixes</td></tr><tr><td>3106588</td><td>Vermífugo Feline Endospot Labyes acima de 5 kg</td><td>16</td><td>medicamentos-gatos</td></tr><tr><td>1032195</td><td>Lenço Umedecido para Gato Pet Clean</td><td>3</td><td>higiene-limpeza-gatos</td></tr><tr><td>3134654</td><td>Ração Foster Cats Premium Especial Para Gatos Castrado</td><td>8</td><td>racoes-gatos</td></tr><tr><td>3151373</td><td>Hidrata��o</td><td>9</td><td>banho-tosa</td></tr></tbody></table></div>"
      ]
     },
     "metadata": {
      "application/vnd.databricks.v1+output": {
       "addedWidgets": {},
       "aggData": [],
       "aggError": "",
       "aggOverflow": false,
       "aggSchema": [],
       "aggSeriesLimitReached": false,
       "aggType": "",
       "arguments": {},
       "columnCustomDisplayInfos": {},
       "data": [
        [
         "2966373",
         "Bola Cravo Vinil Verde HomePet",
         "11",
         "brinquedos-cachorros"
        ],
        [
         "3110653",
         "Bolinha com Pena Cat Toy LCM",
         "6",
         "brinquedos-gatos"
        ],
        [
         "3122490",
         "Rótula Bovina Bona Pet Osso para Cachorro",
         "1",
         "petiscos-cachorros"
        ],
        [
         "3121712",
         "Ração N&D Quinoa Cães Adultos Skin & Coat Peixe",
         "10",
         "racoes-cachorros"
        ],
        [
         "3138824",
         "Bandana Melância Emporium Distripet",
         "15",
         "roupas-acessorios-cachorros"
        ],
        [
         "3137523",
         "Ração Qualiday Gatos Adultos Carne",
         "8",
         "racoes-gatos"
        ],
        [
         "3120563",
         "Enfeite Bota Hamster Decorado Trema",
         "7",
         "peixes"
        ],
        [
         "3137831",
         "Kit Brinquedo Antiestresse Papagaios Calopsitas e Periquitos",
         "4",
         "passaros"
        ],
        [
         "2855533",
         "Banho e Tosa Higi�nica - Pequeno",
         "9",
         "banho-tosa"
        ],
        [
         "3142338",
         "Cookie Premier Gatos Adultos Original",
         "14",
         "petiscos-gatos"
        ],
        [
         "3103319",
         "Cama Clássica Flicks Cáqui",
         "12",
         "casas-camas-cachorros"
        ],
        [
         "1032666",
         "Cama Oval Flicks Verde",
         "5",
         "casas-camas-gatos"
        ],
        [
         "1032151",
         "Gel Dental 1 Mês+ Mordisco de Carinho Soft Care Baby",
         "3",
         "higiene-limpeza-gatos"
        ],
        [
         "3144976",
         "Suplemento Hepvet",
         "13",
         "medicamentos-cachorros"
        ],
        [
         "1027300",
         "Educador Xixi Aqui Bellokão",
         "2",
         "higiene-limpeza-cachorros"
        ],
        [
         "3106514",
         "Anti-Inflamatório Azium Cães e Gatos",
         "16",
         "medicamentos-gatos"
        ],
        [
         "1021806",
         "Spray para Mau Hálito Dental Splash Soft Care",
         "2",
         "higiene-limpeza-cachorros"
        ],
        [
         "3109785",
         "Poleiro Parafuso De Madeira Para Aves Toy For Bird",
         "4",
         "passaros"
        ],
        [
         "1033178",
         "Copo Lava-Patas MyHug",
         "3",
         "higiene-limpeza-gatos"
        ],
        [
         "966041",
         "Ração Royal Canin Gatos Filhotes",
         "8",
         "racoes-gatos"
        ],
        [
         "3078554",
         "Stick OnebyOne Denta Bite Spin Pet",
         "1",
         "petiscos-cachorros"
        ],
        [
         "1029129",
         "Toca Octa para Gato Pet Games",
         "5",
         "casas-camas-gatos"
        ],
        [
         "2853142",
         "Ração Colorbits Granules Tetra",
         "7",
         "peixes"
        ],
        [
         "3129705",
         "Vetmedin Boehringer Ingelheim 50 comprimidos",
         "13",
         "medicamentos-cachorros"
        ],
        [
         "3022385",
         "Meia Sapato HomePet Rosa",
         "15",
         "roupas-acessorios-cachorros"
        ],
        [
         "854519",
         "Caminha e Toca para Pet 3 em 1 Preto 02 Simba Dog",
         "12",
         "casas-camas-cachorros"
        ],
        [
         "3106537",
         "Capstar 11,4 mg: para cães e gatos de até 11,4 kg",
         "16",
         "medicamentos-gatos"
        ],
        [
         "3147300",
         "Petisco Whiskas Temptations Anti Bola de Pelo Gatos Adultos",
         "14",
         "petiscos-gatos"
        ],
        [
         "3132870",
         "Ração Golden Power Training Filhotes Frango e Arroz",
         "10",
         "racoes-cachorros"
        ],
        [
         "3086294",
         "Bola de Tênis Mini LCM",
         "11",
         "brinquedos-cachorros"
        ],
        [
         "963299",
         "Bolinha Com Sino Animania Lilás",
         "6",
         "brinquedos-gatos"
        ],
        [
         "3139095",
         "Banho - Pequeno",
         "9",
         "banho-tosa"
        ],
        [
         "1027219",
         "Brinquedo Varetinha Rato Sisal Savana",
         "6",
         "brinquedos-gatos"
        ],
        [
         "1020925",
         "Rede para Gato Flicks Cinza",
         "5",
         "casas-camas-gatos"
        ],
        [
         "2981471",
         "Ração N&D Quinoa Cães Adultos Skin & Coat Pato",
         "10",
         "racoes-cachorros"
        ],
        [
         "3084451",
         "Banho e Tosa M�quina - Pequeno",
         "9",
         "banho-tosa"
        ],
        [
         "3111038",
         "Bola de Tênis Bicolor LCM",
         "11",
         "brinquedos-cachorros"
        ],
        [
         "3108781",
         "Panettone com Flocos de Carne para Cães Pet Dog",
         "1",
         "petiscos-cachorros"
        ],
        [
         "3126844",
         "Petisco Whiskas Temptations Salmão Gatos Adultos",
         "14",
         "petiscos-gatos"
        ],
        [
         "854523",
         "Cama Pet Simples Turquesa",
         "12",
         "casas-camas-cachorros"
        ],
        [
         "3103399",
         "Ninho Para Manon Mandarin Bragança 11x11x11cm",
         "4",
         "passaros"
        ],
        [
         "1031999",
         "Rasqueadeira P",
         "3",
         "higiene-limpeza-gatos"
        ],
        [
         "3123933",
         "Chemital para Cães Chemitec",
         "13",
         "medicamentos-cachorros"
        ],
        [
         "3131106",
         "Shampoo Astor Peles Sensíveis Mundo Animal",
         "2",
         "higiene-limpeza-cachorros"
        ],
        [
         "2874040",
         "Bandana Donuts Emporium Distripet Rosa",
         "15",
         "roupas-acessorios-cachorros"
        ],
        [
         "3113789",
         "Ração Úmida Pet Delícia Gatos Frango com Mamão",
         "8",
         "racoes-gatos"
        ],
        [
         "3136362",
         "Ração Gold Neon Alcon",
         "7",
         "peixes"
        ],
        [
         "3106515",
         "Suplemento Aminoácido Organew",
         "16",
         "medicamentos-gatos"
        ],
        [
         "3141234",
         "Ninho de Madeira Para Calopsita",
         "4",
         "passaros"
        ],
        [
         "1025461",
         "Cama Eslovênia Bege Bichinho Chic",
         "5",
         "casas-camas-gatos"
        ],
        [
         "1030651",
         "Areia para Gato Katbom Natural Granulado Higiênico",
         "3",
         "higiene-limpeza-gatos"
        ],
        [
         "3131679",
         "Ração Royal Canin Medium Adult Cães Adultos",
         "10",
         "racoes-cachorros"
        ],
        [
         "3140600",
         "Petisco Bifinho Joy Beef Carne",
         "1",
         "petiscos-cachorros"
        ],
        [
         "1028683",
         "Saquinho Higiênico Coletor de Fezes",
         "2",
         "higiene-limpeza-cachorros"
        ],
        [
         "3144517",
         "Roupa Para Cachorro Vestido Petisco Pax Estampado Preto",
         "15",
         "roupas-acessorios-cachorros"
        ],
        [
         "3118106",
         "Colchonete Lavável para Cães e Gatos Mokoi Azul",
         "12",
         "casas-camas-cachorros"
        ],
        [
         "3090002",
         "Coleira Antipulgas Scalibor Cães Pequenos e Médios",
         "13",
         "medicamentos-cachorros"
        ],
        [
         "3137564",
         "Ração Qualiday Gatos Adultos Salmão",
         "8",
         "racoes-gatos"
        ],
        [
         "3131186",
         "Bombinha Bomba Submersa Hbo300 300 L/H Aquário Fontes",
         "7",
         "peixes"
        ],
        [
         "1011323",
         "Bolinhas para Gatos Meow & Me",
         "6",
         "brinquedos-gatos"
        ],
        [
         "3104577",
         "Brinquedo Hamburguer Com Corda Animania",
         "11",
         "brinquedos-cachorros"
        ],
        [
         "3131168",
         "Banho e Tosa Tesoura - Pequeno",
         "9",
         "banho-tosa"
        ],
        [
         "3119277",
         "Petisco Bilisko Gato Carne",
         "14",
         "petiscos-gatos"
        ],
        [
         "3149221",
         "Anizen Homeo Pet",
         "16",
         "medicamentos-gatos"
        ],
        [
         "3149206",
         "Ceto-C 20 com 20 comprimidos",
         "16",
         "medicamentos-gatos"
        ],
        [
         "3133085",
         "Ração para Peixes de Fundo Poytara",
         "7",
         "peixes"
        ],
        [
         "3126763",
         "Brinquedo Látex Latoy Disney Dory",
         "11",
         "brinquedos-cachorros"
        ],
        [
         "1022786",
         "Shampoo Forest Balance Maracujá Megamazon Pet Society",
         "2",
         "higiene-limpeza-cachorros"
        ],
        [
         "1025311",
         "Cama New Canadá Flicks Rosa",
         "5",
         "casas-camas-gatos"
        ],
        [
         "1034044",
         "Bandeja Higiênica Quadrada FourPlastic Azul",
         "3",
         "higiene-limpeza-gatos"
        ],
        [
         "3139872",
         "Ração Úmida N&D Natural Atum e Salmão",
         "8",
         "racoes-gatos"
        ],
        [
         "3127092",
         "Osso Original Kadi",
         "1",
         "petiscos-cachorros"
        ],
        [
         "1024499",
         "Brinquedo Dispenser para Ração Cat Ball Pet Games",
         "6",
         "brinquedos-gatos"
        ],
        [
         "3132263",
         "Escova��o de Dentes",
         "9",
         "banho-tosa"
        ],
        [
         "3137812",
         "Thuya Avic. Indubras",
         "4",
         "passaros"
        ],
        [
         "3107083",
         "Bandana Donuts Emporium Distripet Verde",
         "15",
         "roupas-acessorios-cachorros"
        ],
        [
         "2988710",
         "Petisco DentaLife Gatos Adultos 40g",
         "14",
         "petiscos-gatos"
        ],
        [
         "3131541",
         "Ração Equilíbrio Raças Específicas Shih Tzu Filhotes Frango",
         "10",
         "racoes-cachorros"
        ],
        [
         "3128830",
         "Auritop Gel Otológico Ourofino",
         "13",
         "medicamentos-cachorros"
        ],
        [
         "3122472",
         "Cama Divã São Pet Marrom",
         "12",
         "casas-camas-cachorros"
        ],
        [
         "3141337",
         "Petisco Bifinho Joy Beef Churrasco",
         "1",
         "petiscos-cachorros"
        ],
        [
         "1029557",
         "Granulado Sanitário para Gatos Pipicat Multi-Cat",
         "3",
         "higiene-limpeza-gatos"
        ],
        [
         "3110806",
         "Combo Viveiro Para Pássaros Pequeno De Parede Completo Azul",
         "4",
         "passaros"
        ],
        [
         "3126144",
         "Blusa Tricô com Manga Flicks Salmão",
         "15",
         "roupas-acessorios-cachorros"
        ],
        [
         "3106565",
         "Antibacteriano Ibatrim para Cães e Gatos Ibasa",
         "16",
         "medicamentos-gatos"
        ],
        [
         "3144151",
         "Petisco Kelcat Snack Bifitos Carne",
         "14",
         "petiscos-gatos"
        ],
        [
         "3134927",
         "Ração Farmina N&D Prime Gatos Adultos Cordeiro e Blueberry",
         "8",
         "racoes-gatos"
        ],
        [
         "2988233",
         "Brinquedo Osso Rex Grande Animania Verde",
         "11",
         "brinquedos-cachorros"
        ],
        [
         "3130198",
         "Cobertor Sideral Azul",
         "12",
         "casas-camas-cachorros"
        ],
        [
         "3110162",
         "Ração Bettamix Alcon",
         "7",
         "peixes"
        ],
        [
         "3110763",
         "Artrin Condroprotetor Brouwer",
         "13",
         "medicamentos-cachorros"
        ],
        [
         "2990485",
         "Banho e Tosa Higi�nica - M�dio",
         "9",
         "banho-tosa"
        ],
        [
         "1012251",
         "Bolinha para Gato Vermelha 5 unidades Meow & Me",
         "6",
         "brinquedos-gatos"
        ],
        [
         "1025349",
         "Toca do Gato Furacão Pet Paris Lílas",
         "5",
         "casas-camas-gatos"
        ],
        [
         "1027488",
         "Cortador Unha Pet 9Cm Western Pet",
         "2",
         "higiene-limpeza-cachorros"
        ],
        [
         "3116179",
         "Test PH Tropical Labcon Alcon",
         "7",
         "peixes"
        ],
        [
         "3106588",
         "Vermífugo Feline Endospot Labyes acima de 5 kg",
         "16",
         "medicamentos-gatos"
        ],
        [
         "1032195",
         "Lenço Umedecido para Gato Pet Clean",
         "3",
         "higiene-limpeza-gatos"
        ],
        [
         "3134654",
         "Ração Foster Cats Premium Especial Para Gatos Castrado",
         "8",
         "racoes-gatos"
        ],
        [
         "3151373",
         "Hidrata��o",
         "9",
         "banho-tosa"
        ]
       ],
       "datasetInfos": [],
       "dbfsResultPath": null,
       "isJsonSchema": true,
       "metadata": {},
       "overflow": false,
       "plotOptions": {
        "customPlotOptions": {},
        "displayType": "table",
        "pivotAggregation": null,
        "pivotColumns": null,
        "xColumns": null,
        "yColumns": null
       },
       "removedWidgets": [],
       "schema": [
        {
         "metadata": "{}",
         "name": "produto",
         "type": "\"string\""
        },
        {
         "metadata": "{}",
         "name": "descricao",
         "type": "\"string\""
        },
        {
         "metadata": "{}",
         "name": "departamento",
         "type": "\"string\""
        },
        {
         "metadata": "{}",
         "name": "nome_departamento",
         "type": "\"string\""
        }
       ],
       "type": "table"
      }
     },
     "output_type": "display_data"
    }
   ],
   "source": [
    "produtos = spark.sql(\"SELECT * FROM raw.produtos_main_raw LIMIT 100\")\n",
    "produtos.display()"
   ]
  },
  {
   "cell_type": "markdown",
   "metadata": {
    "application/vnd.databricks.v1+cell": {
     "cellMetadata": {},
     "inputWidgets": {},
     "nuid": "aba016c2-aafc-46b2-8969-0b526437c676",
     "showTitle": false,
     "title": ""
    }
   },
   "source": [
    "## Casting"
   ]
  },
  {
   "cell_type": "code",
   "execution_count": 0,
   "metadata": {
    "application/vnd.databricks.v1+cell": {
     "cellMetadata": {
      "byteLimit": 2048000,
      "rowLimit": 10000
     },
     "inputWidgets": {},
     "nuid": "c1984d90-5a43-43e8-89ff-44225f66a286",
     "showTitle": false,
     "title": ""
    }
   },
   "outputs": [],
   "source": [
    "produtos = produtos.withColumn('produto', regexp_replace('produto', ',', '.').cast(IntegerType())) \\\n",
    "    .withColumn('departamento', regexp_replace('departamento', ',', '.').cast(IntegerType()))"
   ]
  },
  {
   "cell_type": "markdown",
   "metadata": {
    "application/vnd.databricks.v1+cell": {
     "cellMetadata": {},
     "inputWidgets": {},
     "nuid": "b68bc40f-4fda-45ce-b95a-b209c7ede084",
     "showTitle": false,
     "title": ""
    }
   },
   "source": [
    "## Renomeando e Organizando as Colunas"
   ]
  },
  {
   "cell_type": "code",
   "execution_count": 0,
   "metadata": {
    "application/vnd.databricks.v1+cell": {
     "cellMetadata": {
      "byteLimit": 2048000,
      "rowLimit": 10000
     },
     "inputWidgets": {},
     "nuid": "4937b1a3-de68-4b17-92d0-ccbc1945eaf4",
     "showTitle": false,
     "title": ""
    }
   },
   "outputs": [],
   "source": [
    "produtos = produtos.withColumnRenamed('produto', 'cod_produto') \\\n",
    "    .withColumnRenamed('descricao', 'descricao_produto') \\\n",
    "    .withColumnRenamed('departamento', 'departamento_produto') \\\n",
    "    .withColumnRenamed('nome_departamento', 'nome_departamento_produto') "
   ]
  },
  {
   "cell_type": "markdown",
   "metadata": {
    "application/vnd.databricks.v1+cell": {
     "cellMetadata": {},
     "inputWidgets": {},
     "nuid": "b18b5759-f6e6-455b-9bac-50c62589fdb7",
     "showTitle": false,
     "title": ""
    }
   },
   "source": [
    "## Removendo linhas duplicadas"
   ]
  },
  {
   "cell_type": "code",
   "execution_count": 0,
   "metadata": {
    "application/vnd.databricks.v1+cell": {
     "cellMetadata": {
      "byteLimit": 2048000,
      "rowLimit": 10000
     },
     "inputWidgets": {},
     "nuid": "e64fe4ac-f91d-4bcc-9c70-2393045a7597",
     "showTitle": false,
     "title": ""
    }
   },
   "outputs": [],
   "source": [
    "produtos = produtos.coalesce(1).dropDuplicates()"
   ]
  },
  {
   "cell_type": "markdown",
   "metadata": {
    "application/vnd.databricks.v1+cell": {
     "cellMetadata": {},
     "inputWidgets": {},
     "nuid": "c5dd715c-4819-482d-b456-4ef5a09c7559",
     "showTitle": false,
     "title": ""
    }
   },
   "source": [
    "## Salvando Dados"
   ]
  },
  {
   "cell_type": "code",
   "execution_count": 0,
   "metadata": {
    "application/vnd.databricks.v1+cell": {
     "cellMetadata": {
      "byteLimit": 2048000,
      "rowLimit": 10000
     },
     "inputWidgets": {},
     "nuid": "dd1853c9-6f2c-44e9-b9a8-cb75cafeb6ed",
     "showTitle": false,
     "title": ""
    }
   },
   "outputs": [],
   "source": [
    "produtos.write \\\n",
    "    .partitionBy(['cod_produto', 'departamento_produto']) \\\n",
    "    .mode('overwrite') \\\n",
    "    .saveAsTable('dev.produtos_main_dev')"
   ]
  },
  {
   "cell_type": "markdown",
   "metadata": {
    "application/vnd.databricks.v1+cell": {
     "cellMetadata": {},
     "inputWidgets": {},
     "nuid": "4c900d61-5561-47b5-9a85-2889c618976d",
     "showTitle": false,
     "title": ""
    }
   },
   "source": [
    "## Otimizando"
   ]
  },
  {
   "cell_type": "code",
   "execution_count": 0,
   "metadata": {
    "application/vnd.databricks.v1+cell": {
     "cellMetadata": {
      "byteLimit": 2048000,
      "implicitDf": true,
      "rowLimit": 10000
     },
     "inputWidgets": {},
     "nuid": "42e9c7b7-6bfe-4c83-b682-e7a20f4bcbda",
     "showTitle": false,
     "title": ""
    }
   },
   "outputs": [
    {
     "output_type": "display_data",
     "data": {
      "text/html": [
       "<style scoped>\n  .table-result-container {\n    max-height: 300px;\n    overflow: auto;\n  }\n  table, th, td {\n    border: 1px solid black;\n    border-collapse: collapse;\n  }\n  th, td {\n    padding: 5px;\n  }\n  th {\n    text-align: left;\n  }\n</style><div class='table-result-container'><table class='table-result'><thead style='background-color: white'><tr><th>path</th><th>metrics</th></tr></thead><tbody><tr><td>dbfs:/mnt/dev/produtos_main_dev</td><td>List(0, 0, List(null, null, 0.0, 0, 0), List(null, null, 0.0, 0, 0), 100, null, 0, 100, 100, true, 0, 0, 1679959887091, 1679959889649, 8, 0, null)</td></tr></tbody></table></div>"
      ]
     },
     "metadata": {
      "application/vnd.databricks.v1+output": {
       "addedWidgets": {},
       "aggData": [],
       "aggError": "",
       "aggOverflow": false,
       "aggSchema": [],
       "aggSeriesLimitReached": false,
       "aggType": "",
       "arguments": {},
       "columnCustomDisplayInfos": {},
       "data": [
        [
         "dbfs:/mnt/dev/produtos_main_dev",
         [
          0,
          0,
          [
           null,
           null,
           0.0,
           0,
           0
          ],
          [
           null,
           null,
           0.0,
           0,
           0
          ],
          100,
          null,
          0,
          100,
          100,
          true,
          0,
          0,
          1679959887091,
          1679959889649,
          8,
          0,
          null
         ]
        ]
       ],
       "datasetInfos": [],
       "dbfsResultPath": null,
       "isJsonSchema": true,
       "metadata": {},
       "overflow": false,
       "plotOptions": {
        "customPlotOptions": {},
        "displayType": "table",
        "pivotAggregation": null,
        "pivotColumns": null,
        "xColumns": null,
        "yColumns": null
       },
       "removedWidgets": [],
       "schema": [
        {
         "metadata": "{}",
         "name": "path",
         "type": "\"string\""
        },
        {
         "metadata": "{}",
         "name": "metrics",
         "type": "{\"type\":\"struct\",\"fields\":[{\"name\":\"numFilesAdded\",\"type\":\"long\",\"nullable\":false,\"metadata\":{}},{\"name\":\"numFilesRemoved\",\"type\":\"long\",\"nullable\":false,\"metadata\":{}},{\"name\":\"filesAdded\",\"type\":{\"type\":\"struct\",\"fields\":[{\"name\":\"min\",\"type\":\"long\",\"nullable\":true,\"metadata\":{}},{\"name\":\"max\",\"type\":\"long\",\"nullable\":true,\"metadata\":{}},{\"name\":\"avg\",\"type\":\"double\",\"nullable\":false,\"metadata\":{}},{\"name\":\"totalFiles\",\"type\":\"long\",\"nullable\":false,\"metadata\":{}},{\"name\":\"totalSize\",\"type\":\"long\",\"nullable\":false,\"metadata\":{}}]},\"nullable\":true,\"metadata\":{}},{\"name\":\"filesRemoved\",\"type\":{\"type\":\"struct\",\"fields\":[{\"name\":\"min\",\"type\":\"long\",\"nullable\":true,\"metadata\":{}},{\"name\":\"max\",\"type\":\"long\",\"nullable\":true,\"metadata\":{}},{\"name\":\"avg\",\"type\":\"double\",\"nullable\":false,\"metadata\":{}},{\"name\":\"totalFiles\",\"type\":\"long\",\"nullable\":false,\"metadata\":{}},{\"name\":\"totalSize\",\"type\":\"long\",\"nullable\":false,\"metadata\":{}}]},\"nullable\":true,\"metadata\":{}},{\"name\":\"partitionsOptimized\",\"type\":\"long\",\"nullable\":false,\"metadata\":{}},{\"name\":\"zOrderStats\",\"type\":{\"type\":\"struct\",\"fields\":[{\"name\":\"strategyName\",\"type\":\"string\",\"nullable\":true,\"metadata\":{}},{\"name\":\"inputCubeFiles\",\"type\":{\"type\":\"struct\",\"fields\":[{\"name\":\"num\",\"type\":\"long\",\"nullable\":false,\"metadata\":{}},{\"name\":\"size\",\"type\":\"long\",\"nullable\":false,\"metadata\":{}}]},\"nullable\":true,\"metadata\":{}},{\"name\":\"inputOtherFiles\",\"type\":{\"type\":\"struct\",\"fields\":[{\"name\":\"num\",\"type\":\"long\",\"nullable\":false,\"metadata\":{}},{\"name\":\"size\",\"type\":\"long\",\"nullable\":false,\"metadata\":{}}]},\"nullable\":true,\"metadata\":{}},{\"name\":\"inputNumCubes\",\"type\":\"long\",\"nullable\":false,\"metadata\":{}},{\"name\":\"mergedFiles\",\"type\":{\"type\":\"struct\",\"fields\":[{\"name\":\"num\",\"type\":\"long\",\"nullable\":false,\"metadata\":{}},{\"name\":\"size\",\"type\":\"long\",\"nullable\":false,\"metadata\":{}}]},\"nullable\":true,\"metadata\":{}},{\"name\":\"numOutputCubes\",\"type\":\"long\",\"nullable\":false,\"metadata\":{}},{\"name\":\"mergedNumCubes\",\"type\":\"long\",\"nullable\":true,\"metadata\":{}}]},\"nullable\":true,\"metadata\":{}},{\"name\":\"numBatches\",\"type\":\"long\",\"nullable\":false,\"metadata\":{}},{\"name\":\"totalConsideredFiles\",\"type\":\"long\",\"nullable\":false,\"metadata\":{}},{\"name\":\"totalFilesSkipped\",\"type\":\"long\",\"nullable\":false,\"metadata\":{}},{\"name\":\"preserveInsertionOrder\",\"type\":\"boolean\",\"nullable\":false,\"metadata\":{}},{\"name\":\"numFilesSkippedToReduceWriteAmplification\",\"type\":\"long\",\"nullable\":false,\"metadata\":{}},{\"name\":\"numBytesSkippedToReduceWriteAmplification\",\"type\":\"long\",\"nullable\":false,\"metadata\":{}},{\"name\":\"startTimeMs\",\"type\":\"long\",\"nullable\":false,\"metadata\":{}},{\"name\":\"endTimeMs\",\"type\":\"long\",\"nullable\":false,\"metadata\":{}},{\"name\":\"totalClusterParallelism\",\"type\":\"long\",\"nullable\":false,\"metadata\":{}},{\"name\":\"totalScheduledTasks\",\"type\":\"long\",\"nullable\":false,\"metadata\":{}},{\"name\":\"autoCompactParallelismStats\",\"type\":{\"type\":\"struct\",\"fields\":[{\"name\":\"maxClusterActiveParallelism\",\"type\":\"long\",\"nullable\":true,\"metadata\":{}},{\"name\":\"minClusterActiveParallelism\",\"type\":\"long\",\"nullable\":true,\"metadata\":{}},{\"name\":\"maxSessionActiveParallelism\",\"type\":\"long\",\"nullable\":true,\"metadata\":{}},{\"name\":\"minSessionActiveParallelism\",\"type\":\"long\",\"nullable\":true,\"metadata\":{}}]},\"nullable\":true,\"metadata\":{}}]}"
        }
       ],
       "type": "table"
      }
     },
     "output_type": "display_data"
    }
   ],
   "source": [
    "%sql\n",
    "OPTIMIZE dev.produtos_main_dev"
   ]
  }
 ],
 "metadata": {
  "application/vnd.databricks.v1+notebook": {
   "dashboards": [],
   "language": "python",
   "notebookMetadata": {
    "mostRecentlyExecutedCommandWithImplicitDF": {
     "commandId": 326164700055487,
     "dataframes": [
      "_sqldf"
     ]
    },
    "pythonIndentUnit": 4
   },
   "notebookName": "Criando tabela produtos dev",
   "notebookOrigID": 326164700055468,
   "widgets": {}
  }
 },
 "nbformat": 4,
 "nbformat_minor": 0
}
