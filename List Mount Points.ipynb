{
 "cells": [
  {
   "cell_type": "code",
   "execution_count": 0,
   "metadata": {
    "application/vnd.databricks.v1+cell": {
     "cellMetadata": {
      "byteLimit": 2048000,
      "rowLimit": 10000
     },
     "inputWidgets": {},
     "nuid": "6f3b14b3-3f4b-43b9-b081-c836e1cdee50",
     "showTitle": false,
     "title": ""
    }
   },
   "outputs": [
    {
     "output_type": "stream",
     "name": "stdout",
     "output_type": "stream",
     "text": [
      "Out[1]: [MountInfo(mountPoint='/mnt/adfraw', source='wasbs://adfraw@storagedatalakehouse.blob.core.windows.net', encryptionType=''),\n MountInfo(mountPoint='/mnt/iotdata', source='wasbs://lakehouse2@storagedatalakehouse.blob.core.windows.net', encryptionType=''),\n MountInfo(mountPoint='/databricks-datasets', source='databricks-datasets', encryptionType=''),\n MountInfo(mountPoint='/mnt/work', source='wasbs://lakehouse@storagedatalakehouse.blob.core.windows.net/work', encryptionType=''),\n MountInfo(mountPoint='/mnt/dev', source='wasbs://lakehouse@storagedatalakehouse.blob.core.windows.net/dev', encryptionType=''),\n MountInfo(mountPoint='/mnt/batch', source='wasbs://batch@storagedatalakehouse.blob.core.windows.net', encryptionType=''),\n MountInfo(mountPoint='/databricks/mlflow-tracking', source='databricks/mlflow-tracking', encryptionType=''),\n MountInfo(mountPoint='/databricks-results', source='databricks-results', encryptionType=''),\n MountInfo(mountPoint='/mnt/raw', source='wasbs://lakehouse@storagedatalakehouse.blob.core.windows.net/raw', encryptionType=''),\n MountInfo(mountPoint='/databricks/mlflow-registry', source='databricks/mlflow-registry', encryptionType=''),\n MountInfo(mountPoint='/mnt/bronze', source='wasbs://lakehouse@storagedatalakehouse.blob.core.windows.net/bronze', encryptionType=''),\n MountInfo(mountPoint='/mnt/adf/posicao_estoque', source='wasbs://adf@storagedatalakehouse.blob.core.windows.net/posicao_estoque', encryptionType=''),\n MountInfo(mountPoint='/', source='DatabricksRoot', encryptionType='')]"
     ]
    }
   ],
   "source": [
    "dbutils.fs.mounts()"
   ]
  }
 ],
 "metadata": {
  "application/vnd.databricks.v1+notebook": {
   "dashboards": [],
   "language": "python",
   "notebookMetadata": {
    "pythonIndentUnit": 4
   },
   "notebookName": "List Mount Points",
   "notebookOrigID": 4187446591371088,
   "widgets": {}
  }
 },
 "nbformat": 4,
 "nbformat_minor": 0
}
