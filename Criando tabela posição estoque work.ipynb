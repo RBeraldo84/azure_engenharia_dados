{
 "cells": [
  {
   "cell_type": "markdown",
   "metadata": {
    "application/vnd.databricks.v1+cell": {
     "cellMetadata": {
      "byteLimit": 2048000,
      "rowLimit": 10000
     },
     "inputWidgets": {},
     "nuid": "cfbc67c5-49b8-454d-8b1a-1ddd00138225",
     "showTitle": false,
     "title": ""
    }
   },
   "source": [
    "# Tabela Posição Estoque Work"
   ]
  },
  {
   "cell_type": "markdown",
   "metadata": {
    "application/vnd.databricks.v1+cell": {
     "cellMetadata": {
      "byteLimit": 2048000,
      "rowLimit": 10000
     },
     "inputWidgets": {},
     "nuid": "c7ea0381-2bb1-401d-a22f-b58ce24b2dc9",
     "showTitle": false,
     "title": ""
    }
   },
   "source": [
    "## Imports"
   ]
  },
  {
   "cell_type": "code",
   "execution_count": 0,
   "metadata": {
    "application/vnd.databricks.v1+cell": {
     "cellMetadata": {
      "byteLimit": 2048000,
      "rowLimit": 10000
     },
     "inputWidgets": {},
     "nuid": "57c0e9a0-eca0-42fd-83ce-455689852d8e",
     "showTitle": false,
     "title": ""
    }
   },
   "outputs": [],
   "source": [
    "from pyspark.sql.functions import *\n",
    "from pyspark.sql.types import *"
   ]
  },
  {
   "cell_type": "markdown",
   "metadata": {
    "application/vnd.databricks.v1+cell": {
     "cellMetadata": {
      "byteLimit": 2048000,
      "rowLimit": 10000
     },
     "inputWidgets": {},
     "nuid": "e2621a4e-72b8-43f5-a076-5cdeca4676cd",
     "showTitle": false,
     "title": ""
    }
   },
   "source": [
    "## Análise Inicial"
   ]
  },
  {
   "cell_type": "code",
   "execution_count": 0,
   "metadata": {
    "application/vnd.databricks.v1+cell": {
     "cellMetadata": {
      "byteLimit": 2048000,
      "rowLimit": 10000
     },
     "inputWidgets": {},
     "nuid": "1661e740-3a4f-4dce-b9b7-70869a102035",
     "showTitle": false,
     "title": ""
    }
   },
   "outputs": [],
   "source": [
    "posicao_estoque = spark.sql(\"SELECT * FROM raw.posicao_estoque_raw\")\n",
    "posicao_estoque.display()"
   ]
  },
  {
   "cell_type": "markdown",
   "metadata": {
    "application/vnd.databricks.v1+cell": {
     "cellMetadata": {
      "byteLimit": 2048000,
      "rowLimit": 10000
     },
     "inputWidgets": {},
     "nuid": "8cb02d7a-cf2a-425b-a572-676d5a3498b5",
     "showTitle": false,
     "title": ""
    }
   },
   "source": [
    "## Casting"
   ]
  },
  {
   "cell_type": "code",
   "execution_count": 0,
   "metadata": {
    "application/vnd.databricks.v1+cell": {
     "cellMetadata": {
      "byteLimit": 2048000,
      "rowLimit": 10000
     },
     "inputWidgets": {},
     "nuid": "cdd27558-8443-4d4d-96ca-2f7f68ffc102",
     "showTitle": false,
     "title": ""
    }
   },
   "outputs": [],
   "source": [
    "posicao_estoque = posicao_estoque.withColumn('DATA', to_date('DATA', 'yyyy-MM-dd')) \\\n",
    "    .withColumn('CMV', regexp_replace('CMV', ',', '.').cast(DoubleType())) \\\n",
    "    .withColumn('ESTOQUE_VALOR', regexp_replace('ESTOQUE_VALOR', ',', '.').cast(DoubleType())) \\\n",
    "    .withColumn('ESTOQUE_QTDE', regexp_replace('ESTOQUE_QTDE', ',', '.').cast(IntegerType())) \\\n",
    "    .withColumn('VENDA_VALOR', regexp_replace('VENDA_VALOR', ',', '.').cast(DoubleType())) \\\n",
    "    .withColumn('VENDA_QTDE', regexp_replace('VENDA_QTDE', ',', '.').cast(IntegerType())) \\\n",
    "    .withColumn('MARGEM_FINAL', regexp_replace('MARGEM_FINAL', ',', '.').cast(DoubleType())) \\\n",
    "    .withColumn('VENDA_LIQUIDA_FINAL', regexp_replace('VENDA_LIQUIDA_FINAL', ',', '.').cast(DoubleType())) \\\n",
    "    .withColumn('PRODUTO', regexp_replace('PRODUTO', ',', '.').cast(IntegerType())) \\\n",
    "    .withColumn('LOJA', regexp_replace('LOJA', ',', '.').cast(IntegerType()))"
   ]
  },
  {
   "cell_type": "markdown",
   "metadata": {
    "application/vnd.databricks.v1+cell": {
     "cellMetadata": {
      "byteLimit": 2048000,
      "rowLimit": 10000
     },
     "inputWidgets": {},
     "nuid": "8c4d70f1-ecc0-4f82-a1ff-785a9161858d",
     "showTitle": false,
     "title": ""
    }
   },
   "source": [
    "## Renomeando e Organizando as Colunas"
   ]
  },
  {
   "cell_type": "code",
   "execution_count": 0,
   "metadata": {
    "application/vnd.databricks.v1+cell": {
     "cellMetadata": {
      "byteLimit": 2048000,
      "rowLimit": 10000
     },
     "inputWidgets": {},
     "nuid": "9b5fb913-67cc-40b8-afc8-e5e7a7f2bbaa",
     "showTitle": false,
     "title": ""
    }
   },
   "outputs": [],
   "source": [
    "posicao_estoque = posicao_estoque.withColumnRenamed('DATA', 'data_extracao') \\\n",
    "    .withColumnRenamed('CMV', 'custo_mercadoria_vendida') \\\n",
    "    .withColumnRenamed('ESTOQUE_VALOR', 'estoque_valor') \\\n",
    "    .withColumnRenamed('ESTOQUE_QTDE', 'estoque_quantidade') \\\n",
    "    .withColumnRenamed('VENDA_VALOR', 'venda_total') \\\n",
    "    .withColumnRenamed('VENDA_QTDE', 'venda_quantidade') \\\n",
    "    .withColumnRenamed('MARGEM_FINAL', 'margem') \\\n",
    "    .withColumnRenamed('VENDA_LIQUIDA_FINAL', 'venda_liquida') \\\n",
    "    .withColumnRenamed('PRODUTO', 'cod_produto') \\\n",
    "    .withColumnRenamed('LOJA', 'cod_loja')"
   ]
  },
  {
   "cell_type": "code",
   "execution_count": 0,
   "metadata": {
    "application/vnd.databricks.v1+cell": {
     "cellMetadata": {
      "byteLimit": 2048000,
      "rowLimit": 10000
     },
     "inputWidgets": {},
     "nuid": "2ec9824d-8077-42f4-886f-f6867ae09ee3",
     "showTitle": false,
     "title": ""
    }
   },
   "outputs": [],
   "source": [
    "posicao_estoque = posicao_estoque[['data_extracao',\n",
    " 'cod_loja',\n",
    " 'cod_produto',\n",
    " 'custo_mercadoria_vendida',\n",
    " 'estoque_valor',\n",
    " 'estoque_quantidade',\n",
    " 'venda_total',\n",
    " 'venda_quantidade',\n",
    " 'margem',\n",
    " 'venda_liquida']]"
   ]
  },
  {
   "cell_type": "code",
   "execution_count": 0,
   "metadata": {
    "application/vnd.databricks.v1+cell": {
     "cellMetadata": {
      "byteLimit": 2048000,
      "rowLimit": 10000
     },
     "inputWidgets": {},
     "nuid": "78e028cf-07f2-48b9-97a4-5635a352a8a2",
     "showTitle": false,
     "title": ""
    }
   },
   "outputs": [],
   "source": [
    "posicao_estoque.display()"
   ]
  },
  {
   "cell_type": "markdown",
   "metadata": {
    "application/vnd.databricks.v1+cell": {
     "cellMetadata": {
      "byteLimit": 2048000,
      "rowLimit": 10000
     },
     "inputWidgets": {},
     "nuid": "43503e41-0ea0-4e08-9140-64ccc18fa26f",
     "showTitle": false,
     "title": ""
    }
   },
   "source": [
    "## Removendo linhas duplicadas"
   ]
  },
  {
   "cell_type": "code",
   "execution_count": 0,
   "metadata": {
    "application/vnd.databricks.v1+cell": {
     "cellMetadata": {
      "byteLimit": 2048000,
      "rowLimit": 10000
     },
     "inputWidgets": {},
     "nuid": "f8863d07-741f-498c-a9f4-7c7e793fddeb",
     "showTitle": false,
     "title": ""
    }
   },
   "outputs": [],
   "source": [
    "posicao_estoque = posicao_estoque.coalesce(1).dropDuplicates()"
   ]
  },
  {
   "cell_type": "markdown",
   "metadata": {
    "application/vnd.databricks.v1+cell": {
     "cellMetadata": {
      "byteLimit": 2048000,
      "rowLimit": 10000
     },
     "inputWidgets": {},
     "nuid": "9acaeb18-ce91-421d-a8f4-6c45aff066bd",
     "showTitle": false,
     "title": ""
    }
   },
   "source": [
    "## Salvando Dados"
   ]
  },
  {
   "cell_type": "code",
   "execution_count": 0,
   "metadata": {
    "application/vnd.databricks.v1+cell": {
     "cellMetadata": {
      "byteLimit": 2048000,
      "rowLimit": 10000
     },
     "inputWidgets": {},
     "nuid": "f92c9ed9-38ef-44f5-903c-912ab71e98b6",
     "showTitle": false,
     "title": ""
    }
   },
   "outputs": [],
   "source": [
    "posicao_estoque.write \\\n",
    "    .option('path', 'mnt/work/posicao_estoque_main_work') \\\n",
    "    .partitionBy(['data_extracao', 'cod_loja', 'cod_produto']) \\\n",
    "    .mode('overwrite') \\\n",
    "    .saveAsTable('work.posicao_estoque_main_work')"
   ]
  },
  {
   "cell_type": "markdown",
   "metadata": {
    "application/vnd.databricks.v1+cell": {
     "cellMetadata": {
      "byteLimit": 2048000,
      "rowLimit": 10000
     },
     "inputWidgets": {},
     "nuid": "af71c589-30ba-423c-abe9-8f69ca986f03",
     "showTitle": false,
     "title": ""
    }
   },
   "source": [
    "## Otimizando"
   ]
  },
  {
   "cell_type": "code",
   "execution_count": 0,
   "metadata": {
    "application/vnd.databricks.v1+cell": {
     "cellMetadata": {
      "byteLimit": 2048000,
      "implicitDf": true,
      "rowLimit": 10000
     },
     "inputWidgets": {},
     "nuid": "406bb12e-ea29-4337-9312-3033b2298206",
     "showTitle": false,
     "title": ""
    }
   },
   "outputs": [
    {
     "output_type": "display_data",
     "data": {
      "text/html": [
       "<style scoped>\n  .table-result-container {\n    max-height: 300px;\n    overflow: auto;\n  }\n  table, th, td {\n    border: 1px solid black;\n    border-collapse: collapse;\n  }\n  th, td {\n    padding: 5px;\n  }\n  th {\n    text-align: left;\n  }\n</style><div class='table-result-container'><table class='table-result'><thead style='background-color: white'><tr><th>path</th><th>metrics</th></tr></thead><tbody><tr><td>dbfs:/mnt/dev/posicao_estoque_main_dev</td><td>List(0, 0, List(null, null, 0.0, 0, 0), List(null, null, 0.0, 0, 0), 100, null, 0, 100, 100, true, 0, 0, 1679945246112, 1679945248585, 8, 0, null)</td></tr></tbody></table></div>"
      ]
     },
     "metadata": {
      "application/vnd.databricks.v1+output": {
       "addedWidgets": {},
       "aggData": [],
       "aggError": "",
       "aggOverflow": false,
       "aggSchema": [],
       "aggSeriesLimitReached": false,
       "aggType": "",
       "arguments": {},
       "columnCustomDisplayInfos": {},
       "data": [
        [
         "dbfs:/mnt/dev/posicao_estoque_main_dev",
         [
          0,
          0,
          [
           null,
           null,
           0.0,
           0,
           0
          ],
          [
           null,
           null,
           0.0,
           0,
           0
          ],
          100,
          null,
          0,
          100,
          100,
          true,
          0,
          0,
          1679945246112,
          1679945248585,
          8,
          0,
          null
         ]
        ]
       ],
       "datasetInfos": [],
       "dbfsResultPath": null,
       "isJsonSchema": true,
       "metadata": {},
       "overflow": false,
       "plotOptions": {
        "customPlotOptions": {},
        "displayType": "table",
        "pivotAggregation": null,
        "pivotColumns": null,
        "xColumns": null,
        "yColumns": null
       },
       "removedWidgets": [],
       "schema": [
        {
         "metadata": "{}",
         "name": "path",
         "type": "\"string\""
        },
        {
         "metadata": "{}",
         "name": "metrics",
         "type": "{\"type\":\"struct\",\"fields\":[{\"name\":\"numFilesAdded\",\"type\":\"long\",\"nullable\":false,\"metadata\":{}},{\"name\":\"numFilesRemoved\",\"type\":\"long\",\"nullable\":false,\"metadata\":{}},{\"name\":\"filesAdded\",\"type\":{\"type\":\"struct\",\"fields\":[{\"name\":\"min\",\"type\":\"long\",\"nullable\":true,\"metadata\":{}},{\"name\":\"max\",\"type\":\"long\",\"nullable\":true,\"metadata\":{}},{\"name\":\"avg\",\"type\":\"double\",\"nullable\":false,\"metadata\":{}},{\"name\":\"totalFiles\",\"type\":\"long\",\"nullable\":false,\"metadata\":{}},{\"name\":\"totalSize\",\"type\":\"long\",\"nullable\":false,\"metadata\":{}}]},\"nullable\":true,\"metadata\":{}},{\"name\":\"filesRemoved\",\"type\":{\"type\":\"struct\",\"fields\":[{\"name\":\"min\",\"type\":\"long\",\"nullable\":true,\"metadata\":{}},{\"name\":\"max\",\"type\":\"long\",\"nullable\":true,\"metadata\":{}},{\"name\":\"avg\",\"type\":\"double\",\"nullable\":false,\"metadata\":{}},{\"name\":\"totalFiles\",\"type\":\"long\",\"nullable\":false,\"metadata\":{}},{\"name\":\"totalSize\",\"type\":\"long\",\"nullable\":false,\"metadata\":{}}]},\"nullable\":true,\"metadata\":{}},{\"name\":\"partitionsOptimized\",\"type\":\"long\",\"nullable\":false,\"metadata\":{}},{\"name\":\"zOrderStats\",\"type\":{\"type\":\"struct\",\"fields\":[{\"name\":\"strategyName\",\"type\":\"string\",\"nullable\":true,\"metadata\":{}},{\"name\":\"inputCubeFiles\",\"type\":{\"type\":\"struct\",\"fields\":[{\"name\":\"num\",\"type\":\"long\",\"nullable\":false,\"metadata\":{}},{\"name\":\"size\",\"type\":\"long\",\"nullable\":false,\"metadata\":{}}]},\"nullable\":true,\"metadata\":{}},{\"name\":\"inputOtherFiles\",\"type\":{\"type\":\"struct\",\"fields\":[{\"name\":\"num\",\"type\":\"long\",\"nullable\":false,\"metadata\":{}},{\"name\":\"size\",\"type\":\"long\",\"nullable\":false,\"metadata\":{}}]},\"nullable\":true,\"metadata\":{}},{\"name\":\"inputNumCubes\",\"type\":\"long\",\"nullable\":false,\"metadata\":{}},{\"name\":\"mergedFiles\",\"type\":{\"type\":\"struct\",\"fields\":[{\"name\":\"num\",\"type\":\"long\",\"nullable\":false,\"metadata\":{}},{\"name\":\"size\",\"type\":\"long\",\"nullable\":false,\"metadata\":{}}]},\"nullable\":true,\"metadata\":{}},{\"name\":\"numOutputCubes\",\"type\":\"long\",\"nullable\":false,\"metadata\":{}},{\"name\":\"mergedNumCubes\",\"type\":\"long\",\"nullable\":true,\"metadata\":{}}]},\"nullable\":true,\"metadata\":{}},{\"name\":\"numBatches\",\"type\":\"long\",\"nullable\":false,\"metadata\":{}},{\"name\":\"totalConsideredFiles\",\"type\":\"long\",\"nullable\":false,\"metadata\":{}},{\"name\":\"totalFilesSkipped\",\"type\":\"long\",\"nullable\":false,\"metadata\":{}},{\"name\":\"preserveInsertionOrder\",\"type\":\"boolean\",\"nullable\":false,\"metadata\":{}},{\"name\":\"numFilesSkippedToReduceWriteAmplification\",\"type\":\"long\",\"nullable\":false,\"metadata\":{}},{\"name\":\"numBytesSkippedToReduceWriteAmplification\",\"type\":\"long\",\"nullable\":false,\"metadata\":{}},{\"name\":\"startTimeMs\",\"type\":\"long\",\"nullable\":false,\"metadata\":{}},{\"name\":\"endTimeMs\",\"type\":\"long\",\"nullable\":false,\"metadata\":{}},{\"name\":\"totalClusterParallelism\",\"type\":\"long\",\"nullable\":false,\"metadata\":{}},{\"name\":\"totalScheduledTasks\",\"type\":\"long\",\"nullable\":false,\"metadata\":{}},{\"name\":\"autoCompactParallelismStats\",\"type\":{\"type\":\"struct\",\"fields\":[{\"name\":\"maxClusterActiveParallelism\",\"type\":\"long\",\"nullable\":true,\"metadata\":{}},{\"name\":\"minClusterActiveParallelism\",\"type\":\"long\",\"nullable\":true,\"metadata\":{}},{\"name\":\"maxSessionActiveParallelism\",\"type\":\"long\",\"nullable\":true,\"metadata\":{}},{\"name\":\"minSessionActiveParallelism\",\"type\":\"long\",\"nullable\":true,\"metadata\":{}}]},\"nullable\":true,\"metadata\":{}}]}"
        }
       ],
       "type": "table"
      }
     },
     "output_type": "display_data"
    }
   ],
   "source": [
    "%sql\n",
    "OPTIMIZE work.posicao_estoque_main_work"
   ]
  }
 ],
 "metadata": {
  "application/vnd.databricks.v1+notebook": {
   "dashboards": [],
   "language": "python",
   "notebookMetadata": {
    "mostRecentlyExecutedCommandWithImplicitDF": {
     "commandId": 1534154585745955,
     "dataframes": [
      "_sqldf"
     ]
    },
    "pythonIndentUnit": 4
   },
   "notebookName": "Criando tabela posição estoque work",
   "notebookOrigID": 1534154585745938,
   "widgets": {}
  }
 },
 "nbformat": 4,
 "nbformat_minor": 0
}
