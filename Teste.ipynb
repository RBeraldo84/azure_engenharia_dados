{
 "cells": [
  {
   "cell_type": "code",
   "execution_count": 0,
   "metadata": {
    "application/vnd.databricks.v1+cell": {
     "cellMetadata": {
      "byteLimit": 2048000,
      "rowLimit": 10000
     },
     "inputWidgets": {},
     "nuid": "f39cd167-6780-468c-88e6-695740c966af",
     "showTitle": false,
     "title": ""
    }
   },
   "outputs": [
    {
     "output_type": "stream",
     "name": "stdout",
     "output_type": "stream",
     "text": [
      "Out[1]: True"
     ]
    }
   ],
   "source": [
    "container_name = \"adf\"\n",
    "storage_account = \"storagedatalakehouse\"\n",
    "key = dbutils.secrets.get(scope=\"senhas-data-lake-house\", key=\"storage-lakehouse\")\n",
    "\n",
    "dbutils.fs.mount(\n",
    "  source = f\"wasbs://{container_name}@{storage_account}.blob.core.windows.net\",\n",
    "  mount_point = \"/mnt/adfraw\",\n",
    "  extra_configs = {f\"fs.azure.account.key.{storage_account}.blob.core.windows.net\":key})"
   ]
  },
  {
   "cell_type": "code",
   "execution_count": 0,
   "metadata": {
    "application/vnd.databricks.v1+cell": {
     "cellMetadata": {
      "byteLimit": 2048000,
      "implicitDf": true,
      "rowLimit": 10000
     },
     "inputWidgets": {},
     "nuid": "eb11748c-00b9-4f01-bf28-a4e0bf605ecc",
     "showTitle": false,
     "title": ""
    }
   },
   "outputs": [
    {
     "output_type": "display_data",
     "data": {
      "text/html": [
       "<style scoped>\n  .table-result-container {\n    max-height: 300px;\n    overflow: auto;\n  }\n  table, th, td {\n    border: 1px solid black;\n    border-collapse: collapse;\n  }\n  th, td {\n    padding: 5px;\n  }\n  th {\n    text-align: left;\n  }\n</style><div class='table-result-container'><table class='table-result'><thead style='background-color: white'><tr><th>databaseName</th></tr></thead><tbody><tr><td>dataquality</td></tr><tr><td>default</td></tr><tr><td>dev</td></tr><tr><td>raw</td></tr><tr><td>refined</td></tr><tr><td>sensitive</td></tr><tr><td>work</td></tr></tbody></table></div>"
      ]
     },
     "metadata": {
      "application/vnd.databricks.v1+output": {
       "addedWidgets": {},
       "aggData": [],
       "aggError": "",
       "aggOverflow": false,
       "aggSchema": [],
       "aggSeriesLimitReached": false,
       "aggType": "",
       "arguments": {},
       "columnCustomDisplayInfos": {},
       "data": [
        [
         "dataquality"
        ],
        [
         "default"
        ],
        [
         "dev"
        ],
        [
         "raw"
        ],
        [
         "refined"
        ],
        [
         "sensitive"
        ],
        [
         "work"
        ]
       ],
       "datasetInfos": [],
       "dbfsResultPath": null,
       "isJsonSchema": true,
       "metadata": {},
       "overflow": false,
       "plotOptions": {
        "customPlotOptions": {},
        "displayType": "table",
        "pivotAggregation": null,
        "pivotColumns": null,
        "xColumns": null,
        "yColumns": null
       },
       "removedWidgets": [],
       "schema": [
        {
         "metadata": "{}",
         "name": "databaseName",
         "type": "\"string\""
        }
       ],
       "type": "table"
      }
     },
     "output_type": "display_data"
    }
   ],
   "source": [
    "%sql\n",
    "SHOW SCHEMAS"
   ]
  },
  {
   "cell_type": "code",
   "execution_count": 0,
   "metadata": {
    "application/vnd.databricks.v1+cell": {
     "cellMetadata": {
      "byteLimit": 2048000,
      "rowLimit": 10000
     },
     "inputWidgets": {},
     "nuid": "f2c4d8d5-8309-4e81-9b43-ea7ea9747eda",
     "showTitle": false,
     "title": ""
    }
   },
   "outputs": [
    {
     "output_type": "stream",
     "name": "stdout",
     "output_type": "stream",
     "text": [
      "2023-03-30\n"
     ]
    }
   ],
   "source": [
    "from datetime import datetime\n",
    "\n",
    "data = str(datetime.now().date())\n",
    "\n",
    "print(data)"
   ]
  },
  {
   "cell_type": "code",
   "execution_count": 0,
   "metadata": {
    "application/vnd.databricks.v1+cell": {
     "cellMetadata": {
      "byteLimit": 2048000,
      "implicitDf": true,
      "rowLimit": 10000
     },
     "inputWidgets": {},
     "nuid": "60e38b8f-da16-447a-8676-8481c7144a26",
     "showTitle": false,
     "title": ""
    }
   },
   "outputs": [
    {
     "output_type": "display_data",
     "data": {
      "text/html": [
       "<style scoped>\n  .table-result-container {\n    max-height: 300px;\n    overflow: auto;\n  }\n  table, th, td {\n    border: 1px solid black;\n    border-collapse: collapse;\n  }\n  th, td {\n    padding: 5px;\n  }\n  th {\n    text-align: left;\n  }\n</style><div class='table-result-container'><table class='table-result'><thead style='background-color: white'><tr></tr></thead><tbody></tbody></table></div>"
      ]
     },
     "metadata": {
      "application/vnd.databricks.v1+output": {
       "addedWidgets": {},
       "aggData": [],
       "aggError": "",
       "aggOverflow": false,
       "aggSchema": [],
       "aggSeriesLimitReached": false,
       "aggType": "",
       "arguments": {},
       "columnCustomDisplayInfos": {},
       "data": [],
       "datasetInfos": [],
       "dbfsResultPath": null,
       "isJsonSchema": true,
       "metadata": {},
       "overflow": false,
       "plotOptions": {
        "customPlotOptions": {},
        "displayType": "table",
        "pivotAggregation": null,
        "pivotColumns": null,
        "xColumns": null,
        "yColumns": null
       },
       "removedWidgets": [],
       "schema": [],
       "type": "table"
      }
     },
     "output_type": "display_data"
    }
   ],
   "source": [
    "%sql\n",
    "DROP DATABASE bronze cascade"
   ]
  },
  {
   "cell_type": "code",
   "execution_count": 0,
   "metadata": {
    "application/vnd.databricks.v1+cell": {
     "cellMetadata": {
      "byteLimit": 2048000,
      "rowLimit": 10000
     },
     "inputWidgets": {},
     "nuid": "54d39882-d3d1-491d-a715-b576c7d81ea3",
     "showTitle": false,
     "title": ""
    }
   },
   "outputs": [
    {
     "output_type": "display_data",
     "data": {
      "text/html": [
       "<style scoped>\n  .table-result-container {\n    max-height: 300px;\n    overflow: auto;\n  }\n  table, th, td {\n    border: 1px solid black;\n    border-collapse: collapse;\n  }\n  th, td {\n    padding: 5px;\n  }\n  th {\n    text-align: left;\n  }\n</style><div class='table-result-container'><table class='table-result'><thead style='background-color: white'><tr><th>mountPoint</th><th>source</th><th>encryptionType</th></tr></thead><tbody><tr><td>/mnt/adfraw</td><td>wasbs://adfraw@storagedatalakehouse.blob.core.windows.net</td><td></td></tr><tr><td>/mnt/iotdata</td><td>wasbs://lakehouse2@storagedatalakehouse.blob.core.windows.net</td><td></td></tr><tr><td>/databricks-datasets</td><td>databricks-datasets</td><td></td></tr><tr><td>/mnt/batch</td><td>wasbs://batch@storagedatalakehouse.blob.core.windows.net</td><td></td></tr><tr><td>/databricks/mlflow-tracking</td><td>databricks/mlflow-tracking</td><td></td></tr><tr><td>/databricks-results</td><td>databricks-results</td><td></td></tr><tr><td>/mnt/raw</td><td>wasbs://lakehouse@storagedatalakehouse.blob.core.windows.net/raw</td><td></td></tr><tr><td>/databricks/mlflow-registry</td><td>databricks/mlflow-registry</td><td></td></tr><tr><td>/mnt/adf/posicao_estoque</td><td>wasbs://adf@storagedatalakehouse.blob.core.windows.net/posicao_estoque</td><td></td></tr><tr><td>/</td><td>DatabricksRoot</td><td></td></tr></tbody></table></div>"
      ]
     },
     "metadata": {
      "application/vnd.databricks.v1+output": {
       "addedWidgets": {},
       "aggData": [],
       "aggError": "",
       "aggOverflow": false,
       "aggSchema": [],
       "aggSeriesLimitReached": false,
       "aggType": "",
       "arguments": {},
       "columnCustomDisplayInfos": {},
       "data": [
        [
         "/mnt/adfraw",
         "wasbs://adfraw@storagedatalakehouse.blob.core.windows.net",
         ""
        ],
        [
         "/mnt/iotdata",
         "wasbs://lakehouse2@storagedatalakehouse.blob.core.windows.net",
         ""
        ],
        [
         "/databricks-datasets",
         "databricks-datasets",
         ""
        ],
        [
         "/mnt/batch",
         "wasbs://batch@storagedatalakehouse.blob.core.windows.net",
         ""
        ],
        [
         "/databricks/mlflow-tracking",
         "databricks/mlflow-tracking",
         ""
        ],
        [
         "/databricks-results",
         "databricks-results",
         ""
        ],
        [
         "/mnt/raw",
         "wasbs://lakehouse@storagedatalakehouse.blob.core.windows.net/raw",
         ""
        ],
        [
         "/databricks/mlflow-registry",
         "databricks/mlflow-registry",
         ""
        ],
        [
         "/mnt/adf/posicao_estoque",
         "wasbs://adf@storagedatalakehouse.blob.core.windows.net/posicao_estoque",
         ""
        ],
        [
         "/",
         "DatabricksRoot",
         ""
        ]
       ],
       "datasetInfos": [],
       "dbfsResultPath": null,
       "isJsonSchema": true,
       "metadata": {},
       "overflow": false,
       "plotOptions": {
        "customPlotOptions": {},
        "displayType": "table",
        "pivotAggregation": null,
        "pivotColumns": null,
        "xColumns": null,
        "yColumns": null
       },
       "removedWidgets": [],
       "schema": [
        {
         "metadata": "{}",
         "name": "mountPoint",
         "type": "\"string\""
        },
        {
         "metadata": "{}",
         "name": "source",
         "type": "\"string\""
        },
        {
         "metadata": "{}",
         "name": "encryptionType",
         "type": "\"string\""
        }
       ],
       "type": "table"
      }
     },
     "output_type": "display_data"
    }
   ],
   "source": [
    "display(dbutils.fs.mounts())"
   ]
  },
  {
   "cell_type": "code",
   "execution_count": 0,
   "metadata": {
    "application/vnd.databricks.v1+cell": {
     "cellMetadata": {
      "byteLimit": 2048000,
      "rowLimit": 10000
     },
     "inputWidgets": {},
     "nuid": "70336b76-5555-432b-ba6b-1411308b27f1",
     "showTitle": false,
     "title": ""
    }
   },
   "outputs": [],
   "source": [
    "from pyspark.sql.functions import *\n",
    "from pyspark.sql.types import *"
   ]
  },
  {
   "cell_type": "code",
   "execution_count": 0,
   "metadata": {
    "application/vnd.databricks.v1+cell": {
     "cellMetadata": {
      "byteLimit": 2048000,
      "rowLimit": 10000
     },
     "inputWidgets": {},
     "nuid": "d47e797c-6182-4974-9434-f3bd1f8abdfb",
     "showTitle": false,
     "title": ""
    }
   },
   "outputs": [],
   "source": [
    "posicao_estoque = posicao_estoque.withColumn('DATA', to_date(col('DATA'), 'yyyy-MM-dd')) \\\n",
    "    .withColumn('CMV', regexp_replace(col('CMV'), ',', '.').cast(DoubleType()))"
   ]
  },
  {
   "cell_type": "code",
   "execution_count": 0,
   "metadata": {
    "application/vnd.databricks.v1+cell": {
     "cellMetadata": {
      "byteLimit": 2048000,
      "implicitDf": true,
      "rowLimit": 10000
     },
     "inputWidgets": {},
     "nuid": "6bae6816-45e3-4b0d-8d2f-00c79b1cc5fb",
     "showTitle": false,
     "title": ""
    }
   },
   "outputs": [
    {
     "output_type": "display_data",
     "data": {
      "text/html": [
       "<style scoped>\n  .table-result-container {\n    max-height: 300px;\n    overflow: auto;\n  }\n  table, th, td {\n    border: 1px solid black;\n    border-collapse: collapse;\n  }\n  th, td {\n    padding: 5px;\n  }\n  th {\n    text-align: left;\n  }\n</style><div class='table-result-container'><table class='table-result'><thead style='background-color: white'><tr></tr></thead><tbody></tbody></table></div>"
      ]
     },
     "metadata": {
      "application/vnd.databricks.v1+output": {
       "addedWidgets": {},
       "aggData": [],
       "aggError": "",
       "aggOverflow": false,
       "aggSchema": [],
       "aggSeriesLimitReached": false,
       "aggType": "",
       "arguments": {},
       "columnCustomDisplayInfos": {},
       "data": [],
       "datasetInfos": [],
       "dbfsResultPath": null,
       "isJsonSchema": true,
       "metadata": {},
       "overflow": false,
       "plotOptions": {
        "customPlotOptions": {},
        "displayType": "table",
        "pivotAggregation": null,
        "pivotColumns": null,
        "xColumns": null,
        "yColumns": null
       },
       "removedWidgets": [],
       "schema": [],
       "type": "table"
      }
     },
     "output_type": "display_data"
    }
   ],
   "source": [
    "%sql\n",
    "CREATE DATABASE bronze"
   ]
  },
  {
   "cell_type": "code",
   "execution_count": 0,
   "metadata": {
    "application/vnd.databricks.v1+cell": {
     "cellMetadata": {
      "byteLimit": 2048000,
      "rowLimit": 10000
     },
     "inputWidgets": {},
     "nuid": "debe68ae-a1b5-464c-beda-63fd71748ece",
     "showTitle": false,
     "title": ""
    }
   },
   "outputs": [],
   "source": [
    "posicao_estoque.write \\\n",
    "    .partitionBy(['data_extracao', 'cod_loja', 'cod_produto']) \\\n",
    "    .mode(\"overwrite\") \\\n",
    "    .saveAsTable(\"bronze.posicao_estoque_teste\")"
   ]
  },
  {
   "cell_type": "code",
   "execution_count": 0,
   "metadata": {
    "application/vnd.databricks.v1+cell": {
     "cellMetadata": {
      "byteLimit": 2048000,
      "implicitDf": true,
      "rowLimit": 10000
     },
     "inputWidgets": {},
     "nuid": "48ef3e39-eb07-4f09-a4e6-402e8e7652dd",
     "showTitle": false,
     "title": ""
    }
   },
   "outputs": [
    {
     "output_type": "display_data",
     "data": {
      "text/html": [
       "<style scoped>\n  .table-result-container {\n    max-height: 300px;\n    overflow: auto;\n  }\n  table, th, td {\n    border: 1px solid black;\n    border-collapse: collapse;\n  }\n  th, td {\n    padding: 5px;\n  }\n  th {\n    text-align: left;\n  }\n</style><div class='table-result-container'><table class='table-result'><thead style='background-color: white'><tr><th>path</th><th>metrics</th></tr></thead><tbody><tr><td>dbfs:/user/hive/warehouse/bronze.db/posicao_estoque_teste</td><td>List(0, 0, List(null, null, 0.0, 0, 0), List(null, null, 0.0, 0, 0), 1000, null, 0, 1000, 1000, true, 0, 0, 1679937841218, 1679937844882, 8, 0, null)</td></tr></tbody></table></div>"
      ]
     },
     "metadata": {
      "application/vnd.databricks.v1+output": {
       "addedWidgets": {},
       "aggData": [],
       "aggError": "",
       "aggOverflow": false,
       "aggSchema": [],
       "aggSeriesLimitReached": false,
       "aggType": "",
       "arguments": {},
       "columnCustomDisplayInfos": {},
       "data": [
        [
         "dbfs:/user/hive/warehouse/bronze.db/posicao_estoque_teste",
         [
          0,
          0,
          [
           null,
           null,
           0.0,
           0,
           0
          ],
          [
           null,
           null,
           0.0,
           0,
           0
          ],
          1000,
          null,
          0,
          1000,
          1000,
          true,
          0,
          0,
          1679937841218,
          1679937844882,
          8,
          0,
          null
         ]
        ]
       ],
       "datasetInfos": [],
       "dbfsResultPath": null,
       "isJsonSchema": true,
       "metadata": {},
       "overflow": false,
       "plotOptions": {
        "customPlotOptions": {},
        "displayType": "table",
        "pivotAggregation": null,
        "pivotColumns": null,
        "xColumns": null,
        "yColumns": null
       },
       "removedWidgets": [],
       "schema": [
        {
         "metadata": "{}",
         "name": "path",
         "type": "\"string\""
        },
        {
         "metadata": "{}",
         "name": "metrics",
         "type": "{\"type\":\"struct\",\"fields\":[{\"name\":\"numFilesAdded\",\"type\":\"long\",\"nullable\":false,\"metadata\":{}},{\"name\":\"numFilesRemoved\",\"type\":\"long\",\"nullable\":false,\"metadata\":{}},{\"name\":\"filesAdded\",\"type\":{\"type\":\"struct\",\"fields\":[{\"name\":\"min\",\"type\":\"long\",\"nullable\":true,\"metadata\":{}},{\"name\":\"max\",\"type\":\"long\",\"nullable\":true,\"metadata\":{}},{\"name\":\"avg\",\"type\":\"double\",\"nullable\":false,\"metadata\":{}},{\"name\":\"totalFiles\",\"type\":\"long\",\"nullable\":false,\"metadata\":{}},{\"name\":\"totalSize\",\"type\":\"long\",\"nullable\":false,\"metadata\":{}}]},\"nullable\":true,\"metadata\":{}},{\"name\":\"filesRemoved\",\"type\":{\"type\":\"struct\",\"fields\":[{\"name\":\"min\",\"type\":\"long\",\"nullable\":true,\"metadata\":{}},{\"name\":\"max\",\"type\":\"long\",\"nullable\":true,\"metadata\":{}},{\"name\":\"avg\",\"type\":\"double\",\"nullable\":false,\"metadata\":{}},{\"name\":\"totalFiles\",\"type\":\"long\",\"nullable\":false,\"metadata\":{}},{\"name\":\"totalSize\",\"type\":\"long\",\"nullable\":false,\"metadata\":{}}]},\"nullable\":true,\"metadata\":{}},{\"name\":\"partitionsOptimized\",\"type\":\"long\",\"nullable\":false,\"metadata\":{}},{\"name\":\"zOrderStats\",\"type\":{\"type\":\"struct\",\"fields\":[{\"name\":\"strategyName\",\"type\":\"string\",\"nullable\":true,\"metadata\":{}},{\"name\":\"inputCubeFiles\",\"type\":{\"type\":\"struct\",\"fields\":[{\"name\":\"num\",\"type\":\"long\",\"nullable\":false,\"metadata\":{}},{\"name\":\"size\",\"type\":\"long\",\"nullable\":false,\"metadata\":{}}]},\"nullable\":true,\"metadata\":{}},{\"name\":\"inputOtherFiles\",\"type\":{\"type\":\"struct\",\"fields\":[{\"name\":\"num\",\"type\":\"long\",\"nullable\":false,\"metadata\":{}},{\"name\":\"size\",\"type\":\"long\",\"nullable\":false,\"metadata\":{}}]},\"nullable\":true,\"metadata\":{}},{\"name\":\"inputNumCubes\",\"type\":\"long\",\"nullable\":false,\"metadata\":{}},{\"name\":\"mergedFiles\",\"type\":{\"type\":\"struct\",\"fields\":[{\"name\":\"num\",\"type\":\"long\",\"nullable\":false,\"metadata\":{}},{\"name\":\"size\",\"type\":\"long\",\"nullable\":false,\"metadata\":{}}]},\"nullable\":true,\"metadata\":{}},{\"name\":\"numOutputCubes\",\"type\":\"long\",\"nullable\":false,\"metadata\":{}},{\"name\":\"mergedNumCubes\",\"type\":\"long\",\"nullable\":true,\"metadata\":{}}]},\"nullable\":true,\"metadata\":{}},{\"name\":\"numBatches\",\"type\":\"long\",\"nullable\":false,\"metadata\":{}},{\"name\":\"totalConsideredFiles\",\"type\":\"long\",\"nullable\":false,\"metadata\":{}},{\"name\":\"totalFilesSkipped\",\"type\":\"long\",\"nullable\":false,\"metadata\":{}},{\"name\":\"preserveInsertionOrder\",\"type\":\"boolean\",\"nullable\":false,\"metadata\":{}},{\"name\":\"numFilesSkippedToReduceWriteAmplification\",\"type\":\"long\",\"nullable\":false,\"metadata\":{}},{\"name\":\"numBytesSkippedToReduceWriteAmplification\",\"type\":\"long\",\"nullable\":false,\"metadata\":{}},{\"name\":\"startTimeMs\",\"type\":\"long\",\"nullable\":false,\"metadata\":{}},{\"name\":\"endTimeMs\",\"type\":\"long\",\"nullable\":false,\"metadata\":{}},{\"name\":\"totalClusterParallelism\",\"type\":\"long\",\"nullable\":false,\"metadata\":{}},{\"name\":\"totalScheduledTasks\",\"type\":\"long\",\"nullable\":false,\"metadata\":{}},{\"name\":\"autoCompactParallelismStats\",\"type\":{\"type\":\"struct\",\"fields\":[{\"name\":\"maxClusterActiveParallelism\",\"type\":\"long\",\"nullable\":true,\"metadata\":{}},{\"name\":\"minClusterActiveParallelism\",\"type\":\"long\",\"nullable\":true,\"metadata\":{}},{\"name\":\"maxSessionActiveParallelism\",\"type\":\"long\",\"nullable\":true,\"metadata\":{}},{\"name\":\"minSessionActiveParallelism\",\"type\":\"long\",\"nullable\":true,\"metadata\":{}}]},\"nullable\":true,\"metadata\":{}}]}"
        }
       ],
       "type": "table"
      }
     },
     "output_type": "display_data"
    }
   ],
   "source": [
    "%sql\n",
    "OPTIMIZE bronze.posicao_estoque_teste"
   ]
  },
  {
   "cell_type": "code",
   "execution_count": 0,
   "metadata": {
    "application/vnd.databricks.v1+cell": {
     "cellMetadata": {},
     "inputWidgets": {},
     "nuid": "c5b2bc1b-d999-49fe-9324-e4ec9b049cd7",
     "showTitle": false,
     "title": ""
    }
   },
   "outputs": [],
   "source": [
    "from pyspark.sql.functions import *\n",
    "from pyspark.sql.types import *"
   ]
  },
  {
   "cell_type": "code",
   "execution_count": 0,
   "metadata": {
    "application/vnd.databricks.v1+cell": {
     "cellMetadata": {},
     "inputWidgets": {},
     "nuid": "e4effdd7-7304-41bf-bcbb-f9a3654b3be7",
     "showTitle": false,
     "title": ""
    }
   },
   "outputs": [
    {
     "output_type": "stream",
     "name": "stdout",
     "output_type": "stream",
     "text": [
      "Out[66]: 2110"
     ]
    }
   ],
   "source": [
    "und_produto = spark.sql(\"SELECT DISTINCT Material, UndDoItem FROM raw.pedidos_loja_main_raw\")"
   ]
  },
  {
   "cell_type": "code",
   "execution_count": 0,
   "metadata": {
    "application/vnd.databricks.v1+cell": {
     "cellMetadata": {
      "byteLimit": 2048000,
      "rowLimit": 10000
     },
     "inputWidgets": {},
     "nuid": "89846313-9835-4c70-b8a4-f2b521c0c6fd",
     "showTitle": false,
     "title": ""
    }
   },
   "outputs": [
    {
     "output_type": "display_data",
     "data": {
      "text/html": [
       "<style scoped>\n  .table-result-container {\n    max-height: 300px;\n    overflow: auto;\n  }\n  table, th, td {\n    border: 1px solid black;\n    border-collapse: collapse;\n  }\n  th, td {\n    padding: 5px;\n  }\n  th {\n    text-align: left;\n  }\n</style><div class='table-result-container'><table class='table-result'><thead style='background-color: white'><tr><th>Material</th><th>UndDoItem</th></tr></thead><tbody><tr><td>3141479</td><td>       3,000</td></tr><tr><td>3141479</td><td>       6,000</td></tr><tr><td>3110215</td><td>       1,000</td></tr><tr><td>3110215</td><td>       6,000</td></tr><tr><td>3140890</td><td>       2,000</td></tr><tr><td>3140890</td><td>       1,000</td></tr><tr><td>1017344</td><td>       1,000</td></tr><tr><td>1017344</td><td>       6,000</td></tr><tr><td>3128965</td><td>       1,000</td></tr><tr><td>3128965</td><td>       4,000</td></tr><tr><td>1025482</td><td>      40,000</td></tr><tr><td>1025482</td><td>      10,000</td></tr><tr><td>3118491</td><td>       1,000</td></tr><tr><td>3118491</td><td>       4,000</td></tr><tr><td>3129509</td><td>       2,000</td></tr><tr><td>3129509</td><td>       4,000</td></tr><tr><td>2996408</td><td>       1,000</td></tr><tr><td>2996408</td><td>       3,000</td></tr><tr><td>3111704</td><td>       2,000</td></tr><tr><td>3111704</td><td>       4,000</td></tr><tr><td>3145035</td><td>      17,000</td></tr><tr><td>3145035</td><td>      68,000</td></tr><tr><td>3114914</td><td>       1,000</td></tr><tr><td>3114914</td><td>       2,000</td></tr><tr><td>3133655</td><td>      24,000</td></tr><tr><td>3133655</td><td>      72,000</td></tr><tr><td>3143841</td><td>       6,000</td></tr><tr><td>3143841</td><td>      60,000</td></tr><tr><td>3122546</td><td>       3,000</td></tr><tr><td>3122546</td><td>       6,000</td></tr><tr><td>3133993</td><td>       4,000</td></tr><tr><td>3133993</td><td>       2,000</td></tr></tbody></table></div>"
      ]
     },
     "metadata": {
      "application/vnd.databricks.v1+output": {
       "addedWidgets": {},
       "aggData": [],
       "aggError": "",
       "aggOverflow": false,
       "aggSchema": [],
       "aggSeriesLimitReached": false,
       "aggType": "",
       "arguments": {},
       "columnCustomDisplayInfos": {},
       "data": [
        [
         "3141479",
         "       3,000"
        ],
        [
         "3141479",
         "       6,000"
        ],
        [
         "3110215",
         "       1,000"
        ],
        [
         "3110215",
         "       6,000"
        ],
        [
         "3140890",
         "       2,000"
        ],
        [
         "3140890",
         "       1,000"
        ],
        [
         "1017344",
         "       1,000"
        ],
        [
         "1017344",
         "       6,000"
        ],
        [
         "3128965",
         "       1,000"
        ],
        [
         "3128965",
         "       4,000"
        ],
        [
         "1025482",
         "      40,000"
        ],
        [
         "1025482",
         "      10,000"
        ],
        [
         "3118491",
         "       1,000"
        ],
        [
         "3118491",
         "       4,000"
        ],
        [
         "3129509",
         "       2,000"
        ],
        [
         "3129509",
         "       4,000"
        ],
        [
         "2996408",
         "       1,000"
        ],
        [
         "2996408",
         "       3,000"
        ],
        [
         "3111704",
         "       2,000"
        ],
        [
         "3111704",
         "       4,000"
        ],
        [
         "3145035",
         "      17,000"
        ],
        [
         "3145035",
         "      68,000"
        ],
        [
         "3114914",
         "       1,000"
        ],
        [
         "3114914",
         "       2,000"
        ],
        [
         "3133655",
         "      24,000"
        ],
        [
         "3133655",
         "      72,000"
        ],
        [
         "3143841",
         "       6,000"
        ],
        [
         "3143841",
         "      60,000"
        ],
        [
         "3122546",
         "       3,000"
        ],
        [
         "3122546",
         "       6,000"
        ],
        [
         "3133993",
         "       4,000"
        ],
        [
         "3133993",
         "       2,000"
        ]
       ],
       "datasetInfos": [],
       "dbfsResultPath": null,
       "isJsonSchema": true,
       "metadata": {},
       "overflow": false,
       "plotOptions": {
        "customPlotOptions": {},
        "displayType": "table",
        "pivotAggregation": null,
        "pivotColumns": null,
        "xColumns": null,
        "yColumns": null
       },
       "removedWidgets": [],
       "schema": [
        {
         "metadata": "{}",
         "name": "Material",
         "type": "\"string\""
        },
        {
         "metadata": "{}",
         "name": "UndDoItem",
         "type": "\"string\""
        }
       ],
       "type": "table"
      }
     },
     "output_type": "display_data"
    }
   ],
   "source": [
    "und_produto.join(und_produto.groupBy('Material')\\\n",
    "          .count().where('count = 1'),\n",
    "        on=['Material'],\n",
    "        how='left_anti').display()"
   ]
  },
  {
   "cell_type": "code",
   "execution_count": 0,
   "metadata": {
    "application/vnd.databricks.v1+cell": {
     "cellMetadata": {
      "byteLimit": 2048000,
      "rowLimit": 10000
     },
     "inputWidgets": {},
     "nuid": "066401f3-d7d3-41b1-b46d-bf6baa0fbe9c",
     "showTitle": false,
     "title": ""
    }
   },
   "outputs": [],
   "source": [
    "produtos_und = produtos.join(und_produto, produtos['produto'] == und_produto['cod_produto'], how='left')"
   ]
  },
  {
   "cell_type": "code",
   "execution_count": 0,
   "metadata": {
    "application/vnd.databricks.v1+cell": {
     "cellMetadata": {
      "byteLimit": 2048000,
      "implicitDf": true,
      "rowLimit": 10000
     },
     "inputWidgets": {},
     "nuid": "6c6fed2d-f791-4f27-8142-5ce87a4cac52",
     "showTitle": false,
     "title": ""
    }
   },
   "outputs": [
    {
     "output_type": "display_data",
     "data": {
      "text/html": [
       "<style scoped>\n  .table-result-container {\n    max-height: 300px;\n    overflow: auto;\n  }\n  table, th, td {\n    border: 1px solid black;\n    border-collapse: collapse;\n  }\n  th, td {\n    padding: 5px;\n  }\n  th {\n    text-align: left;\n  }\n</style><div class='table-result-container'><table class='table-result'><thead style='background-color: white'><tr></tr></thead><tbody></tbody></table></div>"
      ]
     },
     "metadata": {
      "application/vnd.databricks.v1+output": {
       "addedWidgets": {},
       "aggData": [],
       "aggError": "",
       "aggOverflow": false,
       "aggSchema": [],
       "aggSeriesLimitReached": false,
       "aggType": "",
       "arguments": {},
       "columnCustomDisplayInfos": {},
       "data": [],
       "datasetInfos": [],
       "dbfsResultPath": null,
       "isJsonSchema": true,
       "metadata": {},
       "overflow": false,
       "plotOptions": {
        "customPlotOptions": {},
        "displayType": "table",
        "pivotAggregation": null,
        "pivotColumns": null,
        "xColumns": null,
        "yColumns": null
       },
       "removedWidgets": [],
       "schema": [],
       "type": "table"
      }
     },
     "output_type": "display_data"
    }
   ],
   "source": [
    "%sql\n",
    "DROP TABLE dev.dados_externos_renda_nominal_work"
   ]
  },
  {
   "cell_type": "code",
   "execution_count": 0,
   "metadata": {
    "application/vnd.databricks.v1+cell": {
     "cellMetadata": {
      "byteLimit": 2048000,
      "implicitDf": true,
      "rowLimit": 10000
     },
     "inputWidgets": {},
     "nuid": "e79f0d06-67fe-4ee6-80c3-2197c2be84ca",
     "showTitle": false,
     "title": ""
    }
   },
   "outputs": [
    {
     "output_type": "display_data",
     "data": {
      "text/html": [
       "<style scoped>\n  .table-result-container {\n    max-height: 300px;\n    overflow: auto;\n  }\n  table, th, td {\n    border: 1px solid black;\n    border-collapse: collapse;\n  }\n  th, td {\n    padding: 5px;\n  }\n  th {\n    text-align: left;\n  }\n</style><div class='table-result-container'><table class='table-result'><thead style='background-color: white'><tr><th>version</th><th>timestamp</th><th>userId</th><th>userName</th><th>operation</th><th>operationParameters</th><th>job</th><th>notebook</th><th>clusterId</th><th>readVersion</th><th>isolationLevel</th><th>isBlindAppend</th><th>operationMetrics</th><th>userMetadata</th><th>engineInfo</th></tr></thead><tbody><tr><td>0</td><td>2023-03-28T04:59:26.000+0000</td><td>3431736339542622</td><td>contato@rodolfomoreira.com.br</td><td>CREATE OR REPLACE TABLE AS SELECT</td><td>Map(isManaged -> true, description -> null, partitionBy -> [\"cod_loja\"], properties -> {})</td><td>null</td><td>List(326164700055505)</td><td>0327-144450-lmwdjngs</td><td>null</td><td>WriteSerializable</td><td>false</td><td>Map(numFiles -> 100, numOutputRows -> 100, numOutputBytes -> 270456)</td><td>null</td><td>Databricks-Runtime/11.3.x-scala2.12</td></tr></tbody></table></div>"
      ]
     },
     "metadata": {
      "application/vnd.databricks.v1+output": {
       "addedWidgets": {},
       "aggData": [],
       "aggError": "",
       "aggOverflow": false,
       "aggSchema": [],
       "aggSeriesLimitReached": false,
       "aggType": "",
       "arguments": {},
       "columnCustomDisplayInfos": {},
       "data": [
        [
         0,
         "2023-03-28T04:59:26.000+0000",
         "3431736339542622",
         "contato@rodolfomoreira.com.br",
         "CREATE OR REPLACE TABLE AS SELECT",
         {
          "description": null,
          "isManaged": "true",
          "partitionBy": "[\"cod_loja\"]",
          "properties": "{}"
         },
         null,
         [
          "326164700055505"
         ],
         "0327-144450-lmwdjngs",
         null,
         "WriteSerializable",
         false,
         {
          "numFiles": "100",
          "numOutputBytes": "270456",
          "numOutputRows": "100"
         },
         null,
         "Databricks-Runtime/11.3.x-scala2.12"
        ]
       ],
       "datasetInfos": [],
       "dbfsResultPath": null,
       "isJsonSchema": true,
       "metadata": {},
       "overflow": false,
       "plotOptions": {
        "customPlotOptions": {},
        "displayType": "table",
        "pivotAggregation": null,
        "pivotColumns": null,
        "xColumns": null,
        "yColumns": null
       },
       "removedWidgets": [],
       "schema": [
        {
         "metadata": "{}",
         "name": "version",
         "type": "\"long\""
        },
        {
         "metadata": "{}",
         "name": "timestamp",
         "type": "\"timestamp\""
        },
        {
         "metadata": "{}",
         "name": "userId",
         "type": "\"string\""
        },
        {
         "metadata": "{}",
         "name": "userName",
         "type": "\"string\""
        },
        {
         "metadata": "{}",
         "name": "operation",
         "type": "\"string\""
        },
        {
         "metadata": "{}",
         "name": "operationParameters",
         "type": "{\"type\":\"map\",\"keyType\":\"string\",\"valueType\":\"string\",\"valueContainsNull\":true}"
        },
        {
         "metadata": "{}",
         "name": "job",
         "type": "{\"type\":\"struct\",\"fields\":[{\"name\":\"jobId\",\"type\":\"string\",\"nullable\":true,\"metadata\":{}},{\"name\":\"jobName\",\"type\":\"string\",\"nullable\":true,\"metadata\":{}},{\"name\":\"runId\",\"type\":\"string\",\"nullable\":true,\"metadata\":{}},{\"name\":\"jobOwnerId\",\"type\":\"string\",\"nullable\":true,\"metadata\":{}},{\"name\":\"triggerType\",\"type\":\"string\",\"nullable\":true,\"metadata\":{}}]}"
        },
        {
         "metadata": "{}",
         "name": "notebook",
         "type": "{\"type\":\"struct\",\"fields\":[{\"name\":\"notebookId\",\"type\":\"string\",\"nullable\":true,\"metadata\":{}}]}"
        },
        {
         "metadata": "{}",
         "name": "clusterId",
         "type": "\"string\""
        },
        {
         "metadata": "{}",
         "name": "readVersion",
         "type": "\"long\""
        },
        {
         "metadata": "{}",
         "name": "isolationLevel",
         "type": "\"string\""
        },
        {
         "metadata": "{}",
         "name": "isBlindAppend",
         "type": "\"boolean\""
        },
        {
         "metadata": "{}",
         "name": "operationMetrics",
         "type": "{\"type\":\"map\",\"keyType\":\"string\",\"valueType\":\"string\",\"valueContainsNull\":true}"
        },
        {
         "metadata": "{}",
         "name": "userMetadata",
         "type": "\"string\""
        },
        {
         "metadata": "{}",
         "name": "engineInfo",
         "type": "\"string\""
        }
       ],
       "type": "table"
      }
     },
     "output_type": "display_data"
    }
   ],
   "source": [
    "%sql\n",
    "DESCRIBE HISTORY dev.dados_externos_renda_nominal_dev"
   ]
  },
  {
   "cell_type": "code",
   "execution_count": 0,
   "metadata": {
    "application/vnd.databricks.v1+cell": {
     "cellMetadata": {
      "byteLimit": 2048000,
      "implicitDf": true,
      "rowLimit": 10000
     },
     "inputWidgets": {},
     "nuid": "bc6c12d8-1a28-4825-b594-6ce65335ddff",
     "showTitle": false,
     "title": ""
    }
   },
   "outputs": [
    {
     "output_type": "display_data",
     "data": {
      "text/html": [
       "<style scoped>\n  .table-result-container {\n    max-height: 300px;\n    overflow: auto;\n  }\n  table, th, td {\n    border: 1px solid black;\n    border-collapse: collapse;\n  }\n  th, td {\n    padding: 5px;\n  }\n  th {\n    text-align: left;\n  }\n</style><div class='table-result-container'><table class='table-result'><thead style='background-color: white'><tr></tr></thead><tbody></tbody></table></div>"
      ]
     },
     "metadata": {
      "application/vnd.databricks.v1+output": {
       "addedWidgets": {},
       "aggData": [],
       "aggError": "",
       "aggOverflow": false,
       "aggSchema": [],
       "aggSeriesLimitReached": false,
       "aggType": "",
       "arguments": {},
       "columnCustomDisplayInfos": {},
       "data": [],
       "datasetInfos": [],
       "dbfsResultPath": null,
       "isJsonSchema": true,
       "metadata": {},
       "overflow": false,
       "plotOptions": {
        "customPlotOptions": {},
        "displayType": "table",
        "pivotAggregation": null,
        "pivotColumns": null,
        "xColumns": null,
        "yColumns": null
       },
       "removedWidgets": [],
       "schema": [],
       "type": "table"
      }
     },
     "output_type": "display_data"
    }
   ],
   "source": [
    "%sql\n",
    "RESTORE TABLE dev.dados_externos_renda_nominal_dev TO VERSION AS OF 0;"
   ]
  },
  {
   "cell_type": "code",
   "execution_count": 0,
   "metadata": {
    "application/vnd.databricks.v1+cell": {
     "cellMetadata": {},
     "inputWidgets": {},
     "nuid": "e8d808a5-45c1-40e7-bc23-9b453358fb11",
     "showTitle": false,
     "title": ""
    }
   },
   "outputs": [],
   "source": [
    "dados_externos_renda_nominal_work.write \\\n",
    "    .option(\"path\", \"/mnt/dev/dados_externos_renda_nominal_dev\") \\\n",
    "    .partitionBy(['cod_loja']) \\\n",
    "    .mode('overwrite') \\\n",
    "    .saveAsTable('dev.dados_externos_renda_nominal_dev')"
   ]
  },
  {
   "cell_type": "code",
   "execution_count": 0,
   "metadata": {
    "application/vnd.databricks.v1+cell": {
     "cellMetadata": {
      "byteLimit": 2048000,
      "rowLimit": 10000
     },
     "inputWidgets": {},
     "nuid": "046fdfb1-1835-4b1e-bca1-ca0aaaec6ce3",
     "showTitle": false,
     "title": ""
    }
   },
   "outputs": [
    {
     "output_type": "stream",
     "name": "stdout",
     "output_type": "stream",
     "text": [
      "Out[2]: [MountInfo(mountPoint='/mnt/adfraw', source='wasbs://adfraw@storagedatalakehouse.blob.core.windows.net', encryptionType=''),\n MountInfo(mountPoint='/mnt/iotdata', source='wasbs://lakehouse2@storagedatalakehouse.blob.core.windows.net', encryptionType=''),\n MountInfo(mountPoint='/databricks-datasets', source='databricks-datasets', encryptionType=''),\n MountInfo(mountPoint='/mnt/work', source='wasbs://lakehouse@storagedatalakehouse.blob.core.windows.net/work', encryptionType=''),\n MountInfo(mountPoint='/mnt/dev', source='wasbs://lakehouse@storagedatalakehouse.blob.core.windows.net/dev', encryptionType=''),\n MountInfo(mountPoint='/mnt/batch', source='wasbs://batch@storagedatalakehouse.blob.core.windows.net', encryptionType=''),\n MountInfo(mountPoint='/databricks/mlflow-tracking', source='databricks/mlflow-tracking', encryptionType=''),\n MountInfo(mountPoint='/databricks-results', source='databricks-results', encryptionType=''),\n MountInfo(mountPoint='/mnt/raw', source='wasbs://lakehouse@storagedatalakehouse.blob.core.windows.net/raw', encryptionType=''),\n MountInfo(mountPoint='/databricks/mlflow-registry', source='databricks/mlflow-registry', encryptionType=''),\n MountInfo(mountPoint='/mnt/bronze', source='wasbs://lakehouse@storagedatalakehouse.blob.core.windows.net/bronze', encryptionType=''),\n MountInfo(mountPoint='/mnt/adf/posicao_estoque', source='wasbs://adf@storagedatalakehouse.blob.core.windows.net/posicao_estoque', encryptionType=''),\n MountInfo(mountPoint='/', source='DatabricksRoot', encryptionType='')]"
     ]
    }
   ],
   "source": [
    "dbutils.fs.mounts()"
   ]
  },
  {
   "cell_type": "code",
   "execution_count": 0,
   "metadata": {
    "application/vnd.databricks.v1+cell": {
     "cellMetadata": {},
     "inputWidgets": {},
     "nuid": "be07c458-796d-4b14-a33c-0d3b4c5ba1f6",
     "showTitle": false,
     "title": ""
    }
   },
   "outputs": [],
   "source": [
    "%sql\n",
    "REVOKE ALL PRIVILEGES ON SCHEMA dev FROM `rodolfo.moreira@rodolfomoreira.com.br`"
   ]
  },
  {
   "cell_type": "code",
   "execution_count": 0,
   "metadata": {
    "application/vnd.databricks.v1+cell": {
     "cellMetadata": {},
     "inputWidgets": {},
     "nuid": "3fc6fee9-d4e8-4bf4-9035-168be7a83171",
     "showTitle": false,
     "title": ""
    }
   },
   "outputs": [],
   "source": [
    "%sql\n",
    "GRANT SELECT ON SCHEMA work TO `rodolfo.moreira@rodolfomoreira.com.br`"
   ]
  },
  {
   "cell_type": "code",
   "execution_count": 0,
   "metadata": {
    "application/vnd.databricks.v1+cell": {
     "cellMetadata": {},
     "inputWidgets": {},
     "nuid": "4b074b4b-8f3f-4ccc-b322-048888a05c39",
     "showTitle": false,
     "title": ""
    }
   },
   "outputs": [],
   "source": [
    "%sql\n",
    "GRANT USAGE ON DATABASE work TO `rodolfo.moreira@rodolfomoreira.com.br`"
   ]
  },
  {
   "cell_type": "code",
   "execution_count": 0,
   "metadata": {
    "application/vnd.databricks.v1+cell": {
     "cellMetadata": {
      "byteLimit": 2048000,
      "implicitDf": true,
      "rowLimit": 10000
     },
     "inputWidgets": {},
     "nuid": "ed2a6e28-5f12-4536-ab19-d581ae89eb24",
     "showTitle": false,
     "title": ""
    }
   },
   "outputs": [
    {
     "output_type": "display_data",
     "data": {
      "text/html": [
       "<style scoped>\n  .table-result-container {\n    max-height: 300px;\n    overflow: auto;\n  }\n  table, th, td {\n    border: 1px solid black;\n    border-collapse: collapse;\n  }\n  th, td {\n    padding: 5px;\n  }\n  th {\n    text-align: left;\n  }\n</style><div class='table-result-container'><table class='table-result'><thead style='background-color: white'><tr><th>data_extracao</th><th>cod_loja</th><th>cod_produto</th><th>venda_quantidade</th><th>custo_mercadoria_vendida</th><th>custo_mercadoria_vendida_unitario</th><th>venda_total</th><th>venda_unitaria</th><th>margem</th><th>margem_unitaria</th></tr></thead><tbody><tr><td>2023-03-29</td><td>94</td><td>3116320</td><td>2</td><td>5.37</td><td>2.69</td><td>9.98</td><td>4.99</td><td>3.91</td><td>1.96</td></tr><tr><td>2023-03-29</td><td>61</td><td>3109717</td><td>2</td><td>46.42</td><td>23.21</td><td>119.98</td><td>59.99</td><td>40.86</td><td>20.43</td></tr><tr><td>2023-03-29</td><td>15</td><td>3129884</td><td>12</td><td>99.99</td><td>8.33</td><td>125.88</td><td>10.49</td><td>14.24</td><td>1.19</td></tr><tr><td>2023-03-29</td><td>84</td><td>3128676</td><td>2</td><td>27.59</td><td>13.8</td><td>71.98</td><td>35.99</td><td>25.49</td><td>12.75</td></tr><tr><td>2023-03-29</td><td>79</td><td>2987764</td><td>2</td><td>6.28</td><td>3.14</td><td>9.98</td><td>4.99</td><td>1.08</td><td>0.54</td></tr><tr><td>2023-03-29</td><td>14</td><td>3129884</td><td>49</td><td>295.1</td><td>6.02</td><td>495.51</td><td>10.11</td><td>24.09</td><td>0.49</td></tr><tr><td>2023-03-29</td><td>57</td><td>3105851</td><td>2</td><td>20.54</td><td>10.27</td><td>33.58</td><td>16.79</td><td>3.88</td><td>1.94</td></tr><tr><td>2023-03-29</td><td>35</td><td>3129240</td><td>15</td><td>36.63</td><td>2.44</td><td>51.61</td><td>3.44</td><td>10.22</td><td>0.68</td></tr><tr><td>2023-03-29</td><td>106</td><td>2987764</td><td>6</td><td>21.27</td><td>3.55</td><td>24.95</td><td>4.16</td><td>1.37</td><td>0.23</td></tr><tr><td>2023-03-29</td><td>23</td><td>3129884</td><td>31</td><td>181.79</td><td>5.86</td><td>304.99</td><td>9.84</td><td>-15.45</td><td>-0.5</td></tr><tr><td>2023-03-29</td><td>102</td><td>2987764</td><td>4</td><td>6.14</td><td>1.54</td><td>15.46</td><td>3.87</td><td>-1.05</td><td>-0.26</td></tr><tr><td>2023-03-29</td><td>58</td><td>3129884</td><td>10</td><td>89.27</td><td>8.93</td><td>105.9</td><td>10.59</td><td>6.84</td><td>0.68</td></tr><tr><td>2023-03-29</td><td>103</td><td>3129884</td><td>31</td><td>91.75</td><td>2.96</td><td>292.69</td><td>9.44</td><td>7.02</td><td>0.23</td></tr><tr><td>2023-03-29</td><td>27</td><td>2987764</td><td>6</td><td>7.34</td><td>1.22</td><td>23.69</td><td>3.95</td><td>0.34</td><td>0.06</td></tr><tr><td>2023-03-29</td><td>8</td><td>3141816</td><td>2</td><td>6.35</td><td>3.18</td><td>11.18</td><td>5.59</td><td>1.79</td><td>0.9</td></tr><tr><td>2023-03-29</td><td>47</td><td>3129884</td><td>11</td><td>103.47</td><td>9.41</td><td>118.89</td><td>10.81</td><td>4.42</td><td>0.4</td></tr><tr><td>2023-03-29</td><td>28</td><td>3129884</td><td>19</td><td>160.64</td><td>8.45</td><td>187.81</td><td>9.88</td><td>-9.12</td><td>-0.48</td></tr><tr><td>2023-03-29</td><td>95</td><td>3129884</td><td>65</td><td>313.79</td><td>4.83</td><td>633.35</td><td>9.74</td><td>-13.73</td><td>-0.21</td></tr><tr><td>2023-03-29</td><td>82</td><td>2987764</td><td>6</td><td>38.12</td><td>6.35</td><td>29.94</td><td>4.99</td><td>2.65</td><td>0.44</td></tr><tr><td>2023-03-29</td><td>43</td><td>3129884</td><td>19</td><td>124.07</td><td>6.53</td><td>199.81</td><td>10.52</td><td>0.18</td><td>0.01</td></tr><tr><td>2023-03-29</td><td>93</td><td>3129884</td><td>13</td><td>75.5</td><td>5.81</td><td>139.87</td><td>10.76</td><td>12.5</td><td>0.96</td></tr><tr><td>2023-03-29</td><td>46</td><td>3116789</td><td>2</td><td>113.13</td><td>56.57</td><td>159.98</td><td>79.99</td><td>3.25</td><td>1.63</td></tr><tr><td>2023-03-29</td><td>59</td><td>2987764</td><td>7</td><td>25.51</td><td>3.64</td><td>34.43</td><td>4.92</td><td>5.74</td><td>0.82</td></tr><tr><td>2023-03-29</td><td>91</td><td>3130269</td><td>2</td><td>6.65</td><td>3.33</td><td>14.98</td><td>7.49</td><td>4.24</td><td>2.12</td></tr><tr><td>2023-03-29</td><td>113</td><td>3129884</td><td>5</td><td>36.5</td><td>7.3</td><td>49.96</td><td>9.99</td><td>-2.32</td><td>-0.46</td></tr><tr><td>2023-03-29</td><td>2</td><td>3124362</td><td>3</td><td>10.51</td><td>3.5</td><td>14.0</td><td>4.67</td><td>2.2</td><td>0.73</td></tr><tr><td>2023-03-29</td><td>28</td><td>3129240</td><td>7</td><td>17.05</td><td>2.44</td><td>18.33</td><td>2.62</td><td>4.11</td><td>0.59</td></tr><tr><td>2023-03-29</td><td>108</td><td>2987764</td><td>5</td><td>15.57</td><td>3.11</td><td>18.72</td><td>3.74</td><td>-1.86</td><td>-0.37</td></tr><tr><td>2023-03-29</td><td>26</td><td>3129884</td><td>18</td><td>170.41</td><td>9.47</td><td>197.82</td><td>10.99</td><td>9.11</td><td>0.51</td></tr><tr><td>2023-03-29</td><td>5</td><td>2992102</td><td>2</td><td>16.67</td><td>8.34</td><td>23.98</td><td>11.99</td><td>5.09</td><td>2.55</td></tr><tr><td>2023-03-29</td><td>55</td><td>3129884</td><td>2</td><td>13.56</td><td>6.78</td><td>19.98</td><td>9.99</td><td>1.17</td><td>0.59</td></tr><tr><td>2023-03-29</td><td>33</td><td>3143820</td><td>2</td><td>10.76</td><td>5.38</td><td>27.98</td><td>13.99</td><td>9.88</td><td>4.94</td></tr><tr><td>2023-03-29</td><td>25</td><td>3094257</td><td>3</td><td>48.75</td><td>16.25</td><td>59.97</td><td>19.99</td><td>5.67</td><td>1.89</td></tr><tr><td>2023-03-29</td><td>66</td><td>3129884</td><td>4</td><td>38.03</td><td>9.51</td><td>45.96</td><td>11.49</td><td>3.68</td><td>0.92</td></tr><tr><td>2023-03-29</td><td>37</td><td>2886287</td><td>5</td><td>7.27</td><td>1.45</td><td>14.95</td><td>2.99</td><td>6.3</td><td>1.26</td></tr><tr><td>2023-03-29</td><td>1</td><td>3135625</td><td>2</td><td>29.68</td><td>14.84</td><td>39.98</td><td>19.99</td><td>6.6</td><td>3.3</td></tr><tr><td>2023-03-29</td><td>33</td><td>3129884</td><td>25</td><td>169.89</td><td>6.8</td><td>264.75</td><td>10.59</td><td>25.32</td><td>1.01</td></tr><tr><td>2023-03-29</td><td>112</td><td>2987764</td><td>3</td><td>9.24</td><td>3.08</td><td>14.97</td><td>4.99</td><td>1.65</td><td>0.55</td></tr><tr><td>2023-03-29</td><td>83</td><td>2987764</td><td>4</td><td>16.56</td><td>4.14</td><td>19.96</td><td>4.99</td><td>1.56</td><td>0.39</td></tr><tr><td>2023-03-29</td><td>65</td><td>3129884</td><td>2</td><td>14.03</td><td>7.02</td><td>25.98</td><td>12.99</td><td>4.87</td><td>2.44</td></tr><tr><td>2023-03-29</td><td>110</td><td>3129884</td><td>3</td><td>20.46</td><td>6.82</td><td>32.97</td><td>10.99</td><td>3.52</td><td>1.17</td></tr><tr><td>2023-03-29</td><td>1</td><td>3129884</td><td>52</td><td>454.73</td><td>8.74</td><td>544.48</td><td>10.47</td><td>21.2</td><td>0.41</td></tr><tr><td>2023-03-29</td><td>104</td><td>3129884</td><td>16</td><td>125.78</td><td>7.86</td><td>160.84</td><td>10.05</td><td>2.22</td><td>0.14</td></tr><tr><td>2023-03-29</td><td>28</td><td>3146446</td><td>2</td><td>24.13</td><td>12.07</td><td>39.98</td><td>19.99</td><td>12.15</td><td>6.08</td></tr><tr><td>2023-03-29</td><td>91</td><td>1031152</td><td>2</td><td>7.56</td><td>3.78</td><td>25.98</td><td>12.99</td><td>11.34</td><td>5.67</td></tr><tr><td>2023-03-29</td><td>108</td><td>3138231</td><td>4</td><td>13.69</td><td>3.42</td><td>23.99</td><td>6.0</td><td>3.88</td><td>0.97</td></tr><tr><td>2023-03-29</td><td>68</td><td>3129240</td><td>3</td><td>5.46</td><td>1.82</td><td>9.99</td><td>3.33</td><td>1.81</td><td>0.6</td></tr><tr><td>2023-03-29</td><td>25</td><td>3129884</td><td>30</td><td>272.42</td><td>9.08</td><td>329.7</td><td>10.99</td><td>26.79</td><td>0.89</td></tr><tr><td>2023-03-29</td><td>14</td><td>3145651</td><td>3</td><td>5.34</td><td>1.78</td><td>8.99</td><td>3.0</td><td>2.81</td><td>0.94</td></tr><tr><td>2023-03-29</td><td>65</td><td>3129240</td><td>2</td><td>3.64</td><td>1.82</td><td>9.98</td><td>4.99</td><td>3.62</td><td>1.81</td></tr><tr><td>2023-03-29</td><td>9</td><td>2987764</td><td>7</td><td>26.03</td><td>3.72</td><td>28.7</td><td>4.1</td><td>0.01</td><td>0.0</td></tr><tr><td>2023-03-29</td><td>41</td><td>3129884</td><td>5</td><td>44.98</td><td>9.0</td><td>64.95</td><td>12.99</td><td>13.97</td><td>2.79</td></tr><tr><td>2023-03-29</td><td>18</td><td>2992102</td><td>2</td><td>18.4</td><td>9.2</td><td>23.98</td><td>11.99</td><td>3.36</td><td>1.68</td></tr><tr><td>2023-03-29</td><td>91</td><td>3148161</td><td>3</td><td>11.48</td><td>3.83</td><td>44.97</td><td>14.99</td><td>21.24</td><td>7.08</td></tr><tr><td>2023-03-29</td><td>64</td><td>3129884</td><td>4</td><td>27.64</td><td>6.91</td><td>45.96</td><td>11.49</td><td>6.25</td><td>1.56</td></tr><tr><td>2023-03-29</td><td>106</td><td>3124362</td><td>2</td><td>7.24</td><td>3.62</td><td>9.34</td><td>4.67</td><td>1.24</td><td>0.62</td></tr><tr><td>2023-03-29</td><td>29</td><td>3116320</td><td>4</td><td>13.88</td><td>3.47</td><td>19.96</td><td>4.99</td><td>6.08</td><td>1.52</td></tr><tr><td>2023-03-29</td><td>79</td><td>1024082</td><td>2</td><td>56.1</td><td>28.05</td><td>31.98</td><td>15.99</td><td>-32.52</td><td>-16.26</td></tr><tr><td>2023-03-29</td><td>1</td><td>2987764</td><td>6</td><td>21.88</td><td>3.65</td><td>29.94</td><td>4.99</td><td>5.29</td><td>0.88</td></tr><tr><td>2023-03-29</td><td>67</td><td>3133879</td><td>2</td><td>11.86</td><td>5.93</td><td>23.78</td><td>11.89</td><td>5.68</td><td>2.84</td></tr><tr><td>2023-03-29</td><td>21</td><td>2987764</td><td>6</td><td>21.96</td><td>3.66</td><td>29.94</td><td>4.99</td><td>5.22</td><td>0.87</td></tr><tr><td>2023-03-29</td><td>53</td><td>3129884</td><td>2</td><td>17.62</td><td>8.81</td><td>19.98</td><td>9.99</td><td>0.51</td><td>0.26</td></tr><tr><td>2023-03-29</td><td>82</td><td>3129884</td><td>11</td><td>152.07</td><td>13.82</td><td>118.89</td><td>10.81</td><td>15.66</td><td>1.42</td></tr><tr><td>2023-03-29</td><td>67</td><td>3129884</td><td>7</td><td>46.77</td><td>6.68</td><td>72.93</td><td>10.42</td><td>7.01</td><td>1.0</td></tr><tr><td>2023-03-29</td><td>115</td><td>3129884</td><td>2</td><td>18.35</td><td>9.18</td><td>19.98</td><td>9.99</td><td>-0.22</td><td>-0.11</td></tr><tr><td>2023-03-29</td><td>108</td><td>3129884</td><td>6</td><td>40.15</td><td>6.69</td><td>59.94</td><td>9.99</td><td>3.74</td><td>0.62</td></tr><tr><td>2023-03-29</td><td>39</td><td>3129884</td><td>18</td><td>129.66</td><td>7.2</td><td>185.82</td><td>10.32</td><td>5.49</td><td>0.31</td></tr><tr><td>2023-03-29</td><td>48</td><td>3125797</td><td>2</td><td>144.72</td><td>72.36</td><td>161.47</td><td>80.74</td><td>1.82</td><td>0.91</td></tr><tr><td>2023-03-29</td><td>83</td><td>3129884</td><td>5</td><td>43.9</td><td>8.78</td><td>57.66</td><td>11.53</td><td>8.42</td><td>1.68</td></tr><tr><td>2023-03-29</td><td>6</td><td>2990472</td><td>2</td><td>292.66</td><td>146.33</td><td>399.98</td><td>199.99</td><td>70.32</td><td>35.16</td></tr><tr><td>2023-03-29</td><td>7</td><td>3129884</td><td>8</td><td>71.39</td><td>8.92</td><td>85.92</td><td>10.74</td><td>6.58</td><td>0.82</td></tr><tr><td>2023-03-29</td><td>37</td><td>1026534</td><td>2</td><td>20.18</td><td>10.09</td><td>29.98</td><td>14.99</td><td>1.92</td><td>0.96</td></tr><tr><td>2023-03-29</td><td>74</td><td>3116320</td><td>6</td><td>20.72</td><td>3.45</td><td>29.94</td><td>4.99</td><td>9.22</td><td>1.54</td></tr><tr><td>2023-03-29</td><td>73</td><td>3129884</td><td>6</td><td>54.47</td><td>9.08</td><td>59.94</td><td>9.99</td><td>-0.08</td><td>-0.01</td></tr><tr><td>2023-03-29</td><td>1</td><td>3094257</td><td>4</td><td>64.94</td><td>16.24</td><td>79.96</td><td>19.99</td><td>7.62</td><td>1.91</td></tr><tr><td>2023-03-29</td><td>94</td><td>3129884</td><td>31</td><td>212.77</td><td>6.86</td><td>330.69</td><td>10.67</td><td>27.76</td><td>0.9</td></tr><tr><td>2023-03-29</td><td>37</td><td>2987764</td><td>7</td><td>28.79</td><td>4.11</td><td>26.19</td><td>3.74</td><td>-5.02</td><td>-0.72</td></tr><tr><td>2023-03-29</td><td>28</td><td>2987764</td><td>3</td><td>11.31</td><td>3.77</td><td>13.73</td><td>4.58</td><td>1.15</td><td>0.38</td></tr><tr><td>2023-03-29</td><td>102</td><td>3129884</td><td>10</td><td>56.06</td><td>5.61</td><td>100.9</td><td>10.09</td><td>3.31</td><td>0.33</td></tr><tr><td>2023-03-29</td><td>95</td><td>2987764</td><td>2</td><td>6.16</td><td>3.08</td><td>9.98</td><td>4.99</td><td>1.1</td><td>0.55</td></tr><tr><td>2023-03-29</td><td>52</td><td>2886287</td><td>2</td><td>3.11</td><td>1.56</td><td>5.98</td><td>2.99</td><td>2.32</td><td>1.16</td></tr><tr><td>2023-03-29</td><td>40</td><td>3129884</td><td>23</td><td>203.93</td><td>8.87</td><td>244.77</td><td>10.64</td><td>18.2</td><td>0.79</td></tr><tr><td>2023-03-29</td><td>44</td><td>3129884</td><td>40</td><td>377.02</td><td>9.43</td><td>417.6</td><td>10.44</td><td>1.94</td><td>0.05</td></tr><tr><td>2023-03-29</td><td>31</td><td>3129884</td><td>24</td><td>206.67</td><td>8.61</td><td>257.76</td><td>10.74</td><td>18.26</td><td>0.76</td></tr><tr><td>2023-03-29</td><td>2</td><td>3129884</td><td>27</td><td>254.61</td><td>9.43</td><td>284.73</td><td>10.55</td><td>3.79</td><td>0.14</td></tr><tr><td>2023-03-29</td><td>12</td><td>2987764</td><td>2</td><td>7.13</td><td>3.57</td><td>9.98</td><td>4.99</td><td>1.93</td><td>0.97</td></tr><tr><td>2023-03-29</td><td>42</td><td>2987764</td><td>4</td><td>14.96</td><td>3.74</td><td>19.96</td><td>4.99</td><td>3.16</td><td>0.79</td></tr><tr><td>2023-03-29</td><td>59</td><td>3129884</td><td>23</td><td>167.95</td><td>7.3</td><td>250.74</td><td>10.9</td><td>16.94</td><td>0.74</td></tr><tr><td>2023-03-29</td><td>11</td><td>2987764</td><td>3</td><td>12.44</td><td>4.15</td><td>14.97</td><td>4.99</td><td>1.15</td><td>0.38</td></tr><tr><td>2023-03-29</td><td>74</td><td>3138231</td><td>2</td><td>7.82</td><td>3.91</td><td>13.98</td><td>6.99</td><td>4.87</td><td>2.44</td></tr><tr><td>2023-03-29</td><td>2</td><td>2992102</td><td>4</td><td>36.94</td><td>9.24</td><td>47.96</td><td>11.99</td><td>6.58</td><td>1.65</td></tr><tr><td>2023-03-29</td><td>54</td><td>3129884</td><td>11</td><td>84.87</td><td>7.72</td><td>107.89</td><td>9.81</td><td>-5.83</td><td>-0.53</td></tr><tr><td>2023-03-29</td><td>28</td><td>2992102</td><td>2</td><td>17.37</td><td>8.69</td><td>23.98</td><td>11.99</td><td>4.39</td><td>2.2</td></tr><tr><td>2023-03-29</td><td>19</td><td>2987764</td><td>2</td><td>7.3</td><td>3.65</td><td>9.98</td><td>4.99</td><td>1.76</td><td>0.88</td></tr><tr><td>2023-03-29</td><td>19</td><td>3129884</td><td>39</td><td>308.36</td><td>7.91</td><td>395.61</td><td>10.14</td><td>-5.41</td><td>-0.14</td></tr><tr><td>2023-03-29</td><td>70</td><td>3129884</td><td>6</td><td>56.54</td><td>9.42</td><td>71.94</td><td>11.99</td><td>8.75</td><td>1.46</td></tr><tr><td>2023-03-29</td><td>69</td><td>2987764</td><td>2</td><td>7.41</td><td>3.71</td><td>9.98</td><td>4.99</td><td>1.65</td><td>0.83</td></tr><tr><td>2023-03-29</td><td>7</td><td>3116789</td><td>2</td><td>158.34</td><td>79.17</td><td>159.98</td><td>79.99</td><td>-13.16</td><td>-6.58</td></tr><tr><td>2023-03-29</td><td>5</td><td>2987764</td><td>16</td><td>56.72</td><td>3.55</td><td>69.87</td><td>4.37</td><td>6.69</td><td>0.42</td></tr><tr><td>2023-03-29</td><td>13</td><td>3129884</td><td>31</td><td>208.74</td><td>6.73</td><td>330.69</td><td>10.67</td><td>35.11</td><td>1.13</td></tr></tbody></table></div>"
      ]
     },
     "metadata": {
      "application/vnd.databricks.v1+output": {
       "addedWidgets": {},
       "aggData": [],
       "aggError": "",
       "aggOverflow": false,
       "aggSchema": [],
       "aggSeriesLimitReached": false,
       "aggType": "",
       "arguments": {},
       "columnCustomDisplayInfos": {},
       "data": [
        [
         "2023-03-29",
         94,
         3116320,
         2,
         5.37,
         2.69,
         9.98,
         4.99,
         3.91,
         1.96
        ],
        [
         "2023-03-29",
         61,
         3109717,
         2,
         46.42,
         23.21,
         119.98,
         59.99,
         40.86,
         20.43
        ],
        [
         "2023-03-29",
         15,
         3129884,
         12,
         99.99,
         8.33,
         125.88,
         10.49,
         14.24,
         1.19
        ],
        [
         "2023-03-29",
         84,
         3128676,
         2,
         27.59,
         13.8,
         71.98,
         35.99,
         25.49,
         12.75
        ],
        [
         "2023-03-29",
         79,
         2987764,
         2,
         6.28,
         3.14,
         9.98,
         4.99,
         1.08,
         0.54
        ],
        [
         "2023-03-29",
         14,
         3129884,
         49,
         295.1,
         6.02,
         495.51,
         10.11,
         24.09,
         0.49
        ],
        [
         "2023-03-29",
         57,
         3105851,
         2,
         20.54,
         10.27,
         33.58,
         16.79,
         3.88,
         1.94
        ],
        [
         "2023-03-29",
         35,
         3129240,
         15,
         36.63,
         2.44,
         51.61,
         3.44,
         10.22,
         0.68
        ],
        [
         "2023-03-29",
         106,
         2987764,
         6,
         21.27,
         3.55,
         24.95,
         4.16,
         1.37,
         0.23
        ],
        [
         "2023-03-29",
         23,
         3129884,
         31,
         181.79,
         5.86,
         304.99,
         9.84,
         -15.45,
         -0.5
        ],
        [
         "2023-03-29",
         102,
         2987764,
         4,
         6.14,
         1.54,
         15.46,
         3.87,
         -1.05,
         -0.26
        ],
        [
         "2023-03-29",
         58,
         3129884,
         10,
         89.27,
         8.93,
         105.9,
         10.59,
         6.84,
         0.68
        ],
        [
         "2023-03-29",
         103,
         3129884,
         31,
         91.75,
         2.96,
         292.69,
         9.44,
         7.02,
         0.23
        ],
        [
         "2023-03-29",
         27,
         2987764,
         6,
         7.34,
         1.22,
         23.69,
         3.95,
         0.34,
         0.06
        ],
        [
         "2023-03-29",
         8,
         3141816,
         2,
         6.35,
         3.18,
         11.18,
         5.59,
         1.79,
         0.9
        ],
        [
         "2023-03-29",
         47,
         3129884,
         11,
         103.47,
         9.41,
         118.89,
         10.81,
         4.42,
         0.4
        ],
        [
         "2023-03-29",
         28,
         3129884,
         19,
         160.64,
         8.45,
         187.81,
         9.88,
         -9.12,
         -0.48
        ],
        [
         "2023-03-29",
         95,
         3129884,
         65,
         313.79,
         4.83,
         633.35,
         9.74,
         -13.73,
         -0.21
        ],
        [
         "2023-03-29",
         82,
         2987764,
         6,
         38.12,
         6.35,
         29.94,
         4.99,
         2.65,
         0.44
        ],
        [
         "2023-03-29",
         43,
         3129884,
         19,
         124.07,
         6.53,
         199.81,
         10.52,
         0.18,
         0.01
        ],
        [
         "2023-03-29",
         93,
         3129884,
         13,
         75.5,
         5.81,
         139.87,
         10.76,
         12.5,
         0.96
        ],
        [
         "2023-03-29",
         46,
         3116789,
         2,
         113.13,
         56.57,
         159.98,
         79.99,
         3.25,
         1.63
        ],
        [
         "2023-03-29",
         59,
         2987764,
         7,
         25.51,
         3.64,
         34.43,
         4.92,
         5.74,
         0.82
        ],
        [
         "2023-03-29",
         91,
         3130269,
         2,
         6.65,
         3.33,
         14.98,
         7.49,
         4.24,
         2.12
        ],
        [
         "2023-03-29",
         113,
         3129884,
         5,
         36.5,
         7.3,
         49.96,
         9.99,
         -2.32,
         -0.46
        ],
        [
         "2023-03-29",
         2,
         3124362,
         3,
         10.51,
         3.5,
         14.0,
         4.67,
         2.2,
         0.73
        ],
        [
         "2023-03-29",
         28,
         3129240,
         7,
         17.05,
         2.44,
         18.33,
         2.62,
         4.11,
         0.59
        ],
        [
         "2023-03-29",
         108,
         2987764,
         5,
         15.57,
         3.11,
         18.72,
         3.74,
         -1.86,
         -0.37
        ],
        [
         "2023-03-29",
         26,
         3129884,
         18,
         170.41,
         9.47,
         197.82,
         10.99,
         9.11,
         0.51
        ],
        [
         "2023-03-29",
         5,
         2992102,
         2,
         16.67,
         8.34,
         23.98,
         11.99,
         5.09,
         2.55
        ],
        [
         "2023-03-29",
         55,
         3129884,
         2,
         13.56,
         6.78,
         19.98,
         9.99,
         1.17,
         0.59
        ],
        [
         "2023-03-29",
         33,
         3143820,
         2,
         10.76,
         5.38,
         27.98,
         13.99,
         9.88,
         4.94
        ],
        [
         "2023-03-29",
         25,
         3094257,
         3,
         48.75,
         16.25,
         59.97,
         19.99,
         5.67,
         1.89
        ],
        [
         "2023-03-29",
         66,
         3129884,
         4,
         38.03,
         9.51,
         45.96,
         11.49,
         3.68,
         0.92
        ],
        [
         "2023-03-29",
         37,
         2886287,
         5,
         7.27,
         1.45,
         14.95,
         2.99,
         6.3,
         1.26
        ],
        [
         "2023-03-29",
         1,
         3135625,
         2,
         29.68,
         14.84,
         39.98,
         19.99,
         6.6,
         3.3
        ],
        [
         "2023-03-29",
         33,
         3129884,
         25,
         169.89,
         6.8,
         264.75,
         10.59,
         25.32,
         1.01
        ],
        [
         "2023-03-29",
         112,
         2987764,
         3,
         9.24,
         3.08,
         14.97,
         4.99,
         1.65,
         0.55
        ],
        [
         "2023-03-29",
         83,
         2987764,
         4,
         16.56,
         4.14,
         19.96,
         4.99,
         1.56,
         0.39
        ],
        [
         "2023-03-29",
         65,
         3129884,
         2,
         14.03,
         7.02,
         25.98,
         12.99,
         4.87,
         2.44
        ],
        [
         "2023-03-29",
         110,
         3129884,
         3,
         20.46,
         6.82,
         32.97,
         10.99,
         3.52,
         1.17
        ],
        [
         "2023-03-29",
         1,
         3129884,
         52,
         454.73,
         8.74,
         544.48,
         10.47,
         21.2,
         0.41
        ],
        [
         "2023-03-29",
         104,
         3129884,
         16,
         125.78,
         7.86,
         160.84,
         10.05,
         2.22,
         0.14
        ],
        [
         "2023-03-29",
         28,
         3146446,
         2,
         24.13,
         12.07,
         39.98,
         19.99,
         12.15,
         6.08
        ],
        [
         "2023-03-29",
         91,
         1031152,
         2,
         7.56,
         3.78,
         25.98,
         12.99,
         11.34,
         5.67
        ],
        [
         "2023-03-29",
         108,
         3138231,
         4,
         13.69,
         3.42,
         23.99,
         6.0,
         3.88,
         0.97
        ],
        [
         "2023-03-29",
         68,
         3129240,
         3,
         5.46,
         1.82,
         9.99,
         3.33,
         1.81,
         0.6
        ],
        [
         "2023-03-29",
         25,
         3129884,
         30,
         272.42,
         9.08,
         329.7,
         10.99,
         26.79,
         0.89
        ],
        [
         "2023-03-29",
         14,
         3145651,
         3,
         5.34,
         1.78,
         8.99,
         3.0,
         2.81,
         0.94
        ],
        [
         "2023-03-29",
         65,
         3129240,
         2,
         3.64,
         1.82,
         9.98,
         4.99,
         3.62,
         1.81
        ],
        [
         "2023-03-29",
         9,
         2987764,
         7,
         26.03,
         3.72,
         28.7,
         4.1,
         0.01,
         0.0
        ],
        [
         "2023-03-29",
         41,
         3129884,
         5,
         44.98,
         9.0,
         64.95,
         12.99,
         13.97,
         2.79
        ],
        [
         "2023-03-29",
         18,
         2992102,
         2,
         18.4,
         9.2,
         23.98,
         11.99,
         3.36,
         1.68
        ],
        [
         "2023-03-29",
         91,
         3148161,
         3,
         11.48,
         3.83,
         44.97,
         14.99,
         21.24,
         7.08
        ],
        [
         "2023-03-29",
         64,
         3129884,
         4,
         27.64,
         6.91,
         45.96,
         11.49,
         6.25,
         1.56
        ],
        [
         "2023-03-29",
         106,
         3124362,
         2,
         7.24,
         3.62,
         9.34,
         4.67,
         1.24,
         0.62
        ],
        [
         "2023-03-29",
         29,
         3116320,
         4,
         13.88,
         3.47,
         19.96,
         4.99,
         6.08,
         1.52
        ],
        [
         "2023-03-29",
         79,
         1024082,
         2,
         56.1,
         28.05,
         31.98,
         15.99,
         -32.52,
         -16.26
        ],
        [
         "2023-03-29",
         1,
         2987764,
         6,
         21.88,
         3.65,
         29.94,
         4.99,
         5.29,
         0.88
        ],
        [
         "2023-03-29",
         67,
         3133879,
         2,
         11.86,
         5.93,
         23.78,
         11.89,
         5.68,
         2.84
        ],
        [
         "2023-03-29",
         21,
         2987764,
         6,
         21.96,
         3.66,
         29.94,
         4.99,
         5.22,
         0.87
        ],
        [
         "2023-03-29",
         53,
         3129884,
         2,
         17.62,
         8.81,
         19.98,
         9.99,
         0.51,
         0.26
        ],
        [
         "2023-03-29",
         82,
         3129884,
         11,
         152.07,
         13.82,
         118.89,
         10.81,
         15.66,
         1.42
        ],
        [
         "2023-03-29",
         67,
         3129884,
         7,
         46.77,
         6.68,
         72.93,
         10.42,
         7.01,
         1.0
        ],
        [
         "2023-03-29",
         115,
         3129884,
         2,
         18.35,
         9.18,
         19.98,
         9.99,
         -0.22,
         -0.11
        ],
        [
         "2023-03-29",
         108,
         3129884,
         6,
         40.15,
         6.69,
         59.94,
         9.99,
         3.74,
         0.62
        ],
        [
         "2023-03-29",
         39,
         3129884,
         18,
         129.66,
         7.2,
         185.82,
         10.32,
         5.49,
         0.31
        ],
        [
         "2023-03-29",
         48,
         3125797,
         2,
         144.72,
         72.36,
         161.47,
         80.74,
         1.82,
         0.91
        ],
        [
         "2023-03-29",
         83,
         3129884,
         5,
         43.9,
         8.78,
         57.66,
         11.53,
         8.42,
         1.68
        ],
        [
         "2023-03-29",
         6,
         2990472,
         2,
         292.66,
         146.33,
         399.98,
         199.99,
         70.32,
         35.16
        ],
        [
         "2023-03-29",
         7,
         3129884,
         8,
         71.39,
         8.92,
         85.92,
         10.74,
         6.58,
         0.82
        ],
        [
         "2023-03-29",
         37,
         1026534,
         2,
         20.18,
         10.09,
         29.98,
         14.99,
         1.92,
         0.96
        ],
        [
         "2023-03-29",
         74,
         3116320,
         6,
         20.72,
         3.45,
         29.94,
         4.99,
         9.22,
         1.54
        ],
        [
         "2023-03-29",
         73,
         3129884,
         6,
         54.47,
         9.08,
         59.94,
         9.99,
         -0.08,
         -0.01
        ],
        [
         "2023-03-29",
         1,
         3094257,
         4,
         64.94,
         16.24,
         79.96,
         19.99,
         7.62,
         1.91
        ],
        [
         "2023-03-29",
         94,
         3129884,
         31,
         212.77,
         6.86,
         330.69,
         10.67,
         27.76,
         0.9
        ],
        [
         "2023-03-29",
         37,
         2987764,
         7,
         28.79,
         4.11,
         26.19,
         3.74,
         -5.02,
         -0.72
        ],
        [
         "2023-03-29",
         28,
         2987764,
         3,
         11.31,
         3.77,
         13.73,
         4.58,
         1.15,
         0.38
        ],
        [
         "2023-03-29",
         102,
         3129884,
         10,
         56.06,
         5.61,
         100.9,
         10.09,
         3.31,
         0.33
        ],
        [
         "2023-03-29",
         95,
         2987764,
         2,
         6.16,
         3.08,
         9.98,
         4.99,
         1.1,
         0.55
        ],
        [
         "2023-03-29",
         52,
         2886287,
         2,
         3.11,
         1.56,
         5.98,
         2.99,
         2.32,
         1.16
        ],
        [
         "2023-03-29",
         40,
         3129884,
         23,
         203.93,
         8.87,
         244.77,
         10.64,
         18.2,
         0.79
        ],
        [
         "2023-03-29",
         44,
         3129884,
         40,
         377.02,
         9.43,
         417.6,
         10.44,
         1.94,
         0.05
        ],
        [
         "2023-03-29",
         31,
         3129884,
         24,
         206.67,
         8.61,
         257.76,
         10.74,
         18.26,
         0.76
        ],
        [
         "2023-03-29",
         2,
         3129884,
         27,
         254.61,
         9.43,
         284.73,
         10.55,
         3.79,
         0.14
        ],
        [
         "2023-03-29",
         12,
         2987764,
         2,
         7.13,
         3.57,
         9.98,
         4.99,
         1.93,
         0.97
        ],
        [
         "2023-03-29",
         42,
         2987764,
         4,
         14.96,
         3.74,
         19.96,
         4.99,
         3.16,
         0.79
        ],
        [
         "2023-03-29",
         59,
         3129884,
         23,
         167.95,
         7.3,
         250.74,
         10.9,
         16.94,
         0.74
        ],
        [
         "2023-03-29",
         11,
         2987764,
         3,
         12.44,
         4.15,
         14.97,
         4.99,
         1.15,
         0.38
        ],
        [
         "2023-03-29",
         74,
         3138231,
         2,
         7.82,
         3.91,
         13.98,
         6.99,
         4.87,
         2.44
        ],
        [
         "2023-03-29",
         2,
         2992102,
         4,
         36.94,
         9.24,
         47.96,
         11.99,
         6.58,
         1.65
        ],
        [
         "2023-03-29",
         54,
         3129884,
         11,
         84.87,
         7.72,
         107.89,
         9.81,
         -5.83,
         -0.53
        ],
        [
         "2023-03-29",
         28,
         2992102,
         2,
         17.37,
         8.69,
         23.98,
         11.99,
         4.39,
         2.2
        ],
        [
         "2023-03-29",
         19,
         2987764,
         2,
         7.3,
         3.65,
         9.98,
         4.99,
         1.76,
         0.88
        ],
        [
         "2023-03-29",
         19,
         3129884,
         39,
         308.36,
         7.91,
         395.61,
         10.14,
         -5.41,
         -0.14
        ],
        [
         "2023-03-29",
         70,
         3129884,
         6,
         56.54,
         9.42,
         71.94,
         11.99,
         8.75,
         1.46
        ],
        [
         "2023-03-29",
         69,
         2987764,
         2,
         7.41,
         3.71,
         9.98,
         4.99,
         1.65,
         0.83
        ],
        [
         "2023-03-29",
         7,
         3116789,
         2,
         158.34,
         79.17,
         159.98,
         79.99,
         -13.16,
         -6.58
        ],
        [
         "2023-03-29",
         5,
         2987764,
         16,
         56.72,
         3.55,
         69.87,
         4.37,
         6.69,
         0.42
        ],
        [
         "2023-03-29",
         13,
         3129884,
         31,
         208.74,
         6.73,
         330.69,
         10.67,
         35.11,
         1.13
        ]
       ],
       "datasetInfos": [],
       "dbfsResultPath": null,
       "isJsonSchema": true,
       "metadata": {},
       "overflow": false,
       "plotOptions": {
        "customPlotOptions": {},
        "displayType": "table",
        "pivotAggregation": null,
        "pivotColumns": null,
        "xColumns": null,
        "yColumns": null
       },
       "removedWidgets": [],
       "schema": [
        {
         "metadata": "{}",
         "name": "data_extracao",
         "type": "\"date\""
        },
        {
         "metadata": "{}",
         "name": "cod_loja",
         "type": "\"integer\""
        },
        {
         "metadata": "{}",
         "name": "cod_produto",
         "type": "\"integer\""
        },
        {
         "metadata": "{}",
         "name": "venda_quantidade",
         "type": "\"integer\""
        },
        {
         "metadata": "{}",
         "name": "custo_mercadoria_vendida",
         "type": "\"double\""
        },
        {
         "metadata": "{}",
         "name": "custo_mercadoria_vendida_unitario",
         "type": "\"double\""
        },
        {
         "metadata": "{}",
         "name": "venda_total",
         "type": "\"double\""
        },
        {
         "metadata": "{}",
         "name": "venda_unitaria",
         "type": "\"double\""
        },
        {
         "metadata": "{}",
         "name": "margem",
         "type": "\"double\""
        },
        {
         "metadata": "{}",
         "name": "margem_unitaria",
         "type": "\"double\""
        }
       ],
       "type": "table"
      }
     },
     "output_type": "display_data"
    }
   ],
   "source": [
    "%sql\n",
    "SELECT\n",
    "  data_extracao,\n",
    "  cod_loja,\n",
    "  cod_produto,\n",
    "  venda_quantidade,\n",
    "  custo_mercadoria_vendida,\n",
    "  ROUND((custo_mercadoria_vendida / venda_quantidade),2) as custo_mercadoria_vendida_unitario,\n",
    "  venda_total,\n",
    "  ROUND((venda_total / venda_quantidade),2) as venda_unitaria,\n",
    "  margem,\n",
    "  ROUND((margem / venda_quantidade),2) as margem_unitaria\n",
    "FROM work.posicao_estoque_work\n",
    "WHERE\n",
    "  custo_mercadoria_vendida > 0\n",
    "AND\n",
    "  venda_quantidade > 1\n",
    "LIMIT 100"
   ]
  },
  {
   "cell_type": "code",
   "execution_count": 0,
   "metadata": {
    "application/vnd.databricks.v1+cell": {
     "cellMetadata": {
      "byteLimit": 2048000,
      "rowLimit": 10000
     },
     "inputWidgets": {},
     "nuid": "f5c9e90b-d99a-465c-89da-6312135fe051",
     "showTitle": false,
     "title": ""
    }
   },
   "outputs": [
    {
     "output_type": "display_data",
     "data": {
      "text/plain": [
       "\u001B[0;36m  File \u001B[0;32m\"<command-585402679406961>\"\u001B[0;36m, line \u001B[0;32m1\u001B[0m\n\u001B[0;31m    @dlt.expect(\"valid timestamp\", \"col(“timestamp”) > '2023-01-01'\")\u001B[0m\n\u001B[0m                                                                     ^\u001B[0m\n\u001B[0;31mSyntaxError\u001B[0m\u001B[0;31m:\u001B[0m unexpected EOF while parsing\n"
      ]
     },
     "metadata": {
      "application/vnd.databricks.v1+output": {
       "arguments": {},
       "data": "\u001B[0;36m  File \u001B[0;32m\"<command-585402679406961>\"\u001B[0;36m, line \u001B[0;32m1\u001B[0m\n\u001B[0;31m    @dlt.expect(\"valid timestamp\", \"col(“timestamp”) > '2023-01-01'\")\u001B[0m\n\u001B[0m                                                                     ^\u001B[0m\n\u001B[0;31mSyntaxError\u001B[0m\u001B[0;31m:\u001B[0m unexpected EOF while parsing\n",
       "errorSummary": "<span class='ansi-red-fg'>SyntaxError</span>: unexpected EOF while parsing (<command-585402679406961>, line 1)",
       "errorTraceType": "ansi",
       "metadata": {},
       "type": "ipynbError"
      }
     },
     "output_type": "display_data"
    }
   ],
   "source": [
    "@dlt.expect(\"valid timestamp\", \"col(“timestamp”) > '2023-01-01'\")"
   ]
  }
 ],
 "metadata": {
  "application/vnd.databricks.v1+notebook": {
   "dashboards": [],
   "language": "python",
   "notebookMetadata": {
    "mostRecentlyExecutedCommandWithImplicitDF": {
     "commandId": 3331275050783678,
     "dataframes": [
      "_sqldf"
     ]
    },
    "pythonIndentUnit": 4
   },
   "notebookName": "Teste",
   "notebookOrigID": 332875433845268,
   "widgets": {}
  }
 },
 "nbformat": 4,
 "nbformat_minor": 0
}
