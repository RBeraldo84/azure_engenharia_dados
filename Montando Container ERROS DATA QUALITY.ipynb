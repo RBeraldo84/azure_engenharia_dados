{
 "cells": [
  {
   "cell_type": "code",
   "execution_count": 0,
   "metadata": {
    "application/vnd.databricks.v1+cell": {
     "cellMetadata": {
      "byteLimit": 2048000,
      "rowLimit": 10000
     },
     "inputWidgets": {},
     "nuid": "a1f9bb07-fe61-4d7a-9c9f-4aa5411b2c8d",
     "showTitle": false,
     "title": ""
    }
   },
   "outputs": [],
   "source": [
    "container_name = \"lakehouse\"\n",
    "storage_account = \"storagedatalakehouse\"\n",
    "key = dbutils.secrets.get(scope=\"senhas-data-lake-house\", key=\"storage-lakehouse\")\n",
    "\n",
    "dbutils.fs.mount(\n",
    "  source = f\"wasbs://{container_name}@{storage_account}.blob.core.windows.net/erros_dataquality\",\n",
    "  mount_point = \"/mnt/erros_dataquality\",\n",
    "  extra_configs = {f\"fs.azure.account.key.{storage_account}.blob.core.windows.net\":key})"
   ]
  }
 ],
 "metadata": {
  "application/vnd.databricks.v1+notebook": {
   "dashboards": [],
   "language": "python",
   "notebookMetadata": {
    "mostRecentlyExecutedCommandWithImplicitDF": {
     "commandId": 17481053988326,
     "dataframes": [
      "_sqldf"
     ]
    },
    "pythonIndentUnit": 4
   },
   "notebookName": "Montando Container ERROS DATA QUALITY",
   "notebookOrigID": 333799256638449,
   "widgets": {}
  }
 },
 "nbformat": 4,
 "nbformat_minor": 0
}
