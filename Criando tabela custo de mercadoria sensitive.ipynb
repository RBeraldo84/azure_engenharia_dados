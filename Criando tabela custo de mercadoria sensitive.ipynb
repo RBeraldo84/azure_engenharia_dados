{
 "cells": [
  {
   "cell_type": "code",
   "execution_count": 0,
   "metadata": {
    "application/vnd.databricks.v1+cell": {
     "cellMetadata": {
      "byteLimit": 2048000,
      "implicitDf": true,
      "rowLimit": 10000
     },
     "inputWidgets": {},
     "nuid": "e9cafe22-6599-4a3d-b78a-12e35f5b4645",
     "showTitle": false,
     "title": ""
    }
   },
   "outputs": [
    {
     "output_type": "display_data",
     "data": {
      "text/html": [
       "<style scoped>\n  .table-result-container {\n    max-height: 300px;\n    overflow: auto;\n  }\n  table, th, td {\n    border: 1px solid black;\n    border-collapse: collapse;\n  }\n  th, td {\n    padding: 5px;\n  }\n  th {\n    text-align: left;\n  }\n</style><div class='table-result-container'><table class='table-result'><thead style='background-color: white'><tr><th>data_extracao</th><th>cod_loja</th><th>cod_produto</th><th>custo_mercadoria_vendida_unitario</th></tr></thead><tbody><tr><td>2023-03-29</td><td>75</td><td>3130958</td><td>17.95</td></tr><tr><td>2023-03-29</td><td>94</td><td>3116320</td><td>2.69</td></tr><tr><td>2023-03-29</td><td>57</td><td>3126112</td><td>7.93</td></tr><tr><td>2023-03-29</td><td>66</td><td>3093791</td><td>2.5</td></tr><tr><td>2023-03-29</td><td>61</td><td>3109717</td><td>23.21</td></tr><tr><td>2023-03-29</td><td>85</td><td>3116126</td><td>15.39</td></tr><tr><td>2023-03-29</td><td>37</td><td>2998526</td><td>15.21</td></tr><tr><td>2023-03-29</td><td>60</td><td>3138814</td><td>83.52</td></tr><tr><td>2023-03-29</td><td>93</td><td>3107993</td><td>21.7</td></tr><tr><td>2023-03-29</td><td>12</td><td>3129240</td><td>2.44</td></tr><tr><td>2023-03-29</td><td>10</td><td>3111581</td><td>108.1</td></tr><tr><td>2023-03-29</td><td>39</td><td>1031281</td><td>11.22</td></tr><tr><td>2023-03-29</td><td>53</td><td>3116126</td><td>16.58</td></tr><tr><td>2023-03-29</td><td>15</td><td>3129884</td><td>8.33</td></tr><tr><td>2023-03-29</td><td>103</td><td>3143820</td><td>117.96</td></tr><tr><td>2023-03-29</td><td>53</td><td>3143820</td><td>7.14</td></tr><tr><td>2023-03-29</td><td>17</td><td>1022257</td><td>8.14</td></tr><tr><td>2023-03-29</td><td>30</td><td>3111623</td><td>2.5</td></tr><tr><td>2023-03-29</td><td>84</td><td>3128676</td><td>13.8</td></tr><tr><td>2023-03-29</td><td>14</td><td>3130958</td><td>13.9</td></tr><tr><td>2023-03-29</td><td>47</td><td>2851569</td><td>5.8</td></tr><tr><td>2023-03-29</td><td>91</td><td>1032472</td><td>44.93</td></tr><tr><td>2023-03-29</td><td>60</td><td>3145111</td><td>4.61</td></tr><tr><td>2023-03-29</td><td>79</td><td>2987764</td><td>3.14</td></tr><tr><td>2023-03-29</td><td>14</td><td>3147343</td><td>112.12</td></tr><tr><td>2023-03-29</td><td>14</td><td>3129884</td><td>6.02</td></tr><tr><td>2023-03-29</td><td>57</td><td>3105851</td><td>10.27</td></tr><tr><td>2023-03-29</td><td>113</td><td>3124362</td><td>2.69</td></tr><tr><td>2023-03-29</td><td>35</td><td>3129240</td><td>2.44</td></tr><tr><td>2023-03-29</td><td>91</td><td>2854918</td><td>7.32</td></tr><tr><td>2023-03-29</td><td>106</td><td>2987764</td><td>3.55</td></tr><tr><td>2023-03-29</td><td>48</td><td>1011248</td><td>15.67</td></tr><tr><td>2023-03-29</td><td>5</td><td>1031152</td><td>3.85</td></tr><tr><td>2023-03-29</td><td>64</td><td>2987764</td><td>2.62</td></tr><tr><td>2023-03-29</td><td>47</td><td>3139266</td><td>3.4</td></tr><tr><td>2023-03-29</td><td>23</td><td>3129884</td><td>5.86</td></tr><tr><td>2023-03-29</td><td>95</td><td>3148795</td><td>22.57</td></tr><tr><td>2023-03-29</td><td>88</td><td>1011248</td><td>14.57</td></tr><tr><td>2023-03-29</td><td>102</td><td>2987764</td><td>1.54</td></tr><tr><td>2023-03-29</td><td>16</td><td>3143820</td><td>7.42</td></tr><tr><td>2023-03-29</td><td>58</td><td>3129884</td><td>8.93</td></tr><tr><td>2023-03-29</td><td>8</td><td>2987764</td><td>3.66</td></tr><tr><td>2023-03-29</td><td>95</td><td>3133879</td><td>6.7</td></tr><tr><td>2023-03-29</td><td>25</td><td>1031152</td><td>3.85</td></tr><tr><td>2023-03-29</td><td>103</td><td>3129884</td><td>2.96</td></tr><tr><td>2023-03-29</td><td>57</td><td>3116126</td><td>16.55</td></tr><tr><td>2023-03-29</td><td>27</td><td>2987764</td><td>1.22</td></tr><tr><td>2023-03-29</td><td>63</td><td>3143820</td><td>5.09</td></tr><tr><td>2023-03-29</td><td>8</td><td>3141816</td><td>3.18</td></tr><tr><td>2023-03-29</td><td>47</td><td>3129884</td><td>9.41</td></tr><tr><td>2023-03-29</td><td>44</td><td>3137813</td><td>14.82</td></tr><tr><td>2023-03-29</td><td>28</td><td>3129884</td><td>8.45</td></tr><tr><td>2023-03-29</td><td>47</td><td>2989087</td><td>15.01</td></tr><tr><td>2023-03-29</td><td>95</td><td>3143820</td><td>5.44</td></tr><tr><td>2023-03-29</td><td>110</td><td>3104577</td><td>12.82</td></tr><tr><td>2023-03-29</td><td>95</td><td>3129884</td><td>4.83</td></tr><tr><td>2023-03-29</td><td>82</td><td>2987764</td><td>6.35</td></tr><tr><td>2023-03-29</td><td>23</td><td>2987764</td><td>3.08</td></tr><tr><td>2023-03-29</td><td>29</td><td>3142293</td><td>16.05</td></tr><tr><td>2023-03-29</td><td>112</td><td>3116320</td><td>2.85</td></tr><tr><td>2023-03-29</td><td>18</td><td>3093791</td><td>2.49</td></tr><tr><td>2023-03-29</td><td>13</td><td>2961701</td><td>58.0</td></tr><tr><td>2023-03-29</td><td>23</td><td>2961701</td><td>58.0</td></tr><tr><td>2023-03-29</td><td>25</td><td>1027325</td><td>7.57</td></tr><tr><td>2023-03-29</td><td>35</td><td>3105851</td><td>10.16</td></tr><tr><td>2023-03-29</td><td>43</td><td>3129884</td><td>6.53</td></tr><tr><td>2023-03-29</td><td>40</td><td>3144717</td><td>13.28</td></tr><tr><td>2023-03-29</td><td>93</td><td>3129884</td><td>5.81</td></tr><tr><td>2023-03-29</td><td>111</td><td>2917109</td><td>72.47</td></tr><tr><td>2023-03-29</td><td>105</td><td>3132097</td><td>18.75</td></tr><tr><td>2023-03-29</td><td>58</td><td>3129240</td><td>2.36</td></tr><tr><td>2023-03-29</td><td>46</td><td>3116789</td><td>56.57</td></tr><tr><td>2023-03-29</td><td>52</td><td>3138231</td><td>5.18</td></tr><tr><td>2023-03-29</td><td>95</td><td>3116126</td><td>15.39</td></tr><tr><td>2023-03-29</td><td>11</td><td>3116126</td><td>15.37</td></tr><tr><td>2023-03-29</td><td>59</td><td>2987764</td><td>3.64</td></tr><tr><td>2023-03-29</td><td>91</td><td>3130269</td><td>3.33</td></tr><tr><td>2023-03-29</td><td>1</td><td>1011248</td><td>15.1</td></tr><tr><td>2023-03-29</td><td>10</td><td>3137896</td><td>7.03</td></tr><tr><td>2023-03-29</td><td>113</td><td>3129884</td><td>7.3</td></tr><tr><td>2023-03-29</td><td>49</td><td>3125797</td><td>72.33</td></tr><tr><td>2023-03-29</td><td>61</td><td>1032051</td><td>16.37</td></tr><tr><td>2023-03-29</td><td>91</td><td>3111495</td><td>21.12</td></tr><tr><td>2023-03-29</td><td>6</td><td>1011248</td><td>14.63</td></tr><tr><td>2023-03-29</td><td>2</td><td>3124362</td><td>3.5</td></tr><tr><td>2023-03-29</td><td>28</td><td>3133645</td><td>10.79</td></tr><tr><td>2023-03-29</td><td>86</td><td>3143820</td><td>7.36</td></tr><tr><td>2023-03-29</td><td>11</td><td>1027820</td><td>3.32</td></tr><tr><td>2023-03-29</td><td>28</td><td>3129240</td><td>2.44</td></tr><tr><td>2023-03-29</td><td>58</td><td>2917109</td><td>72.91</td></tr><tr><td>2023-03-29</td><td>108</td><td>2987764</td><td>3.11</td></tr><tr><td>2023-03-29</td><td>59</td><td>2989087</td><td>13.97</td></tr><tr><td>2023-03-29</td><td>109</td><td>3144717</td><td>12.47</td></tr><tr><td>2023-03-29</td><td>21</td><td>3133776</td><td>36.54</td></tr><tr><td>2023-03-29</td><td>26</td><td>3129884</td><td>9.47</td></tr><tr><td>2023-03-29</td><td>85</td><td>2961701</td><td>58.0</td></tr><tr><td>2023-03-29</td><td>25</td><td>3143820</td><td>8.34</td></tr><tr><td>2023-03-29</td><td>48</td><td>3093791</td><td>2.49</td></tr><tr><td>2023-03-29</td><td>5</td><td>2992102</td><td>8.34</td></tr><tr><td>2023-03-29</td><td>23</td><td>3129240</td><td>1.82</td></tr></tbody></table></div>"
      ]
     },
     "metadata": {
      "application/vnd.databricks.v1+output": {
       "addedWidgets": {},
       "aggData": [],
       "aggError": "",
       "aggOverflow": false,
       "aggSchema": [],
       "aggSeriesLimitReached": false,
       "aggType": "",
       "arguments": {},
       "columnCustomDisplayInfos": {},
       "data": [
        [
         "2023-03-29",
         75,
         3130958,
         17.95
        ],
        [
         "2023-03-29",
         94,
         3116320,
         2.69
        ],
        [
         "2023-03-29",
         57,
         3126112,
         7.93
        ],
        [
         "2023-03-29",
         66,
         3093791,
         2.5
        ],
        [
         "2023-03-29",
         61,
         3109717,
         23.21
        ],
        [
         "2023-03-29",
         85,
         3116126,
         15.39
        ],
        [
         "2023-03-29",
         37,
         2998526,
         15.21
        ],
        [
         "2023-03-29",
         60,
         3138814,
         83.52
        ],
        [
         "2023-03-29",
         93,
         3107993,
         21.7
        ],
        [
         "2023-03-29",
         12,
         3129240,
         2.44
        ],
        [
         "2023-03-29",
         10,
         3111581,
         108.1
        ],
        [
         "2023-03-29",
         39,
         1031281,
         11.22
        ],
        [
         "2023-03-29",
         53,
         3116126,
         16.58
        ],
        [
         "2023-03-29",
         15,
         3129884,
         8.33
        ],
        [
         "2023-03-29",
         103,
         3143820,
         117.96
        ],
        [
         "2023-03-29",
         53,
         3143820,
         7.14
        ],
        [
         "2023-03-29",
         17,
         1022257,
         8.14
        ],
        [
         "2023-03-29",
         30,
         3111623,
         2.5
        ],
        [
         "2023-03-29",
         84,
         3128676,
         13.8
        ],
        [
         "2023-03-29",
         14,
         3130958,
         13.9
        ],
        [
         "2023-03-29",
         47,
         2851569,
         5.8
        ],
        [
         "2023-03-29",
         91,
         1032472,
         44.93
        ],
        [
         "2023-03-29",
         60,
         3145111,
         4.61
        ],
        [
         "2023-03-29",
         79,
         2987764,
         3.14
        ],
        [
         "2023-03-29",
         14,
         3147343,
         112.12
        ],
        [
         "2023-03-29",
         14,
         3129884,
         6.02
        ],
        [
         "2023-03-29",
         57,
         3105851,
         10.27
        ],
        [
         "2023-03-29",
         113,
         3124362,
         2.69
        ],
        [
         "2023-03-29",
         35,
         3129240,
         2.44
        ],
        [
         "2023-03-29",
         91,
         2854918,
         7.32
        ],
        [
         "2023-03-29",
         106,
         2987764,
         3.55
        ],
        [
         "2023-03-29",
         48,
         1011248,
         15.67
        ],
        [
         "2023-03-29",
         5,
         1031152,
         3.85
        ],
        [
         "2023-03-29",
         64,
         2987764,
         2.62
        ],
        [
         "2023-03-29",
         47,
         3139266,
         3.4
        ],
        [
         "2023-03-29",
         23,
         3129884,
         5.86
        ],
        [
         "2023-03-29",
         95,
         3148795,
         22.57
        ],
        [
         "2023-03-29",
         88,
         1011248,
         14.57
        ],
        [
         "2023-03-29",
         102,
         2987764,
         1.54
        ],
        [
         "2023-03-29",
         16,
         3143820,
         7.42
        ],
        [
         "2023-03-29",
         58,
         3129884,
         8.93
        ],
        [
         "2023-03-29",
         8,
         2987764,
         3.66
        ],
        [
         "2023-03-29",
         95,
         3133879,
         6.7
        ],
        [
         "2023-03-29",
         25,
         1031152,
         3.85
        ],
        [
         "2023-03-29",
         103,
         3129884,
         2.96
        ],
        [
         "2023-03-29",
         57,
         3116126,
         16.55
        ],
        [
         "2023-03-29",
         27,
         2987764,
         1.22
        ],
        [
         "2023-03-29",
         63,
         3143820,
         5.09
        ],
        [
         "2023-03-29",
         8,
         3141816,
         3.18
        ],
        [
         "2023-03-29",
         47,
         3129884,
         9.41
        ],
        [
         "2023-03-29",
         44,
         3137813,
         14.82
        ],
        [
         "2023-03-29",
         28,
         3129884,
         8.45
        ],
        [
         "2023-03-29",
         47,
         2989087,
         15.01
        ],
        [
         "2023-03-29",
         95,
         3143820,
         5.44
        ],
        [
         "2023-03-29",
         110,
         3104577,
         12.82
        ],
        [
         "2023-03-29",
         95,
         3129884,
         4.83
        ],
        [
         "2023-03-29",
         82,
         2987764,
         6.35
        ],
        [
         "2023-03-29",
         23,
         2987764,
         3.08
        ],
        [
         "2023-03-29",
         29,
         3142293,
         16.05
        ],
        [
         "2023-03-29",
         112,
         3116320,
         2.85
        ],
        [
         "2023-03-29",
         18,
         3093791,
         2.49
        ],
        [
         "2023-03-29",
         13,
         2961701,
         58.0
        ],
        [
         "2023-03-29",
         23,
         2961701,
         58.0
        ],
        [
         "2023-03-29",
         25,
         1027325,
         7.57
        ],
        [
         "2023-03-29",
         35,
         3105851,
         10.16
        ],
        [
         "2023-03-29",
         43,
         3129884,
         6.53
        ],
        [
         "2023-03-29",
         40,
         3144717,
         13.28
        ],
        [
         "2023-03-29",
         93,
         3129884,
         5.81
        ],
        [
         "2023-03-29",
         111,
         2917109,
         72.47
        ],
        [
         "2023-03-29",
         105,
         3132097,
         18.75
        ],
        [
         "2023-03-29",
         58,
         3129240,
         2.36
        ],
        [
         "2023-03-29",
         46,
         3116789,
         56.57
        ],
        [
         "2023-03-29",
         52,
         3138231,
         5.18
        ],
        [
         "2023-03-29",
         95,
         3116126,
         15.39
        ],
        [
         "2023-03-29",
         11,
         3116126,
         15.37
        ],
        [
         "2023-03-29",
         59,
         2987764,
         3.64
        ],
        [
         "2023-03-29",
         91,
         3130269,
         3.33
        ],
        [
         "2023-03-29",
         1,
         1011248,
         15.1
        ],
        [
         "2023-03-29",
         10,
         3137896,
         7.03
        ],
        [
         "2023-03-29",
         113,
         3129884,
         7.3
        ],
        [
         "2023-03-29",
         49,
         3125797,
         72.33
        ],
        [
         "2023-03-29",
         61,
         1032051,
         16.37
        ],
        [
         "2023-03-29",
         91,
         3111495,
         21.12
        ],
        [
         "2023-03-29",
         6,
         1011248,
         14.63
        ],
        [
         "2023-03-29",
         2,
         3124362,
         3.5
        ],
        [
         "2023-03-29",
         28,
         3133645,
         10.79
        ],
        [
         "2023-03-29",
         86,
         3143820,
         7.36
        ],
        [
         "2023-03-29",
         11,
         1027820,
         3.32
        ],
        [
         "2023-03-29",
         28,
         3129240,
         2.44
        ],
        [
         "2023-03-29",
         58,
         2917109,
         72.91
        ],
        [
         "2023-03-29",
         108,
         2987764,
         3.11
        ],
        [
         "2023-03-29",
         59,
         2989087,
         13.97
        ],
        [
         "2023-03-29",
         109,
         3144717,
         12.47
        ],
        [
         "2023-03-29",
         21,
         3133776,
         36.54
        ],
        [
         "2023-03-29",
         26,
         3129884,
         9.47
        ],
        [
         "2023-03-29",
         85,
         2961701,
         58.0
        ],
        [
         "2023-03-29",
         25,
         3143820,
         8.34
        ],
        [
         "2023-03-29",
         48,
         3093791,
         2.49
        ],
        [
         "2023-03-29",
         5,
         2992102,
         8.34
        ],
        [
         "2023-03-29",
         23,
         3129240,
         1.82
        ]
       ],
       "datasetInfos": [],
       "dbfsResultPath": null,
       "isJsonSchema": true,
       "metadata": {},
       "overflow": false,
       "plotOptions": {
        "customPlotOptions": {},
        "displayType": "table",
        "pivotAggregation": null,
        "pivotColumns": null,
        "xColumns": null,
        "yColumns": null
       },
       "removedWidgets": [],
       "schema": [
        {
         "metadata": "{}",
         "name": "data_extracao",
         "type": "\"date\""
        },
        {
         "metadata": "{}",
         "name": "cod_loja",
         "type": "\"integer\""
        },
        {
         "metadata": "{}",
         "name": "cod_produto",
         "type": "\"integer\""
        },
        {
         "metadata": "{}",
         "name": "custo_mercadoria_vendida_unitario",
         "type": "\"double\""
        }
       ],
       "type": "table"
      }
     },
     "output_type": "display_data"
    }
   ],
   "source": [
    "sql_cmv = \"\"\"SELECT \n",
    "  data_extracao,\n",
    "  cod_loja,\n",
    "  cod_produto,\n",
    "  ROUND((custo_mercadoria_vendida / venda_quantidade), 2) as custo_mercadoria_vendida_unitario\n",
    "FROM\n",
    "  work.posicao_estoque_work\n",
    "WHERE\n",
    "  custo_mercadoria_vendida > 0\n",
    "LIMIT 100\"\"\"\n",
    "\n",
    "df_cmv = spark.sql(sql_cmv)\n",
    "\n",
    "df_cmv.display()"
   ]
  },
  {
   "cell_type": "code",
   "execution_count": 0,
   "metadata": {
    "application/vnd.databricks.v1+cell": {
     "cellMetadata": {
      "byteLimit": 2048000,
      "rowLimit": 10000
     },
     "inputWidgets": {},
     "nuid": "c0d5751b-1175-471f-9b57-6312e647e9f9",
     "showTitle": false,
     "title": ""
    }
   },
   "outputs": [],
   "source": [
    "df_cmv.write \\\n",
    "    .option('path', '/mnt/sensitive/custo_mercadoria_vendida_dia_sensitive') \\\n",
    "    .partitionBy(['data_extracao', 'cod_loja', 'cod_produto']) \\\n",
    "    .mode('overwrite') \\\n",
    "    .saveAsTable('sensitive.custo_mercadoria_vendida_dia_sensitive')"
   ]
  }
 ],
 "metadata": {
  "application/vnd.databricks.v1+notebook": {
   "dashboards": [],
   "language": "python",
   "notebookMetadata": {
    "mostRecentlyExecutedCommandWithImplicitDF": {
     "commandId": 3982282097832194,
     "dataframes": [
      "_sqldf"
     ]
    },
    "pythonIndentUnit": 4
   },
   "notebookName": "Criando tabela custo de mercadoria sensitive",
   "notebookOrigID": 3982282097832188,
   "widgets": {}
  }
 },
 "nbformat": 4,
 "nbformat_minor": 0
}
