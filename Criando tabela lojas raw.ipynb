{
 "cells": [
  {
   "cell_type": "code",
   "execution_count": 0,
   "metadata": {
    "application/vnd.databricks.v1+cell": {
     "cellMetadata": {
      "byteLimit": 2048000,
      "rowLimit": 10000
     },
     "inputWidgets": {},
     "nuid": "5f374b19-3daf-4606-a567-58105c969c74",
     "showTitle": false,
     "title": ""
    }
   },
   "outputs": [
    {
     "output_type": "display_data",
     "data": {
      "text/html": [
       "<style scoped>\n  .table-result-container {\n    max-height: 300px;\n    overflow: auto;\n  }\n  table, th, td {\n    border: 1px solid black;\n    border-collapse: collapse;\n  }\n  th, td {\n    padding: 5px;\n  }\n  th {\n    text-align: left;\n  }\n</style><div class='table-result-container'><table class='table-result'><thead style='background-color: white'><tr><th>cod_loja</th><th>municipio</th><th>estado</th></tr></thead><tbody><tr><td>6</td><td>São Paulo</td><td>SP</td></tr><tr><td>52</td><td>São Paulo</td><td>SP</td></tr><tr><td>10</td><td>Rio de Janeiro</td><td>RJ</td></tr><tr><td>71</td><td>Rio de Janeiro</td><td>RJ</td></tr><tr><td>25</td><td>Rio de Janeiro</td><td>RJ</td></tr><tr><td>80</td><td>Rio de Janeiro</td><td>RJ</td></tr><tr><td>7</td><td>Rio de Janeiro</td><td>RJ</td></tr><tr><td>86</td><td>Betim</td><td>MG</td></tr><tr><td>83</td><td>Betim</td><td>MG</td></tr><tr><td>2</td><td>Campinas</td><td>SP</td></tr><tr><td>48</td><td>Embu das Artes</td><td>SP</td></tr><tr><td>32</td><td>Novo Hamburgo</td><td>RS</td></tr><tr><td>15</td><td>Porto Alegre</td><td>RS</td></tr><tr><td>104</td><td>Várzea Grande</td><td>MT</td></tr><tr><td>33</td><td>Aparecida de Goiânia</td><td>GO</td></tr><tr><td>79</td><td>Goiânia</td><td>GO</td></tr><tr><td>67</td><td>Goiânia</td><td>GO</td></tr><tr><td>21</td><td>Belém</td><td>PA</td></tr><tr><td>102</td><td>Timon</td><td>MA</td></tr><tr><td>68</td><td>Teresina</td><td>PI</td></tr><tr><td>96</td><td>Caucaia</td><td>CE</td></tr><tr><td>14</td><td>Fortaleza</td><td>CE</td></tr><tr><td>63</td><td>Guarabira</td><td>PB</td></tr><tr><td>95</td><td>João Pessoa</td><td>PB</td></tr><tr><td>36</td><td>João Pessoa</td><td>PB</td></tr><tr><td>51</td><td>Ponta Grossa</td><td>PR</td></tr><tr><td>64</td><td>Blumenau</td><td>SC</td></tr><tr><td>84</td><td>Vila Velha</td><td>ES</td></tr><tr><td>13</td><td>Vitória</td><td>ES</td></tr><tr><td>58</td><td>Uberlândia</td><td>MG</td></tr><tr><td>75</td><td>Vinhedo</td><td>SP</td></tr><tr><td>18</td><td>Votorantim</td><td>SP</td></tr><tr><td>34</td><td>Araçatuba</td><td>SP</td></tr><tr><td>99</td><td>Ariquemes</td><td>RO</td></tr><tr><td>108</td><td>Jaru</td><td>RO</td></tr><tr><td>114</td><td>Rio Branco</td><td>AC</td></tr><tr><td>109</td><td>Manaus</td><td>AM</td></tr><tr><td>40</td><td>São José dos Campos</td><td>SP</td></tr><tr><td>8</td><td>São José dos Campos</td><td>SP</td></tr><tr><td>70</td><td>São José dos Campos</td><td>SP</td></tr><tr><td>19</td><td>São Paulo</td><td>SP</td></tr><tr><td>42</td><td>São Paulo</td><td>SP</td></tr><tr><td>27</td><td>São Paulo</td><td>SP</td></tr><tr><td>35</td><td>Praia Grande</td><td>SP</td></tr><tr><td>28</td><td>Santo André</td><td>SP</td></tr><tr><td>112</td><td>Lauro de Freitas</td><td>BA</td></tr><tr><td>24</td><td>Belo Horizonte</td><td>MG</td></tr><tr><td>3</td><td>Belo Horizonte</td><td>MG</td></tr><tr><td>56</td><td>Cuiabá</td><td>MT</td></tr><tr><td>37</td><td>Cuiabá</td><td>MT</td></tr><tr><td>62</td><td>Itaquaquecetuba</td><td>SP</td></tr><tr><td>30</td><td>Itu</td><td>SP</td></tr><tr><td>57</td><td>Marília</td><td>SP</td></tr><tr><td>61</td><td>Araguaína</td><td>TO</td></tr><tr><td>110</td><td>Colinas do Tocantins</td><td>TO</td></tr><tr><td>90</td><td>Paraíso do Tocantins</td><td>TO</td></tr><tr><td>105</td><td>Porto Nacional</td><td>TO</td></tr><tr><td>94</td><td>Fortaleza</td><td>CE</td></tr><tr><td>93</td><td>Fortaleza</td><td>CE</td></tr><tr><td>100</td><td>Maranguape</td><td>CE</td></tr><tr><td>20</td><td>Salvador</td><td>BA</td></tr><tr><td>4</td><td>Salvador</td><td>BA</td></tr><tr><td>60</td><td>Simões Filho</td><td>BA</td></tr><tr><td>65</td><td>Imperatriz</td><td>MA</td></tr><tr><td>50</td><td>São Luís</td><td>MA</td></tr><tr><td>16</td><td>São Paulo</td><td>SP</td></tr><tr><td>12</td><td>Curitiba</td><td>PR</td></tr><tr><td>5</td><td>Curitiba</td><td>PR</td></tr><tr><td>53</td><td>Foz do Iguaçu</td><td>PR</td></tr><tr><td>45</td><td>Londrina</td><td>PR</td></tr><tr><td>38</td><td>Juiz de Fora</td><td>MG</td></tr><tr><td>91</td><td>Petrolina</td><td>PE</td></tr><tr><td>43</td><td>Recife</td><td>PE</td></tr><tr><td>23</td><td>Recife</td><td>PE</td></tr><tr><td>113</td><td>Serra Talhada</td><td>PE</td></tr><tr><td>85</td><td>Vitória de Santo Antão</td><td>PE</td></tr><tr><td>77</td><td>Brasília</td><td>DF</td></tr><tr><td>31</td><td>Brasília</td><td>DF</td></tr><tr><td>82</td><td>Brasília</td><td>DF</td></tr><tr><td>41</td><td>Brasília</td><td>DF</td></tr><tr><td>47</td><td>Guaratinguetá</td><td>SP</td></tr><tr><td>44</td><td>Guarulhos</td><td>SP</td></tr><tr><td>89</td><td>Itapecerica da Serra</td><td>SP</td></tr><tr><td>107</td><td>Campos dos Goytacazes</td><td>RJ</td></tr><tr><td>9</td><td>Niterói</td><td>RJ</td></tr><tr><td>17</td><td>Jaboatão dos Guararapes</td><td>PE</td></tr><tr><td>111</td><td>Olinda</td><td>PE</td></tr><tr><td>39</td><td>Natal</td><td>RN</td></tr><tr><td>103</td><td>Santa Maria</td><td>RS</td></tr><tr><td>29</td><td>Campo Grande</td><td>MS</td></tr><tr><td>11</td><td>Maceió</td><td>AL</td></tr><tr><td>92</td><td>Rio Largo</td><td>AL</td></tr><tr><td>22</td><td>Aracaju</td><td>SE</td></tr><tr><td>78</td><td>Osasco</td><td>SP</td></tr><tr><td>98</td><td>Penápolis</td><td>SP</td></tr><tr><td>66</td><td>Pindamonhangaba</td><td>SP</td></tr><tr><td>69</td><td>Santos</td><td>SP</td></tr><tr><td>106</td><td>São Bernardo do Campo</td><td>SP</td></tr><tr><td>54</td><td>São José do Rio Preto</td><td>SP</td></tr><tr><td>87</td><td>São José do Rio Preto</td><td>SP</td></tr><tr><td>55</td><td>Rio Verde</td><td>GO</td></tr><tr><td>46</td><td>Feira de Santana</td><td>BA</td></tr><tr><td>72</td><td>Petrópolis</td><td>RJ</td></tr><tr><td>73</td><td>Queimados</td><td>RJ</td></tr><tr><td>97</td><td>Boa Vista</td><td>RR</td></tr><tr><td>59</td><td>Belém</td><td>PA</td></tr><tr><td>74</td><td>São Paulo</td><td>SP</td></tr><tr><td>26</td><td>São Paulo</td><td>SP</td></tr><tr><td>88</td><td>Sorocaba</td><td>SP</td></tr><tr><td>49</td><td>Suzano</td><td>SP</td></tr><tr><td>76</td><td>Boituva</td><td>SP</td></tr><tr><td>81</td><td>Botucatu</td><td>SP</td></tr><tr><td>101</td><td>Cajamar</td><td>SP</td></tr></tbody></table></div>"
      ]
     },
     "metadata": {
      "application/vnd.databricks.v1+output": {
       "addedWidgets": {},
       "aggData": [],
       "aggError": "",
       "aggOverflow": false,
       "aggSchema": [],
       "aggSeriesLimitReached": false,
       "aggType": "",
       "arguments": {},
       "columnCustomDisplayInfos": {},
       "data": [
        [
         "6",
         "São Paulo",
         "SP"
        ],
        [
         "52",
         "São Paulo",
         "SP"
        ],
        [
         "10",
         "Rio de Janeiro",
         "RJ"
        ],
        [
         "71",
         "Rio de Janeiro",
         "RJ"
        ],
        [
         "25",
         "Rio de Janeiro",
         "RJ"
        ],
        [
         "80",
         "Rio de Janeiro",
         "RJ"
        ],
        [
         "7",
         "Rio de Janeiro",
         "RJ"
        ],
        [
         "86",
         "Betim",
         "MG"
        ],
        [
         "83",
         "Betim",
         "MG"
        ],
        [
         "2",
         "Campinas",
         "SP"
        ],
        [
         "48",
         "Embu das Artes",
         "SP"
        ],
        [
         "32",
         "Novo Hamburgo",
         "RS"
        ],
        [
         "15",
         "Porto Alegre",
         "RS"
        ],
        [
         "104",
         "Várzea Grande",
         "MT"
        ],
        [
         "33",
         "Aparecida de Goiânia",
         "GO"
        ],
        [
         "79",
         "Goiânia",
         "GO"
        ],
        [
         "67",
         "Goiânia",
         "GO"
        ],
        [
         "21",
         "Belém",
         "PA"
        ],
        [
         "102",
         "Timon",
         "MA"
        ],
        [
         "68",
         "Teresina",
         "PI"
        ],
        [
         "96",
         "Caucaia",
         "CE"
        ],
        [
         "14",
         "Fortaleza",
         "CE"
        ],
        [
         "63",
         "Guarabira",
         "PB"
        ],
        [
         "95",
         "João Pessoa",
         "PB"
        ],
        [
         "36",
         "João Pessoa",
         "PB"
        ],
        [
         "51",
         "Ponta Grossa",
         "PR"
        ],
        [
         "64",
         "Blumenau",
         "SC"
        ],
        [
         "84",
         "Vila Velha",
         "ES"
        ],
        [
         "13",
         "Vitória",
         "ES"
        ],
        [
         "58",
         "Uberlândia",
         "MG"
        ],
        [
         "75",
         "Vinhedo",
         "SP"
        ],
        [
         "18",
         "Votorantim",
         "SP"
        ],
        [
         "34",
         "Araçatuba",
         "SP"
        ],
        [
         "99",
         "Ariquemes",
         "RO"
        ],
        [
         "108",
         "Jaru",
         "RO"
        ],
        [
         "114",
         "Rio Branco",
         "AC"
        ],
        [
         "109",
         "Manaus",
         "AM"
        ],
        [
         "40",
         "São José dos Campos",
         "SP"
        ],
        [
         "8",
         "São José dos Campos",
         "SP"
        ],
        [
         "70",
         "São José dos Campos",
         "SP"
        ],
        [
         "19",
         "São Paulo",
         "SP"
        ],
        [
         "42",
         "São Paulo",
         "SP"
        ],
        [
         "27",
         "São Paulo",
         "SP"
        ],
        [
         "35",
         "Praia Grande",
         "SP"
        ],
        [
         "28",
         "Santo André",
         "SP"
        ],
        [
         "112",
         "Lauro de Freitas",
         "BA"
        ],
        [
         "24",
         "Belo Horizonte",
         "MG"
        ],
        [
         "3",
         "Belo Horizonte",
         "MG"
        ],
        [
         "56",
         "Cuiabá",
         "MT"
        ],
        [
         "37",
         "Cuiabá",
         "MT"
        ],
        [
         "62",
         "Itaquaquecetuba",
         "SP"
        ],
        [
         "30",
         "Itu",
         "SP"
        ],
        [
         "57",
         "Marília",
         "SP"
        ],
        [
         "61",
         "Araguaína",
         "TO"
        ],
        [
         "110",
         "Colinas do Tocantins",
         "TO"
        ],
        [
         "90",
         "Paraíso do Tocantins",
         "TO"
        ],
        [
         "105",
         "Porto Nacional",
         "TO"
        ],
        [
         "94",
         "Fortaleza",
         "CE"
        ],
        [
         "93",
         "Fortaleza",
         "CE"
        ],
        [
         "100",
         "Maranguape",
         "CE"
        ],
        [
         "20",
         "Salvador",
         "BA"
        ],
        [
         "4",
         "Salvador",
         "BA"
        ],
        [
         "60",
         "Simões Filho",
         "BA"
        ],
        [
         "65",
         "Imperatriz",
         "MA"
        ],
        [
         "50",
         "São Luís",
         "MA"
        ],
        [
         "16",
         "São Paulo",
         "SP"
        ],
        [
         "12",
         "Curitiba",
         "PR"
        ],
        [
         "5",
         "Curitiba",
         "PR"
        ],
        [
         "53",
         "Foz do Iguaçu",
         "PR"
        ],
        [
         "45",
         "Londrina",
         "PR"
        ],
        [
         "38",
         "Juiz de Fora",
         "MG"
        ],
        [
         "91",
         "Petrolina",
         "PE"
        ],
        [
         "43",
         "Recife",
         "PE"
        ],
        [
         "23",
         "Recife",
         "PE"
        ],
        [
         "113",
         "Serra Talhada",
         "PE"
        ],
        [
         "85",
         "Vitória de Santo Antão",
         "PE"
        ],
        [
         "77",
         "Brasília",
         "DF"
        ],
        [
         "31",
         "Brasília",
         "DF"
        ],
        [
         "82",
         "Brasília",
         "DF"
        ],
        [
         "41",
         "Brasília",
         "DF"
        ],
        [
         "47",
         "Guaratinguetá",
         "SP"
        ],
        [
         "44",
         "Guarulhos",
         "SP"
        ],
        [
         "89",
         "Itapecerica da Serra",
         "SP"
        ],
        [
         "107",
         "Campos dos Goytacazes",
         "RJ"
        ],
        [
         "9",
         "Niterói",
         "RJ"
        ],
        [
         "17",
         "Jaboatão dos Guararapes",
         "PE"
        ],
        [
         "111",
         "Olinda",
         "PE"
        ],
        [
         "39",
         "Natal",
         "RN"
        ],
        [
         "103",
         "Santa Maria",
         "RS"
        ],
        [
         "29",
         "Campo Grande",
         "MS"
        ],
        [
         "11",
         "Maceió",
         "AL"
        ],
        [
         "92",
         "Rio Largo",
         "AL"
        ],
        [
         "22",
         "Aracaju",
         "SE"
        ],
        [
         "78",
         "Osasco",
         "SP"
        ],
        [
         "98",
         "Penápolis",
         "SP"
        ],
        [
         "66",
         "Pindamonhangaba",
         "SP"
        ],
        [
         "69",
         "Santos",
         "SP"
        ],
        [
         "106",
         "São Bernardo do Campo",
         "SP"
        ],
        [
         "54",
         "São José do Rio Preto",
         "SP"
        ],
        [
         "87",
         "São José do Rio Preto",
         "SP"
        ],
        [
         "55",
         "Rio Verde",
         "GO"
        ],
        [
         "46",
         "Feira de Santana",
         "BA"
        ],
        [
         "72",
         "Petrópolis",
         "RJ"
        ],
        [
         "73",
         "Queimados",
         "RJ"
        ],
        [
         "97",
         "Boa Vista",
         "RR"
        ],
        [
         "59",
         "Belém",
         "PA"
        ],
        [
         "74",
         "São Paulo",
         "SP"
        ],
        [
         "26",
         "São Paulo",
         "SP"
        ],
        [
         "88",
         "Sorocaba",
         "SP"
        ],
        [
         "49",
         "Suzano",
         "SP"
        ],
        [
         "76",
         "Boituva",
         "SP"
        ],
        [
         "81",
         "Botucatu",
         "SP"
        ],
        [
         "101",
         "Cajamar",
         "SP"
        ]
       ],
       "datasetInfos": [],
       "dbfsResultPath": null,
       "isJsonSchema": true,
       "metadata": {},
       "overflow": false,
       "plotOptions": {
        "customPlotOptions": {},
        "displayType": "table",
        "pivotAggregation": null,
        "pivotColumns": null,
        "xColumns": null,
        "yColumns": null
       },
       "removedWidgets": [],
       "schema": [
        {
         "metadata": "{}",
         "name": "cod_loja",
         "type": "\"string\""
        },
        {
         "metadata": "{}",
         "name": "municipio",
         "type": "\"string\""
        },
        {
         "metadata": "{}",
         "name": "estado",
         "type": "\"string\""
        }
       ],
       "type": "table"
      }
     },
     "output_type": "display_data"
    }
   ],
   "source": [
    "df_lojas = spark.read.csv(\"/mnt/batch/lojas_finais.csv\", header=True, sep=\",\")\n",
    "df_lojas.display()"
   ]
  },
  {
   "cell_type": "code",
   "execution_count": 0,
   "metadata": {
    "application/vnd.databricks.v1+cell": {
     "cellMetadata": {
      "byteLimit": 2048000,
      "rowLimit": 10000
     },
     "inputWidgets": {},
     "nuid": "2c276eb1-0fcf-46fa-883b-32ed710ac94b",
     "showTitle": false,
     "title": ""
    }
   },
   "outputs": [],
   "source": [
    "df_lojas.write.mode(\"overwrite\").saveAsTable(\"raw.lojas_main_raw\")"
   ]
  },
  {
   "cell_type": "code",
   "execution_count": 0,
   "metadata": {
    "application/vnd.databricks.v1+cell": {
     "cellMetadata": {
      "byteLimit": 2048000,
      "implicitDf": true,
      "rowLimit": 10000
     },
     "inputWidgets": {},
     "nuid": "3bf684b5-262b-46c0-8bce-7eaa93309a1a",
     "showTitle": false,
     "title": ""
    }
   },
   "outputs": [
    {
     "output_type": "display_data",
     "data": {
      "text/html": [
       "<style scoped>\n  .table-result-container {\n    max-height: 300px;\n    overflow: auto;\n  }\n  table, th, td {\n    border: 1px solid black;\n    border-collapse: collapse;\n  }\n  th, td {\n    padding: 5px;\n  }\n  th {\n    text-align: left;\n  }\n</style><div class='table-result-container'><table class='table-result'><thead style='background-color: white'><tr><th>cod_loja</th><th>municipio</th><th>estado</th></tr></thead><tbody><tr><td>6</td><td>São Paulo</td><td>SP</td></tr><tr><td>52</td><td>São Paulo</td><td>SP</td></tr><tr><td>10</td><td>Rio de Janeiro</td><td>RJ</td></tr><tr><td>71</td><td>Rio de Janeiro</td><td>RJ</td></tr><tr><td>25</td><td>Rio de Janeiro</td><td>RJ</td></tr><tr><td>80</td><td>Rio de Janeiro</td><td>RJ</td></tr><tr><td>7</td><td>Rio de Janeiro</td><td>RJ</td></tr><tr><td>86</td><td>Betim</td><td>MG</td></tr><tr><td>83</td><td>Betim</td><td>MG</td></tr><tr><td>2</td><td>Campinas</td><td>SP</td></tr><tr><td>48</td><td>Embu das Artes</td><td>SP</td></tr><tr><td>32</td><td>Novo Hamburgo</td><td>RS</td></tr><tr><td>15</td><td>Porto Alegre</td><td>RS</td></tr><tr><td>104</td><td>Várzea Grande</td><td>MT</td></tr><tr><td>33</td><td>Aparecida de Goiânia</td><td>GO</td></tr><tr><td>79</td><td>Goiânia</td><td>GO</td></tr><tr><td>67</td><td>Goiânia</td><td>GO</td></tr><tr><td>21</td><td>Belém</td><td>PA</td></tr><tr><td>102</td><td>Timon</td><td>MA</td></tr><tr><td>68</td><td>Teresina</td><td>PI</td></tr><tr><td>96</td><td>Caucaia</td><td>CE</td></tr><tr><td>14</td><td>Fortaleza</td><td>CE</td></tr><tr><td>63</td><td>Guarabira</td><td>PB</td></tr><tr><td>95</td><td>João Pessoa</td><td>PB</td></tr><tr><td>36</td><td>João Pessoa</td><td>PB</td></tr><tr><td>51</td><td>Ponta Grossa</td><td>PR</td></tr><tr><td>64</td><td>Blumenau</td><td>SC</td></tr><tr><td>84</td><td>Vila Velha</td><td>ES</td></tr><tr><td>13</td><td>Vitória</td><td>ES</td></tr><tr><td>58</td><td>Uberlândia</td><td>MG</td></tr><tr><td>75</td><td>Vinhedo</td><td>SP</td></tr><tr><td>18</td><td>Votorantim</td><td>SP</td></tr><tr><td>34</td><td>Araçatuba</td><td>SP</td></tr><tr><td>99</td><td>Ariquemes</td><td>RO</td></tr><tr><td>108</td><td>Jaru</td><td>RO</td></tr><tr><td>114</td><td>Rio Branco</td><td>AC</td></tr><tr><td>109</td><td>Manaus</td><td>AM</td></tr><tr><td>40</td><td>São José dos Campos</td><td>SP</td></tr><tr><td>8</td><td>São José dos Campos</td><td>SP</td></tr><tr><td>70</td><td>São José dos Campos</td><td>SP</td></tr><tr><td>19</td><td>São Paulo</td><td>SP</td></tr><tr><td>42</td><td>São Paulo</td><td>SP</td></tr><tr><td>27</td><td>São Paulo</td><td>SP</td></tr><tr><td>35</td><td>Praia Grande</td><td>SP</td></tr><tr><td>28</td><td>Santo André</td><td>SP</td></tr><tr><td>112</td><td>Lauro de Freitas</td><td>BA</td></tr><tr><td>24</td><td>Belo Horizonte</td><td>MG</td></tr><tr><td>3</td><td>Belo Horizonte</td><td>MG</td></tr><tr><td>56</td><td>Cuiabá</td><td>MT</td></tr><tr><td>37</td><td>Cuiabá</td><td>MT</td></tr><tr><td>62</td><td>Itaquaquecetuba</td><td>SP</td></tr><tr><td>30</td><td>Itu</td><td>SP</td></tr><tr><td>57</td><td>Marília</td><td>SP</td></tr><tr><td>61</td><td>Araguaína</td><td>TO</td></tr><tr><td>110</td><td>Colinas do Tocantins</td><td>TO</td></tr><tr><td>90</td><td>Paraíso do Tocantins</td><td>TO</td></tr><tr><td>105</td><td>Porto Nacional</td><td>TO</td></tr><tr><td>94</td><td>Fortaleza</td><td>CE</td></tr><tr><td>93</td><td>Fortaleza</td><td>CE</td></tr><tr><td>100</td><td>Maranguape</td><td>CE</td></tr><tr><td>20</td><td>Salvador</td><td>BA</td></tr><tr><td>4</td><td>Salvador</td><td>BA</td></tr><tr><td>60</td><td>Simões Filho</td><td>BA</td></tr><tr><td>65</td><td>Imperatriz</td><td>MA</td></tr><tr><td>50</td><td>São Luís</td><td>MA</td></tr><tr><td>16</td><td>São Paulo</td><td>SP</td></tr><tr><td>12</td><td>Curitiba</td><td>PR</td></tr><tr><td>5</td><td>Curitiba</td><td>PR</td></tr><tr><td>53</td><td>Foz do Iguaçu</td><td>PR</td></tr><tr><td>45</td><td>Londrina</td><td>PR</td></tr><tr><td>38</td><td>Juiz de Fora</td><td>MG</td></tr><tr><td>91</td><td>Petrolina</td><td>PE</td></tr><tr><td>43</td><td>Recife</td><td>PE</td></tr><tr><td>23</td><td>Recife</td><td>PE</td></tr><tr><td>113</td><td>Serra Talhada</td><td>PE</td></tr><tr><td>85</td><td>Vitória de Santo Antão</td><td>PE</td></tr><tr><td>77</td><td>Brasília</td><td>DF</td></tr><tr><td>31</td><td>Brasília</td><td>DF</td></tr><tr><td>82</td><td>Brasília</td><td>DF</td></tr><tr><td>41</td><td>Brasília</td><td>DF</td></tr><tr><td>47</td><td>Guaratinguetá</td><td>SP</td></tr><tr><td>44</td><td>Guarulhos</td><td>SP</td></tr><tr><td>89</td><td>Itapecerica da Serra</td><td>SP</td></tr><tr><td>107</td><td>Campos dos Goytacazes</td><td>RJ</td></tr><tr><td>9</td><td>Niterói</td><td>RJ</td></tr><tr><td>17</td><td>Jaboatão dos Guararapes</td><td>PE</td></tr><tr><td>111</td><td>Olinda</td><td>PE</td></tr><tr><td>39</td><td>Natal</td><td>RN</td></tr><tr><td>103</td><td>Santa Maria</td><td>RS</td></tr><tr><td>29</td><td>Campo Grande</td><td>MS</td></tr><tr><td>11</td><td>Maceió</td><td>AL</td></tr><tr><td>92</td><td>Rio Largo</td><td>AL</td></tr><tr><td>22</td><td>Aracaju</td><td>SE</td></tr><tr><td>78</td><td>Osasco</td><td>SP</td></tr><tr><td>98</td><td>Penápolis</td><td>SP</td></tr><tr><td>66</td><td>Pindamonhangaba</td><td>SP</td></tr><tr><td>69</td><td>Santos</td><td>SP</td></tr><tr><td>106</td><td>São Bernardo do Campo</td><td>SP</td></tr><tr><td>54</td><td>São José do Rio Preto</td><td>SP</td></tr><tr><td>87</td><td>São José do Rio Preto</td><td>SP</td></tr><tr><td>55</td><td>Rio Verde</td><td>GO</td></tr><tr><td>46</td><td>Feira de Santana</td><td>BA</td></tr><tr><td>72</td><td>Petrópolis</td><td>RJ</td></tr><tr><td>73</td><td>Queimados</td><td>RJ</td></tr><tr><td>97</td><td>Boa Vista</td><td>RR</td></tr><tr><td>59</td><td>Belém</td><td>PA</td></tr><tr><td>74</td><td>São Paulo</td><td>SP</td></tr><tr><td>26</td><td>São Paulo</td><td>SP</td></tr><tr><td>88</td><td>Sorocaba</td><td>SP</td></tr><tr><td>49</td><td>Suzano</td><td>SP</td></tr><tr><td>76</td><td>Boituva</td><td>SP</td></tr><tr><td>81</td><td>Botucatu</td><td>SP</td></tr><tr><td>101</td><td>Cajamar</td><td>SP</td></tr></tbody></table></div>"
      ]
     },
     "metadata": {
      "application/vnd.databricks.v1+output": {
       "addedWidgets": {},
       "aggData": [],
       "aggError": "",
       "aggOverflow": false,
       "aggSchema": [],
       "aggSeriesLimitReached": false,
       "aggType": "",
       "arguments": {},
       "columnCustomDisplayInfos": {},
       "data": [
        [
         "6",
         "São Paulo",
         "SP"
        ],
        [
         "52",
         "São Paulo",
         "SP"
        ],
        [
         "10",
         "Rio de Janeiro",
         "RJ"
        ],
        [
         "71",
         "Rio de Janeiro",
         "RJ"
        ],
        [
         "25",
         "Rio de Janeiro",
         "RJ"
        ],
        [
         "80",
         "Rio de Janeiro",
         "RJ"
        ],
        [
         "7",
         "Rio de Janeiro",
         "RJ"
        ],
        [
         "86",
         "Betim",
         "MG"
        ],
        [
         "83",
         "Betim",
         "MG"
        ],
        [
         "2",
         "Campinas",
         "SP"
        ],
        [
         "48",
         "Embu das Artes",
         "SP"
        ],
        [
         "32",
         "Novo Hamburgo",
         "RS"
        ],
        [
         "15",
         "Porto Alegre",
         "RS"
        ],
        [
         "104",
         "Várzea Grande",
         "MT"
        ],
        [
         "33",
         "Aparecida de Goiânia",
         "GO"
        ],
        [
         "79",
         "Goiânia",
         "GO"
        ],
        [
         "67",
         "Goiânia",
         "GO"
        ],
        [
         "21",
         "Belém",
         "PA"
        ],
        [
         "102",
         "Timon",
         "MA"
        ],
        [
         "68",
         "Teresina",
         "PI"
        ],
        [
         "96",
         "Caucaia",
         "CE"
        ],
        [
         "14",
         "Fortaleza",
         "CE"
        ],
        [
         "63",
         "Guarabira",
         "PB"
        ],
        [
         "95",
         "João Pessoa",
         "PB"
        ],
        [
         "36",
         "João Pessoa",
         "PB"
        ],
        [
         "51",
         "Ponta Grossa",
         "PR"
        ],
        [
         "64",
         "Blumenau",
         "SC"
        ],
        [
         "84",
         "Vila Velha",
         "ES"
        ],
        [
         "13",
         "Vitória",
         "ES"
        ],
        [
         "58",
         "Uberlândia",
         "MG"
        ],
        [
         "75",
         "Vinhedo",
         "SP"
        ],
        [
         "18",
         "Votorantim",
         "SP"
        ],
        [
         "34",
         "Araçatuba",
         "SP"
        ],
        [
         "99",
         "Ariquemes",
         "RO"
        ],
        [
         "108",
         "Jaru",
         "RO"
        ],
        [
         "114",
         "Rio Branco",
         "AC"
        ],
        [
         "109",
         "Manaus",
         "AM"
        ],
        [
         "40",
         "São José dos Campos",
         "SP"
        ],
        [
         "8",
         "São José dos Campos",
         "SP"
        ],
        [
         "70",
         "São José dos Campos",
         "SP"
        ],
        [
         "19",
         "São Paulo",
         "SP"
        ],
        [
         "42",
         "São Paulo",
         "SP"
        ],
        [
         "27",
         "São Paulo",
         "SP"
        ],
        [
         "35",
         "Praia Grande",
         "SP"
        ],
        [
         "28",
         "Santo André",
         "SP"
        ],
        [
         "112",
         "Lauro de Freitas",
         "BA"
        ],
        [
         "24",
         "Belo Horizonte",
         "MG"
        ],
        [
         "3",
         "Belo Horizonte",
         "MG"
        ],
        [
         "56",
         "Cuiabá",
         "MT"
        ],
        [
         "37",
         "Cuiabá",
         "MT"
        ],
        [
         "62",
         "Itaquaquecetuba",
         "SP"
        ],
        [
         "30",
         "Itu",
         "SP"
        ],
        [
         "57",
         "Marília",
         "SP"
        ],
        [
         "61",
         "Araguaína",
         "TO"
        ],
        [
         "110",
         "Colinas do Tocantins",
         "TO"
        ],
        [
         "90",
         "Paraíso do Tocantins",
         "TO"
        ],
        [
         "105",
         "Porto Nacional",
         "TO"
        ],
        [
         "94",
         "Fortaleza",
         "CE"
        ],
        [
         "93",
         "Fortaleza",
         "CE"
        ],
        [
         "100",
         "Maranguape",
         "CE"
        ],
        [
         "20",
         "Salvador",
         "BA"
        ],
        [
         "4",
         "Salvador",
         "BA"
        ],
        [
         "60",
         "Simões Filho",
         "BA"
        ],
        [
         "65",
         "Imperatriz",
         "MA"
        ],
        [
         "50",
         "São Luís",
         "MA"
        ],
        [
         "16",
         "São Paulo",
         "SP"
        ],
        [
         "12",
         "Curitiba",
         "PR"
        ],
        [
         "5",
         "Curitiba",
         "PR"
        ],
        [
         "53",
         "Foz do Iguaçu",
         "PR"
        ],
        [
         "45",
         "Londrina",
         "PR"
        ],
        [
         "38",
         "Juiz de Fora",
         "MG"
        ],
        [
         "91",
         "Petrolina",
         "PE"
        ],
        [
         "43",
         "Recife",
         "PE"
        ],
        [
         "23",
         "Recife",
         "PE"
        ],
        [
         "113",
         "Serra Talhada",
         "PE"
        ],
        [
         "85",
         "Vitória de Santo Antão",
         "PE"
        ],
        [
         "77",
         "Brasília",
         "DF"
        ],
        [
         "31",
         "Brasília",
         "DF"
        ],
        [
         "82",
         "Brasília",
         "DF"
        ],
        [
         "41",
         "Brasília",
         "DF"
        ],
        [
         "47",
         "Guaratinguetá",
         "SP"
        ],
        [
         "44",
         "Guarulhos",
         "SP"
        ],
        [
         "89",
         "Itapecerica da Serra",
         "SP"
        ],
        [
         "107",
         "Campos dos Goytacazes",
         "RJ"
        ],
        [
         "9",
         "Niterói",
         "RJ"
        ],
        [
         "17",
         "Jaboatão dos Guararapes",
         "PE"
        ],
        [
         "111",
         "Olinda",
         "PE"
        ],
        [
         "39",
         "Natal",
         "RN"
        ],
        [
         "103",
         "Santa Maria",
         "RS"
        ],
        [
         "29",
         "Campo Grande",
         "MS"
        ],
        [
         "11",
         "Maceió",
         "AL"
        ],
        [
         "92",
         "Rio Largo",
         "AL"
        ],
        [
         "22",
         "Aracaju",
         "SE"
        ],
        [
         "78",
         "Osasco",
         "SP"
        ],
        [
         "98",
         "Penápolis",
         "SP"
        ],
        [
         "66",
         "Pindamonhangaba",
         "SP"
        ],
        [
         "69",
         "Santos",
         "SP"
        ],
        [
         "106",
         "São Bernardo do Campo",
         "SP"
        ],
        [
         "54",
         "São José do Rio Preto",
         "SP"
        ],
        [
         "87",
         "São José do Rio Preto",
         "SP"
        ],
        [
         "55",
         "Rio Verde",
         "GO"
        ],
        [
         "46",
         "Feira de Santana",
         "BA"
        ],
        [
         "72",
         "Petrópolis",
         "RJ"
        ],
        [
         "73",
         "Queimados",
         "RJ"
        ],
        [
         "97",
         "Boa Vista",
         "RR"
        ],
        [
         "59",
         "Belém",
         "PA"
        ],
        [
         "74",
         "São Paulo",
         "SP"
        ],
        [
         "26",
         "São Paulo",
         "SP"
        ],
        [
         "88",
         "Sorocaba",
         "SP"
        ],
        [
         "49",
         "Suzano",
         "SP"
        ],
        [
         "76",
         "Boituva",
         "SP"
        ],
        [
         "81",
         "Botucatu",
         "SP"
        ],
        [
         "101",
         "Cajamar",
         "SP"
        ]
       ],
       "datasetInfos": [],
       "dbfsResultPath": null,
       "isJsonSchema": true,
       "metadata": {},
       "overflow": false,
       "plotOptions": {
        "customPlotOptions": {},
        "displayType": "table",
        "pivotAggregation": null,
        "pivotColumns": null,
        "xColumns": null,
        "yColumns": null
       },
       "removedWidgets": [],
       "schema": [
        {
         "metadata": "{}",
         "name": "cod_loja",
         "type": "\"string\""
        },
        {
         "metadata": "{}",
         "name": "municipio",
         "type": "\"string\""
        },
        {
         "metadata": "{}",
         "name": "estado",
         "type": "\"string\""
        }
       ],
       "type": "table"
      }
     },
     "output_type": "display_data"
    }
   ],
   "source": [
    "%sql\n",
    "SELECT * FROM raw.lojas_main_raw"
   ]
  }
 ],
 "metadata": {
  "application/vnd.databricks.v1+notebook": {
   "dashboards": [],
   "language": "python",
   "notebookMetadata": {
    "mostRecentlyExecutedCommandWithImplicitDF": {
     "commandId": 1021756329963388,
     "dataframes": [
      "_sqldf"
     ]
    },
    "pythonIndentUnit": 4
   },
   "notebookName": "Criando tabela lojas raw",
   "notebookOrigID": 1021756329963385,
   "widgets": {}
  }
 },
 "nbformat": 4,
 "nbformat_minor": 0
}
