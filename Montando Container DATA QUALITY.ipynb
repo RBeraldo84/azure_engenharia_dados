{
 "cells": [
  {
   "cell_type": "code",
   "execution_count": 0,
   "metadata": {
    "application/vnd.databricks.v1+cell": {
     "cellMetadata": {
      "byteLimit": 2048000,
      "rowLimit": 10000
     },
     "inputWidgets": {},
     "nuid": "a1f9bb07-fe61-4d7a-9c9f-4aa5411b2c8d",
     "showTitle": false,
     "title": ""
    }
   },
   "outputs": [
    {
     "output_type": "stream",
     "name": "stdout",
     "output_type": "stream",
     "text": [
      "Out[2]: True"
     ]
    }
   ],
   "source": [
    "container_name = \"lakehouse\"\n",
    "storage_account = \"storagedatalakehouse\"\n",
    "key = dbutils.secrets.get(scope=\"senhas-data-lake-house\", key=\"storage-lakehouse\")\n",
    "\n",
    "dbutils.fs.mount(\n",
    "  source = f\"wasbs://{container_name}@{storage_account}.blob.core.windows.net/dataquality\",\n",
    "  mount_point = \"/mnt/dataquality\",\n",
    "  extra_configs = {f\"fs.azure.account.key.{storage_account}.blob.core.windows.net\":key})"
   ]
  }
 ],
 "metadata": {
  "application/vnd.databricks.v1+notebook": {
   "dashboards": [],
   "language": "python",
   "notebookMetadata": {
    "mostRecentlyExecutedCommandWithImplicitDF": {
     "commandId": 17481053988326,
     "dataframes": [
      "_sqldf"
     ]
    },
    "pythonIndentUnit": 4
   },
   "notebookName": "Montando Container DATA QUALITY",
   "notebookOrigID": 333799256638417,
   "widgets": {}
  }
 },
 "nbformat": 4,
 "nbformat_minor": 0
}
