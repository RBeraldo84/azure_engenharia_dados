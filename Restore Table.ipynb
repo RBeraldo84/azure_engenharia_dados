{
 "cells": [
  {
   "cell_type": "code",
   "execution_count": 0,
   "metadata": {
    "application/vnd.databricks.v1+cell": {
     "cellMetadata": {
      "byteLimit": 2048000,
      "implicitDf": true,
      "rowLimit": 10000
     },
     "inputWidgets": {},
     "nuid": "df746ae2-b4ca-488f-9a3c-7df53206b881",
     "showTitle": false,
     "title": ""
    }
   },
   "outputs": [
    {
     "output_type": "display_data",
     "data": {
      "text/html": [
       "<style scoped>\n  .table-result-container {\n    max-height: 300px;\n    overflow: auto;\n  }\n  table, th, td {\n    border: 1px solid black;\n    border-collapse: collapse;\n  }\n  th, td {\n    padding: 5px;\n  }\n  th {\n    text-align: left;\n  }\n</style><div class='table-result-container'><table class='table-result'><thead style='background-color: white'><tr><th>cod_loja</th><th>renda_nominal_f_a2mais</th><th>renda_nominal_f_a</th><th>renda_nominal_f_b1</th><th>renda_nominal_f_b2</th><th>renda_nominal_f_c1</th><th>renda_nominal_f_c2</th><th>renda_nominal_f_d</th><th>renda_nominal_f_e</th></tr></thead><tbody><tr><td>5</td><td>780913.43211</td><td>706752.2460899999</td><td>810959.9539300001</td><td>438846.74031</td><td>237924.14889</td><td>62605.83409</td><td>0.0</td><td>30232.65549</td></tr><tr><td>6</td><td>7604726.89102</td><td>2790853.10301</td><td>1462048.5546</td><td>229930.12278</td><td>90601.63185</td><td>23258.92119</td><td>916.50992</td><td>18145.00439</td></tr><tr><td>3</td><td>3743548.40249</td><td>3168629.85482</td><td>1328555.91125</td><td>161263.20565</td><td>28890.7082</td><td>15988.81115</td><td>846.89722</td><td>13284.73261</td></tr><tr><td>2</td><td>4266538.42392</td><td>2912433.4084</td><td>1056253.69223</td><td>368459.51395</td><td>336858.1178</td><td>129407.987</td><td>8119.97045</td><td>48173.88078</td></tr><tr><td>4</td><td>1073070.55206</td><td>1006660.66628</td><td>1610729.19026</td><td>463254.35467</td><td>124495.82444</td><td>38610.48528</td><td>2217.45037</td><td>24266.90822</td></tr></tbody></table></div>"
      ]
     },
     "metadata": {
      "application/vnd.databricks.v1+output": {
       "addedWidgets": {},
       "aggData": [],
       "aggError": "",
       "aggOverflow": false,
       "aggSchema": [],
       "aggSeriesLimitReached": false,
       "aggType": "",
       "arguments": {},
       "columnCustomDisplayInfos": {},
       "data": [
        [
         5,
         780913.43211,
         706752.2460899999,
         810959.9539300001,
         438846.74031,
         237924.14889,
         62605.83409,
         0.0,
         30232.65549
        ],
        [
         6,
         7604726.89102,
         2790853.10301,
         1462048.5546,
         229930.12278,
         90601.63185,
         23258.92119,
         916.50992,
         18145.00439
        ],
        [
         3,
         3743548.40249,
         3168629.85482,
         1328555.91125,
         161263.20565,
         28890.7082,
         15988.81115,
         846.89722,
         13284.73261
        ],
        [
         2,
         4266538.42392,
         2912433.4084,
         1056253.69223,
         368459.51395,
         336858.1178,
         129407.987,
         8119.97045,
         48173.88078
        ],
        [
         4,
         1073070.55206,
         1006660.66628,
         1610729.19026,
         463254.35467,
         124495.82444,
         38610.48528,
         2217.45037,
         24266.90822
        ]
       ],
       "datasetInfos": [],
       "dbfsResultPath": null,
       "isJsonSchema": true,
       "metadata": {},
       "overflow": false,
       "plotOptions": {
        "customPlotOptions": {},
        "displayType": "table",
        "pivotAggregation": null,
        "pivotColumns": null,
        "xColumns": null,
        "yColumns": null
       },
       "removedWidgets": [],
       "schema": [
        {
         "metadata": "{}",
         "name": "cod_loja",
         "type": "\"integer\""
        },
        {
         "metadata": "{}",
         "name": "renda_nominal_f_a2mais",
         "type": "\"double\""
        },
        {
         "metadata": "{}",
         "name": "renda_nominal_f_a",
         "type": "\"double\""
        },
        {
         "metadata": "{}",
         "name": "renda_nominal_f_b1",
         "type": "\"double\""
        },
        {
         "metadata": "{}",
         "name": "renda_nominal_f_b2",
         "type": "\"double\""
        },
        {
         "metadata": "{}",
         "name": "renda_nominal_f_c1",
         "type": "\"double\""
        },
        {
         "metadata": "{}",
         "name": "renda_nominal_f_c2",
         "type": "\"double\""
        },
        {
         "metadata": "{}",
         "name": "renda_nominal_f_d",
         "type": "\"double\""
        },
        {
         "metadata": "{}",
         "name": "renda_nominal_f_e",
         "type": "\"double\""
        }
       ],
       "type": "table"
      }
     },
     "output_type": "display_data"
    }
   ],
   "source": [
    "%sql\n",
    "SELECT * FROM dev.dados_externos_renda_nominal_dev LIMIT 5"
   ]
  },
  {
   "cell_type": "code",
   "execution_count": 0,
   "metadata": {
    "application/vnd.databricks.v1+cell": {
     "cellMetadata": {
      "byteLimit": 2048000,
      "implicitDf": true,
      "rowLimit": 10000
     },
     "inputWidgets": {},
     "nuid": "315385e5-f160-45bf-bcdf-bfca89f322b7",
     "showTitle": false,
     "title": ""
    }
   },
   "outputs": [
    {
     "output_type": "display_data",
     "data": {
      "text/html": [
       "<style scoped>\n  .table-result-container {\n    max-height: 300px;\n    overflow: auto;\n  }\n  table, th, td {\n    border: 1px solid black;\n    border-collapse: collapse;\n  }\n  th, td {\n    padding: 5px;\n  }\n  th {\n    text-align: left;\n  }\n</style><div class='table-result-container'><table class='table-result'><thead style='background-color: white'><tr><th>num_affected_rows</th></tr></thead><tbody><tr><td>100</td></tr></tbody></table></div>"
      ]
     },
     "metadata": {
      "application/vnd.databricks.v1+output": {
       "addedWidgets": {},
       "aggData": [],
       "aggError": "",
       "aggOverflow": false,
       "aggSchema": [],
       "aggSeriesLimitReached": false,
       "aggType": "",
       "arguments": {},
       "columnCustomDisplayInfos": {},
       "data": [
        [
         100
        ]
       ],
       "datasetInfos": [],
       "dbfsResultPath": null,
       "isJsonSchema": true,
       "metadata": {},
       "overflow": false,
       "plotOptions": {
        "customPlotOptions": {},
        "displayType": "table",
        "pivotAggregation": null,
        "pivotColumns": null,
        "xColumns": null,
        "yColumns": null
       },
       "removedWidgets": [],
       "schema": [
        {
         "metadata": "{}",
         "name": "num_affected_rows",
         "type": "\"long\""
        }
       ],
       "type": "table"
      }
     },
     "output_type": "display_data"
    }
   ],
   "source": [
    "%sql\n",
    "UPDATE dev.dados_externos_renda_nominal_dev SET cod_loja = 9"
   ]
  },
  {
   "cell_type": "code",
   "execution_count": 0,
   "metadata": {
    "application/vnd.databricks.v1+cell": {
     "cellMetadata": {
      "byteLimit": 2048000,
      "implicitDf": true,
      "rowLimit": 10000
     },
     "inputWidgets": {},
     "nuid": "64ba7362-35e0-474d-be3e-a7765fcbdb56",
     "showTitle": false,
     "title": ""
    }
   },
   "outputs": [
    {
     "output_type": "display_data",
     "data": {
      "text/html": [
       "<style scoped>\n  .table-result-container {\n    max-height: 300px;\n    overflow: auto;\n  }\n  table, th, td {\n    border: 1px solid black;\n    border-collapse: collapse;\n  }\n  th, td {\n    padding: 5px;\n  }\n  th {\n    text-align: left;\n  }\n</style><div class='table-result-container'><table class='table-result'><thead style='background-color: white'><tr><th>cod_loja</th><th>renda_nominal_f_a2mais</th><th>renda_nominal_f_a</th><th>renda_nominal_f_b1</th><th>renda_nominal_f_b2</th><th>renda_nominal_f_c1</th><th>renda_nominal_f_c2</th><th>renda_nominal_f_d</th><th>renda_nominal_f_e</th></tr></thead><tbody><tr><td>9</td><td>275133.67299</td><td>1976072.38689</td><td>2234036.01155</td><td>1559669.49911</td><td>869967.85346</td><td>586314.78002</td><td>48143.37757</td><td>234298.18384</td></tr><tr><td>9</td><td>780913.43211</td><td>706752.2460899999</td><td>810959.9539300001</td><td>438846.74031</td><td>237924.14889</td><td>62605.83409</td><td>0.0</td><td>30232.65549</td></tr><tr><td>9</td><td>1637821.77953</td><td>3325424.80173</td><td>2927103.61687</td><td>856648.60497</td><td>382805.51687</td><td>129724.66199</td><td>13449.13146</td><td>46957.35349</td></tr><tr><td>9</td><td>101079.87205</td><td>163173.719</td><td>357131.10273000004</td><td>157216.973</td><td>122591.84278</td><td>76820.70325</td><td>8074.69788</td><td>32438.31267</td></tr><tr><td>9</td><td>134041.45513</td><td>217115.79194</td><td>639761.0168600001</td><td>253691.39063</td><td>219072.29875</td><td>114231.26551</td><td>9961.82802</td><td>49215.51103</td></tr></tbody></table></div>"
      ]
     },
     "metadata": {
      "application/vnd.databricks.v1+output": {
       "addedWidgets": {},
       "aggData": [],
       "aggError": "",
       "aggOverflow": false,
       "aggSchema": [],
       "aggSeriesLimitReached": false,
       "aggType": "",
       "arguments": {},
       "columnCustomDisplayInfos": {},
       "data": [
        [
         9,
         275133.67299,
         1976072.38689,
         2234036.01155,
         1559669.49911,
         869967.85346,
         586314.78002,
         48143.37757,
         234298.18384
        ],
        [
         9,
         780913.43211,
         706752.2460899999,
         810959.9539300001,
         438846.74031,
         237924.14889,
         62605.83409,
         0.0,
         30232.65549
        ],
        [
         9,
         1637821.77953,
         3325424.80173,
         2927103.61687,
         856648.60497,
         382805.51687,
         129724.66199,
         13449.13146,
         46957.35349
        ],
        [
         9,
         101079.87205,
         163173.719,
         357131.10273000004,
         157216.973,
         122591.84278,
         76820.70325,
         8074.69788,
         32438.31267
        ],
        [
         9,
         134041.45513,
         217115.79194,
         639761.0168600001,
         253691.39063,
         219072.29875,
         114231.26551,
         9961.82802,
         49215.51103
        ]
       ],
       "datasetInfos": [],
       "dbfsResultPath": null,
       "isJsonSchema": true,
       "metadata": {},
       "overflow": false,
       "plotOptions": {
        "customPlotOptions": {},
        "displayType": "table",
        "pivotAggregation": null,
        "pivotColumns": null,
        "xColumns": null,
        "yColumns": null
       },
       "removedWidgets": [],
       "schema": [
        {
         "metadata": "{}",
         "name": "cod_loja",
         "type": "\"integer\""
        },
        {
         "metadata": "{}",
         "name": "renda_nominal_f_a2mais",
         "type": "\"double\""
        },
        {
         "metadata": "{}",
         "name": "renda_nominal_f_a",
         "type": "\"double\""
        },
        {
         "metadata": "{}",
         "name": "renda_nominal_f_b1",
         "type": "\"double\""
        },
        {
         "metadata": "{}",
         "name": "renda_nominal_f_b2",
         "type": "\"double\""
        },
        {
         "metadata": "{}",
         "name": "renda_nominal_f_c1",
         "type": "\"double\""
        },
        {
         "metadata": "{}",
         "name": "renda_nominal_f_c2",
         "type": "\"double\""
        },
        {
         "metadata": "{}",
         "name": "renda_nominal_f_d",
         "type": "\"double\""
        },
        {
         "metadata": "{}",
         "name": "renda_nominal_f_e",
         "type": "\"double\""
        }
       ],
       "type": "table"
      }
     },
     "output_type": "display_data"
    }
   ],
   "source": [
    "%sql\n",
    "SELECT * FROM dev.dados_externos_renda_nominal_dev LIMIT 5"
   ]
  },
  {
   "cell_type": "code",
   "execution_count": 0,
   "metadata": {
    "application/vnd.databricks.v1+cell": {
     "cellMetadata": {
      "byteLimit": 2048000,
      "implicitDf": true,
      "rowLimit": 10000
     },
     "inputWidgets": {},
     "nuid": "9f8d2f33-abed-42cc-a039-fa3bf7f79ff1",
     "showTitle": false,
     "title": ""
    }
   },
   "outputs": [
    {
     "output_type": "display_data",
     "data": {
      "text/html": [
       "<style scoped>\n  .table-result-container {\n    max-height: 300px;\n    overflow: auto;\n  }\n  table, th, td {\n    border: 1px solid black;\n    border-collapse: collapse;\n  }\n  th, td {\n    padding: 5px;\n  }\n  th {\n    text-align: left;\n  }\n</style><div class='table-result-container'><table class='table-result'><thead style='background-color: white'><tr><th>version</th><th>timestamp</th><th>userId</th><th>userName</th><th>operation</th><th>operationParameters</th><th>job</th><th>notebook</th><th>clusterId</th><th>readVersion</th><th>isolationLevel</th><th>isBlindAppend</th><th>operationMetrics</th><th>userMetadata</th><th>engineInfo</th></tr></thead><tbody><tr><td>1</td><td>2023-03-28T09:03:35.000+0000</td><td>3431736339542622</td><td>contato@rodolfomoreira.com.br</td><td>UPDATE</td><td>Map()</td><td>null</td><td>List(2627177556421812)</td><td>0327-144450-lmwdjngs</td><td>0</td><td>WriteSerializable</td><td>false</td><td>Map(numRemovedFiles -> 100, numCopiedRows -> 0, numAddedChangeFiles -> 0, executionTimeMs -> 5209, scanTimeMs -> 24, numAddedFiles -> 8, numUpdatedRows -> 100, rewriteTimeMs -> 5184)</td><td>null</td><td>Databricks-Runtime/11.3.x-scala2.12</td></tr><tr><td>0</td><td>2023-03-28T08:54:02.000+0000</td><td>3431736339542622</td><td>contato@rodolfomoreira.com.br</td><td>CREATE OR REPLACE TABLE AS SELECT</td><td>Map(isManaged -> false, description -> null, partitionBy -> [\"cod_loja\"], properties -> {})</td><td>null</td><td>List(326164700055505)</td><td>0327-144450-lmwdjngs</td><td>null</td><td>WriteSerializable</td><td>false</td><td>Map(numFiles -> 100, numOutputRows -> 100, numOutputBytes -> 270456)</td><td>null</td><td>Databricks-Runtime/11.3.x-scala2.12</td></tr></tbody></table></div>"
      ]
     },
     "metadata": {
      "application/vnd.databricks.v1+output": {
       "addedWidgets": {},
       "aggData": [],
       "aggError": "",
       "aggOverflow": false,
       "aggSchema": [],
       "aggSeriesLimitReached": false,
       "aggType": "",
       "arguments": {},
       "columnCustomDisplayInfos": {},
       "data": [
        [
         1,
         "2023-03-28T09:03:35.000+0000",
         "3431736339542622",
         "contato@rodolfomoreira.com.br",
         "UPDATE",
         {},
         null,
         [
          "2627177556421812"
         ],
         "0327-144450-lmwdjngs",
         0,
         "WriteSerializable",
         false,
         {
          "executionTimeMs": "5209",
          "numAddedChangeFiles": "0",
          "numAddedFiles": "8",
          "numCopiedRows": "0",
          "numRemovedFiles": "100",
          "numUpdatedRows": "100",
          "rewriteTimeMs": "5184",
          "scanTimeMs": "24"
         },
         null,
         "Databricks-Runtime/11.3.x-scala2.12"
        ],
        [
         0,
         "2023-03-28T08:54:02.000+0000",
         "3431736339542622",
         "contato@rodolfomoreira.com.br",
         "CREATE OR REPLACE TABLE AS SELECT",
         {
          "description": null,
          "isManaged": "false",
          "partitionBy": "[\"cod_loja\"]",
          "properties": "{}"
         },
         null,
         [
          "326164700055505"
         ],
         "0327-144450-lmwdjngs",
         null,
         "WriteSerializable",
         false,
         {
          "numFiles": "100",
          "numOutputBytes": "270456",
          "numOutputRows": "100"
         },
         null,
         "Databricks-Runtime/11.3.x-scala2.12"
        ]
       ],
       "datasetInfos": [],
       "dbfsResultPath": null,
       "isJsonSchema": true,
       "metadata": {},
       "overflow": false,
       "plotOptions": {
        "customPlotOptions": {},
        "displayType": "table",
        "pivotAggregation": null,
        "pivotColumns": null,
        "xColumns": null,
        "yColumns": null
       },
       "removedWidgets": [],
       "schema": [
        {
         "metadata": "{}",
         "name": "version",
         "type": "\"long\""
        },
        {
         "metadata": "{}",
         "name": "timestamp",
         "type": "\"timestamp\""
        },
        {
         "metadata": "{}",
         "name": "userId",
         "type": "\"string\""
        },
        {
         "metadata": "{}",
         "name": "userName",
         "type": "\"string\""
        },
        {
         "metadata": "{}",
         "name": "operation",
         "type": "\"string\""
        },
        {
         "metadata": "{}",
         "name": "operationParameters",
         "type": "{\"type\":\"map\",\"keyType\":\"string\",\"valueType\":\"string\",\"valueContainsNull\":true}"
        },
        {
         "metadata": "{}",
         "name": "job",
         "type": "{\"type\":\"struct\",\"fields\":[{\"name\":\"jobId\",\"type\":\"string\",\"nullable\":true,\"metadata\":{}},{\"name\":\"jobName\",\"type\":\"string\",\"nullable\":true,\"metadata\":{}},{\"name\":\"runId\",\"type\":\"string\",\"nullable\":true,\"metadata\":{}},{\"name\":\"jobOwnerId\",\"type\":\"string\",\"nullable\":true,\"metadata\":{}},{\"name\":\"triggerType\",\"type\":\"string\",\"nullable\":true,\"metadata\":{}}]}"
        },
        {
         "metadata": "{}",
         "name": "notebook",
         "type": "{\"type\":\"struct\",\"fields\":[{\"name\":\"notebookId\",\"type\":\"string\",\"nullable\":true,\"metadata\":{}}]}"
        },
        {
         "metadata": "{}",
         "name": "clusterId",
         "type": "\"string\""
        },
        {
         "metadata": "{}",
         "name": "readVersion",
         "type": "\"long\""
        },
        {
         "metadata": "{}",
         "name": "isolationLevel",
         "type": "\"string\""
        },
        {
         "metadata": "{}",
         "name": "isBlindAppend",
         "type": "\"boolean\""
        },
        {
         "metadata": "{}",
         "name": "operationMetrics",
         "type": "{\"type\":\"map\",\"keyType\":\"string\",\"valueType\":\"string\",\"valueContainsNull\":true}"
        },
        {
         "metadata": "{}",
         "name": "userMetadata",
         "type": "\"string\""
        },
        {
         "metadata": "{}",
         "name": "engineInfo",
         "type": "\"string\""
        }
       ],
       "type": "table"
      }
     },
     "output_type": "display_data"
    }
   ],
   "source": [
    "%sql\n",
    "DESCRIBE HISTORY dev.dados_externos_renda_nominal_dev"
   ]
  },
  {
   "cell_type": "code",
   "execution_count": 0,
   "metadata": {
    "application/vnd.databricks.v1+cell": {
     "cellMetadata": {
      "byteLimit": 2048000,
      "implicitDf": true,
      "rowLimit": 10000
     },
     "inputWidgets": {},
     "nuid": "0700c41b-ac7c-4f1e-8e0d-674731e3f111",
     "showTitle": false,
     "title": ""
    }
   },
   "outputs": [
    {
     "output_type": "display_data",
     "data": {
      "text/html": [
       "<style scoped>\n  .table-result-container {\n    max-height: 300px;\n    overflow: auto;\n  }\n  table, th, td {\n    border: 1px solid black;\n    border-collapse: collapse;\n  }\n  th, td {\n    padding: 5px;\n  }\n  th {\n    text-align: left;\n  }\n</style><div class='table-result-container'><table class='table-result'><thead style='background-color: white'><tr><th>table_size_after_restore</th><th>num_of_files_after_restore</th><th>num_removed_files</th><th>num_restored_files</th><th>removed_files_size</th><th>restored_files_size</th></tr></thead><tbody><tr><td>270456</td><td>100</td><td>8</td><td>100</td><td>27813</td><td>270456</td></tr></tbody></table></div>"
      ]
     },
     "metadata": {
      "application/vnd.databricks.v1+output": {
       "addedWidgets": {},
       "aggData": [],
       "aggError": "",
       "aggOverflow": false,
       "aggSchema": [],
       "aggSeriesLimitReached": false,
       "aggType": "",
       "arguments": {},
       "columnCustomDisplayInfos": {},
       "data": [
        [
         270456,
         100,
         8,
         100,
         27813,
         270456
        ]
       ],
       "datasetInfos": [],
       "dbfsResultPath": null,
       "isJsonSchema": true,
       "metadata": {},
       "overflow": false,
       "plotOptions": {
        "customPlotOptions": {},
        "displayType": "table",
        "pivotAggregation": null,
        "pivotColumns": null,
        "xColumns": null,
        "yColumns": null
       },
       "removedWidgets": [],
       "schema": [
        {
         "metadata": "{}",
         "name": "table_size_after_restore",
         "type": "\"long\""
        },
        {
         "metadata": "{}",
         "name": "num_of_files_after_restore",
         "type": "\"long\""
        },
        {
         "metadata": "{}",
         "name": "num_removed_files",
         "type": "\"long\""
        },
        {
         "metadata": "{}",
         "name": "num_restored_files",
         "type": "\"long\""
        },
        {
         "metadata": "{}",
         "name": "removed_files_size",
         "type": "\"long\""
        },
        {
         "metadata": "{}",
         "name": "restored_files_size",
         "type": "\"long\""
        }
       ],
       "type": "table"
      }
     },
     "output_type": "display_data"
    }
   ],
   "source": [
    "%sql\n",
    "RESTORE TABLE dev.dados_externos_renda_nominal_dev TO VERSION AS OF 0;"
   ]
  },
  {
   "cell_type": "code",
   "execution_count": 0,
   "metadata": {
    "application/vnd.databricks.v1+cell": {
     "cellMetadata": {
      "byteLimit": 2048000,
      "implicitDf": true,
      "rowLimit": 10000
     },
     "inputWidgets": {},
     "nuid": "2afcafcf-9a36-4efb-8ea6-886c197ae59c",
     "showTitle": false,
     "title": ""
    }
   },
   "outputs": [
    {
     "output_type": "display_data",
     "data": {
      "text/html": [
       "<style scoped>\n  .table-result-container {\n    max-height: 300px;\n    overflow: auto;\n  }\n  table, th, td {\n    border: 1px solid black;\n    border-collapse: collapse;\n  }\n  th, td {\n    padding: 5px;\n  }\n  th {\n    text-align: left;\n  }\n</style><div class='table-result-container'><table class='table-result'><thead style='background-color: white'><tr><th>cod_loja</th><th>renda_nominal_f_a2mais</th><th>renda_nominal_f_a</th><th>renda_nominal_f_b1</th><th>renda_nominal_f_b2</th><th>renda_nominal_f_c1</th><th>renda_nominal_f_c2</th><th>renda_nominal_f_d</th><th>renda_nominal_f_e</th></tr></thead><tbody><tr><td>102</td><td>101079.87205</td><td>163173.719</td><td>357131.10273000004</td><td>157216.973</td><td>122591.84278</td><td>76820.70325</td><td>8074.69788</td><td>32438.31267</td></tr><tr><td>103</td><td>0.0</td><td>0.0</td><td>0.0</td><td>0.0</td><td>0.0</td><td>0.0</td><td>0.0</td><td>0.0</td></tr><tr><td>10</td><td>1204672.87382</td><td>264409.85355</td><td>420871.99147</td><td>401005.40136</td><td>327184.45552</td><td>148625.05869</td><td>8999.950009999999</td><td>45007.11638</td></tr><tr><td>100</td><td>0.0</td><td>3799.25942</td><td>52823.35545</td><td>10543.55819</td><td>20952.16284</td><td>12540.13523</td><td>2294.46226</td><td>9327.72226</td></tr><tr><td>104</td><td>0.0</td><td>365843.83237</td><td>448512.16539</td><td>298962.64723</td><td>167745.76732</td><td>21865.31377</td><td>1000.64707</td><td>15035.62927</td></tr></tbody></table></div>"
      ]
     },
     "metadata": {
      "application/vnd.databricks.v1+output": {
       "addedWidgets": {},
       "aggData": [],
       "aggError": "",
       "aggOverflow": false,
       "aggSchema": [],
       "aggSeriesLimitReached": false,
       "aggType": "",
       "arguments": {},
       "columnCustomDisplayInfos": {},
       "data": [
        [
         102,
         101079.87205,
         163173.719,
         357131.10273000004,
         157216.973,
         122591.84278,
         76820.70325,
         8074.69788,
         32438.31267
        ],
        [
         103,
         0.0,
         0.0,
         0.0,
         0.0,
         0.0,
         0.0,
         0.0,
         0.0
        ],
        [
         10,
         1204672.87382,
         264409.85355,
         420871.99147,
         401005.40136,
         327184.45552,
         148625.05869,
         8999.950009999999,
         45007.11638
        ],
        [
         100,
         0.0,
         3799.25942,
         52823.35545,
         10543.55819,
         20952.16284,
         12540.13523,
         2294.46226,
         9327.72226
        ],
        [
         104,
         0.0,
         365843.83237,
         448512.16539,
         298962.64723,
         167745.76732,
         21865.31377,
         1000.64707,
         15035.62927
        ]
       ],
       "datasetInfos": [],
       "dbfsResultPath": null,
       "isJsonSchema": true,
       "metadata": {},
       "overflow": false,
       "plotOptions": {
        "customPlotOptions": {},
        "displayType": "table",
        "pivotAggregation": null,
        "pivotColumns": null,
        "xColumns": null,
        "yColumns": null
       },
       "removedWidgets": [],
       "schema": [
        {
         "metadata": "{}",
         "name": "cod_loja",
         "type": "\"integer\""
        },
        {
         "metadata": "{}",
         "name": "renda_nominal_f_a2mais",
         "type": "\"double\""
        },
        {
         "metadata": "{}",
         "name": "renda_nominal_f_a",
         "type": "\"double\""
        },
        {
         "metadata": "{}",
         "name": "renda_nominal_f_b1",
         "type": "\"double\""
        },
        {
         "metadata": "{}",
         "name": "renda_nominal_f_b2",
         "type": "\"double\""
        },
        {
         "metadata": "{}",
         "name": "renda_nominal_f_c1",
         "type": "\"double\""
        },
        {
         "metadata": "{}",
         "name": "renda_nominal_f_c2",
         "type": "\"double\""
        },
        {
         "metadata": "{}",
         "name": "renda_nominal_f_d",
         "type": "\"double\""
        },
        {
         "metadata": "{}",
         "name": "renda_nominal_f_e",
         "type": "\"double\""
        }
       ],
       "type": "table"
      }
     },
     "output_type": "display_data"
    }
   ],
   "source": [
    "%sql\n",
    "SELECT * FROM dev.dados_externos_renda_nominal_dev LIMIT 5"
   ]
  },
  {
   "cell_type": "code",
   "execution_count": 0,
   "metadata": {
    "application/vnd.databricks.v1+cell": {
     "cellMetadata": {
      "byteLimit": 2048000,
      "implicitDf": true,
      "rowLimit": 10000
     },
     "inputWidgets": {},
     "nuid": "63d6c445-a145-4414-9eb4-c8eb811f4ee6",
     "showTitle": false,
     "title": ""
    }
   },
   "outputs": [
    {
     "output_type": "display_data",
     "data": {
      "text/html": [
       "<style scoped>\n  .table-result-container {\n    max-height: 300px;\n    overflow: auto;\n  }\n  table, th, td {\n    border: 1px solid black;\n    border-collapse: collapse;\n  }\n  th, td {\n    padding: 5px;\n  }\n  th {\n    text-align: left;\n  }\n</style><div class='table-result-container'><table class='table-result'><thead style='background-color: white'><tr></tr></thead><tbody></tbody></table></div>"
      ]
     },
     "metadata": {
      "application/vnd.databricks.v1+output": {
       "addedWidgets": {},
       "aggData": [],
       "aggError": "",
       "aggOverflow": false,
       "aggSchema": [],
       "aggSeriesLimitReached": false,
       "aggType": "",
       "arguments": {},
       "columnCustomDisplayInfos": {},
       "data": [],
       "datasetInfos": [],
       "dbfsResultPath": null,
       "isJsonSchema": true,
       "metadata": {},
       "overflow": false,
       "plotOptions": {
        "customPlotOptions": {},
        "displayType": "table",
        "pivotAggregation": null,
        "pivotColumns": null,
        "xColumns": null,
        "yColumns": null
       },
       "removedWidgets": [],
       "schema": [],
       "type": "table"
      }
     },
     "output_type": "display_data"
    }
   ],
   "source": [
    "#%sql\n",
    "#DROP TABLE dev.dados_externos_renda_nominal_dev"
   ]
  },
  {
   "cell_type": "code",
   "execution_count": 0,
   "metadata": {
    "application/vnd.databricks.v1+cell": {
     "cellMetadata": {
      "byteLimit": 2048000,
      "implicitDf": true,
      "rowLimit": 10000
     },
     "inputWidgets": {},
     "nuid": "8a5f70c5-6ea4-4f07-ac9a-28b9959a1780",
     "showTitle": false,
     "title": ""
    }
   },
   "outputs": [
    {
     "output_type": "display_data",
     "data": {
      "text/html": [
       "<style scoped>\n  .table-result-container {\n    max-height: 300px;\n    overflow: auto;\n  }\n  table, th, td {\n    border: 1px solid black;\n    border-collapse: collapse;\n  }\n  th, td {\n    padding: 5px;\n  }\n  th {\n    text-align: left;\n  }\n</style><div class='table-result-container'><table class='table-result'><thead style='background-color: white'><tr><th>version</th><th>timestamp</th><th>userId</th><th>userName</th><th>operation</th><th>operationParameters</th><th>job</th><th>notebook</th><th>clusterId</th><th>readVersion</th><th>isolationLevel</th><th>isBlindAppend</th><th>operationMetrics</th><th>userMetadata</th><th>engineInfo</th></tr></thead><tbody><tr><td>2</td><td>2023-03-28T09:05:19.000+0000</td><td>3431736339542622</td><td>contato@rodolfomoreira.com.br</td><td>RESTORE</td><td>Map(version -> 0, timestamp -> null)</td><td>null</td><td>List(2627177556421812)</td><td>0327-144450-lmwdjngs</td><td>1</td><td>Serializable</td><td>false</td><td>Map(numRestoredFiles -> 100, removedFilesSize -> 27813, numRemovedFiles -> 8, restoredFilesSize -> 270456, numOfFilesAfterRestore -> 100, tableSizeAfterRestore -> 270456)</td><td>null</td><td>Databricks-Runtime/11.3.x-scala2.12</td></tr><tr><td>1</td><td>2023-03-28T09:03:35.000+0000</td><td>3431736339542622</td><td>contato@rodolfomoreira.com.br</td><td>UPDATE</td><td>Map()</td><td>null</td><td>List(2627177556421812)</td><td>0327-144450-lmwdjngs</td><td>0</td><td>WriteSerializable</td><td>false</td><td>Map(numRemovedFiles -> 100, numCopiedRows -> 0, numAddedChangeFiles -> 0, executionTimeMs -> 5209, scanTimeMs -> 24, numAddedFiles -> 8, numUpdatedRows -> 100, rewriteTimeMs -> 5184)</td><td>null</td><td>Databricks-Runtime/11.3.x-scala2.12</td></tr><tr><td>0</td><td>2023-03-28T08:54:02.000+0000</td><td>3431736339542622</td><td>contato@rodolfomoreira.com.br</td><td>CREATE OR REPLACE TABLE AS SELECT</td><td>Map(isManaged -> false, description -> null, partitionBy -> [\"cod_loja\"], properties -> {})</td><td>null</td><td>List(326164700055505)</td><td>0327-144450-lmwdjngs</td><td>null</td><td>WriteSerializable</td><td>false</td><td>Map(numFiles -> 100, numOutputRows -> 100, numOutputBytes -> 270456)</td><td>null</td><td>Databricks-Runtime/11.3.x-scala2.12</td></tr></tbody></table></div>"
      ]
     },
     "metadata": {
      "application/vnd.databricks.v1+output": {
       "addedWidgets": {},
       "aggData": [],
       "aggError": "",
       "aggOverflow": false,
       "aggSchema": [],
       "aggSeriesLimitReached": false,
       "aggType": "",
       "arguments": {},
       "columnCustomDisplayInfos": {},
       "data": [
        [
         2,
         "2023-03-28T09:05:19.000+0000",
         "3431736339542622",
         "contato@rodolfomoreira.com.br",
         "RESTORE",
         {
          "timestamp": null,
          "version": "0"
         },
         null,
         [
          "2627177556421812"
         ],
         "0327-144450-lmwdjngs",
         1,
         "Serializable",
         false,
         {
          "numOfFilesAfterRestore": "100",
          "numRemovedFiles": "8",
          "numRestoredFiles": "100",
          "removedFilesSize": "27813",
          "restoredFilesSize": "270456",
          "tableSizeAfterRestore": "270456"
         },
         null,
         "Databricks-Runtime/11.3.x-scala2.12"
        ],
        [
         1,
         "2023-03-28T09:03:35.000+0000",
         "3431736339542622",
         "contato@rodolfomoreira.com.br",
         "UPDATE",
         {},
         null,
         [
          "2627177556421812"
         ],
         "0327-144450-lmwdjngs",
         0,
         "WriteSerializable",
         false,
         {
          "executionTimeMs": "5209",
          "numAddedChangeFiles": "0",
          "numAddedFiles": "8",
          "numCopiedRows": "0",
          "numRemovedFiles": "100",
          "numUpdatedRows": "100",
          "rewriteTimeMs": "5184",
          "scanTimeMs": "24"
         },
         null,
         "Databricks-Runtime/11.3.x-scala2.12"
        ],
        [
         0,
         "2023-03-28T08:54:02.000+0000",
         "3431736339542622",
         "contato@rodolfomoreira.com.br",
         "CREATE OR REPLACE TABLE AS SELECT",
         {
          "description": null,
          "isManaged": "false",
          "partitionBy": "[\"cod_loja\"]",
          "properties": "{}"
         },
         null,
         [
          "326164700055505"
         ],
         "0327-144450-lmwdjngs",
         null,
         "WriteSerializable",
         false,
         {
          "numFiles": "100",
          "numOutputBytes": "270456",
          "numOutputRows": "100"
         },
         null,
         "Databricks-Runtime/11.3.x-scala2.12"
        ]
       ],
       "datasetInfos": [],
       "dbfsResultPath": null,
       "isJsonSchema": true,
       "metadata": {},
       "overflow": false,
       "plotOptions": {
        "customPlotOptions": {},
        "displayType": "table",
        "pivotAggregation": null,
        "pivotColumns": null,
        "xColumns": null,
        "yColumns": null
       },
       "removedWidgets": [],
       "schema": [
        {
         "metadata": "{}",
         "name": "version",
         "type": "\"long\""
        },
        {
         "metadata": "{}",
         "name": "timestamp",
         "type": "\"timestamp\""
        },
        {
         "metadata": "{}",
         "name": "userId",
         "type": "\"string\""
        },
        {
         "metadata": "{}",
         "name": "userName",
         "type": "\"string\""
        },
        {
         "metadata": "{}",
         "name": "operation",
         "type": "\"string\""
        },
        {
         "metadata": "{}",
         "name": "operationParameters",
         "type": "{\"type\":\"map\",\"keyType\":\"string\",\"valueType\":\"string\",\"valueContainsNull\":true}"
        },
        {
         "metadata": "{}",
         "name": "job",
         "type": "{\"type\":\"struct\",\"fields\":[{\"name\":\"jobId\",\"type\":\"string\",\"nullable\":true,\"metadata\":{}},{\"name\":\"jobName\",\"type\":\"string\",\"nullable\":true,\"metadata\":{}},{\"name\":\"runId\",\"type\":\"string\",\"nullable\":true,\"metadata\":{}},{\"name\":\"jobOwnerId\",\"type\":\"string\",\"nullable\":true,\"metadata\":{}},{\"name\":\"triggerType\",\"type\":\"string\",\"nullable\":true,\"metadata\":{}}]}"
        },
        {
         "metadata": "{}",
         "name": "notebook",
         "type": "{\"type\":\"struct\",\"fields\":[{\"name\":\"notebookId\",\"type\":\"string\",\"nullable\":true,\"metadata\":{}}]}"
        },
        {
         "metadata": "{}",
         "name": "clusterId",
         "type": "\"string\""
        },
        {
         "metadata": "{}",
         "name": "readVersion",
         "type": "\"long\""
        },
        {
         "metadata": "{}",
         "name": "isolationLevel",
         "type": "\"string\""
        },
        {
         "metadata": "{}",
         "name": "isBlindAppend",
         "type": "\"boolean\""
        },
        {
         "metadata": "{}",
         "name": "operationMetrics",
         "type": "{\"type\":\"map\",\"keyType\":\"string\",\"valueType\":\"string\",\"valueContainsNull\":true}"
        },
        {
         "metadata": "{}",
         "name": "userMetadata",
         "type": "\"string\""
        },
        {
         "metadata": "{}",
         "name": "engineInfo",
         "type": "\"string\""
        }
       ],
       "type": "table"
      }
     },
     "output_type": "display_data"
    }
   ],
   "source": [
    "%sql\n",
    "DESCRIBE HISTORY dev.dados_externos_renda_nominal_dev"
   ]
  },
  {
   "cell_type": "code",
   "execution_count": 0,
   "metadata": {
    "application/vnd.databricks.v1+cell": {
     "cellMetadata": {
      "byteLimit": 2048000,
      "implicitDf": true,
      "rowLimit": 10000
     },
     "inputWidgets": {},
     "nuid": "43b6d3e4-f80f-4bdb-b71c-0a9ab99bb181",
     "showTitle": false,
     "title": ""
    }
   },
   "outputs": [
    {
     "output_type": "display_data",
     "data": {
      "text/html": [
       "<style scoped>\n  .table-result-container {\n    max-height: 300px;\n    overflow: auto;\n  }\n  table, th, td {\n    border: 1px solid black;\n    border-collapse: collapse;\n  }\n  th, td {\n    padding: 5px;\n  }\n  th {\n    text-align: left;\n  }\n</style><div class='table-result-container'><table class='table-result'><thead style='background-color: white'><tr></tr></thead><tbody></tbody></table></div>"
      ]
     },
     "metadata": {
      "application/vnd.databricks.v1+output": {
       "addedWidgets": {},
       "aggData": [],
       "aggError": "",
       "aggOverflow": false,
       "aggSchema": [],
       "aggSeriesLimitReached": false,
       "aggType": "",
       "arguments": {},
       "columnCustomDisplayInfos": {},
       "data": [],
       "datasetInfos": [],
       "dbfsResultPath": null,
       "isJsonSchema": true,
       "metadata": {},
       "overflow": false,
       "plotOptions": {
        "customPlotOptions": {},
        "displayType": "table",
        "pivotAggregation": null,
        "pivotColumns": null,
        "xColumns": null,
        "yColumns": null
       },
       "removedWidgets": [],
       "schema": [],
       "type": "table"
      }
     },
     "output_type": "display_data"
    }
   ],
   "source": [
    "%sql\n",
    "CREATE EXTERNAL TABLE dev.dados_externos_renda_nominal_dev\n",
    "LOCATION \"/mnt/dev/dados_externos_renda_nominal_dev_external\""
   ]
  }
 ],
 "metadata": {
  "application/vnd.databricks.v1+notebook": {
   "dashboards": [],
   "language": "python",
   "notebookMetadata": {
    "mostRecentlyExecutedCommandWithImplicitDF": {
     "commandId": 2627177556421820,
     "dataframes": [
      "_sqldf"
     ]
    },
    "pythonIndentUnit": 4
   },
   "notebookName": "Restore Table",
   "notebookOrigID": 2627177556421812,
   "widgets": {}
  }
 },
 "nbformat": 4,
 "nbformat_minor": 0
}
