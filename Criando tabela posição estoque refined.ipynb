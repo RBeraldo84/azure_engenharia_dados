{
 "cells": [
  {
   "cell_type": "code",
   "execution_count": 0,
   "metadata": {
    "application/vnd.databricks.v1+cell": {
     "cellMetadata": {
      "byteLimit": 2048000,
      "implicitDf": true,
      "rowLimit": 10000
     },
     "inputWidgets": {},
     "nuid": "7f8506e6-d054-457b-9939-90f97297bfdc",
     "showTitle": false,
     "title": ""
    }
   },
   "outputs": [
    {
     "output_type": "display_data",
     "data": {
      "text/html": [
       "<style scoped>\n  .table-result-container {\n    max-height: 300px;\n    overflow: auto;\n  }\n  table, th, td {\n    border: 1px solid black;\n    border-collapse: collapse;\n  }\n  th, td {\n    padding: 5px;\n  }\n  th {\n    text-align: left;\n  }\n</style><div class='table-result-container'><table class='table-result'><thead style='background-color: white'><tr><th>data_extracao</th><th>cod_loja</th><th>cod_produto</th><th>estoque_quantidade</th><th>estoque_valor</th></tr></thead><tbody><tr><td>2023-03-25</td><td>1</td><td>3145453</td><td>2</td><td>155.19</td></tr><tr><td>2023-03-26</td><td>63</td><td>3092229</td><td>2</td><td>30.13</td></tr><tr><td>2023-03-23</td><td>28</td><td>1031718</td><td>2</td><td>37.28</td></tr><tr><td>2023-03-24</td><td>113</td><td>3127458</td><td>1</td><td>23.16</td></tr><tr><td>2023-03-23</td><td>6</td><td>3139155</td><td>4</td><td>106.99</td></tr><tr><td>2023-03-21</td><td>3</td><td>3146831</td><td>4</td><td>207.9</td></tr><tr><td>2023-03-20</td><td>5</td><td>1033596</td><td>2</td><td>28.62</td></tr><tr><td>2023-03-20</td><td>13</td><td>1022231</td><td>1</td><td>8.14</td></tr><tr><td>2023-03-20</td><td>18</td><td>3124906</td><td>1</td><td>79.29</td></tr><tr><td>2023-03-27</td><td>49</td><td>1016052</td><td>1</td><td>10.05</td></tr><tr><td>2023-03-21</td><td>76</td><td>3147598</td><td>4</td><td>83.58</td></tr><tr><td>2023-03-21</td><td>101</td><td>3129981</td><td>1</td><td>64.64</td></tr><tr><td>2023-03-23</td><td>38</td><td>1031453</td><td>3</td><td>67.56</td></tr><tr><td>2023-03-22</td><td>94</td><td>3141235</td><td>12</td><td>155.46</td></tr><tr><td>2023-03-21</td><td>67</td><td>3103319</td><td>2</td><td>224.97</td></tr><tr><td>2023-03-20</td><td>68</td><td>3146932</td><td>8</td><td>129.84</td></tr><tr><td>2023-03-27</td><td>18</td><td>3111560</td><td>2</td><td>195.33</td></tr><tr><td>2023-03-25</td><td>48</td><td>3127374</td><td>4</td><td>81.07</td></tr><tr><td>2023-03-24</td><td>98</td><td>2987764</td><td>19</td><td>68.3</td></tr><tr><td>2023-03-25</td><td>22</td><td>3137904</td><td>7</td><td>67.62</td></tr><tr><td>2023-03-21</td><td>86</td><td>3102305</td><td>6</td><td>32.59</td></tr><tr><td>2023-03-20</td><td>47</td><td>3146461</td><td>2</td><td>129.99</td></tr><tr><td>2023-03-23</td><td>43</td><td>1027488</td><td>1</td><td>13.87</td></tr><tr><td>2023-03-25</td><td>84</td><td>3099879</td><td>2</td><td>7.05</td></tr><tr><td>2023-03-27</td><td>113</td><td>3138231</td><td>0</td><td>0.0</td></tr><tr><td>2023-03-27</td><td>112</td><td>3130411</td><td>4</td><td>37.16</td></tr><tr><td>2023-03-25</td><td>108</td><td>2982024</td><td>0</td><td>0.0</td></tr><tr><td>2023-03-25</td><td>2</td><td>2849521</td><td>1</td><td>45.56</td></tr><tr><td>2023-03-27</td><td>91</td><td>2989087</td><td>12</td><td>167.61</td></tr><tr><td>2023-03-24</td><td>73</td><td>3137753</td><td>3</td><td>72.69</td></tr><tr><td>2023-03-24</td><td>4</td><td>1029715</td><td>2</td><td>37.03</td></tr><tr><td>2023-03-26</td><td>80</td><td>3129447</td><td>3</td><td>137.53</td></tr><tr><td>2023-03-21</td><td>91</td><td>3136492</td><td>1</td><td>9.61</td></tr><tr><td>2023-03-23</td><td>3</td><td>3111378</td><td>1</td><td>3.82</td></tr><tr><td>2023-03-25</td><td>94</td><td>2989427</td><td>2</td><td>154.51</td></tr><tr><td>2023-03-22</td><td>47</td><td>3132117</td><td>1</td><td>34.78</td></tr><tr><td>2023-03-20</td><td>10</td><td>3031000</td><td>1</td><td>109.47</td></tr><tr><td>2023-03-25</td><td>58</td><td>1031152</td><td>0</td><td>0.0</td></tr><tr><td>2023-03-22</td><td>13</td><td>3109710</td><td>1</td><td>23.3</td></tr><tr><td>2023-03-22</td><td>11</td><td>2946205</td><td>0</td><td>0.0</td></tr><tr><td>2023-03-24</td><td>23</td><td>1030418</td><td>1</td><td>15.59</td></tr><tr><td>2023-03-27</td><td>18</td><td>3131186</td><td>11</td><td>205.44</td></tr><tr><td>2023-03-27</td><td>40</td><td>3104401</td><td>2</td><td>4.41</td></tr><tr><td>2023-03-23</td><td>5</td><td>986545</td><td>16</td><td>104.69</td></tr><tr><td>2023-03-26</td><td>27</td><td>3137840</td><td>13</td><td>248.48</td></tr><tr><td>2023-03-23</td><td>60</td><td>2987764</td><td>77</td><td>237.13</td></tr><tr><td>2023-03-26</td><td>12</td><td>1012251</td><td>16</td><td>98.64</td></tr><tr><td>2023-03-23</td><td>113</td><td>3129884</td><td>8</td><td>58.4</td></tr><tr><td>2023-03-23</td><td>48</td><td>3136651</td><td>11</td><td>127.19</td></tr><tr><td>2023-03-20</td><td>3</td><td>1027308</td><td>4</td><td>20.31</td></tr><tr><td>2023-03-23</td><td>4</td><td>3136765</td><td>2</td><td>51.76</td></tr><tr><td>2023-03-25</td><td>93</td><td>1031152</td><td>1</td><td>3.81</td></tr><tr><td>2023-03-27</td><td>81</td><td>3136651</td><td>11</td><td>127.19</td></tr><tr><td>2023-03-26</td><td>8</td><td>3124906</td><td>3</td><td>237.87</td></tr><tr><td>2023-03-21</td><td>103</td><td>3108775</td><td>1</td><td>78.96</td></tr><tr><td>2023-03-24</td><td>48</td><td>3127832</td><td>1</td><td>18.43</td></tr><tr><td>2023-03-25</td><td>35</td><td>1022786</td><td>3</td><td>29.09</td></tr><tr><td>2023-03-24</td><td>101</td><td>3111560</td><td>2</td><td>268.69</td></tr><tr><td>2023-03-22</td><td>84</td><td>3124735</td><td>2</td><td>27.59</td></tr><tr><td>2023-03-23</td><td>57</td><td>3146974</td><td>5</td><td>81.67</td></tr><tr><td>2023-03-24</td><td>18</td><td>1029568</td><td>1</td><td>18.09</td></tr><tr><td>2023-03-27</td><td>107</td><td>3111495</td><td>7</td><td>141.45</td></tr><tr><td>2023-03-25</td><td>109</td><td>3111704</td><td>1</td><td>85.19</td></tr><tr><td>2023-03-26</td><td>113</td><td>1033596</td><td>1</td><td>14.31</td></tr><tr><td>2023-03-20</td><td>8</td><td>3134947</td><td>4</td><td>213.69</td></tr><tr><td>2023-03-25</td><td>81</td><td>3094257</td><td>60</td><td>994.27</td></tr><tr><td>2023-03-27</td><td>29</td><td>3117911</td><td>1</td><td>38.15</td></tr><tr><td>2023-03-26</td><td>28</td><td>2854934</td><td>8</td><td>40.23</td></tr><tr><td>2023-03-21</td><td>15</td><td>3137644</td><td>4</td><td>282.37</td></tr><tr><td>2023-03-26</td><td>101</td><td>3104428</td><td>2</td><td>285.87</td></tr><tr><td>2023-03-24</td><td>50</td><td>2989427</td><td>2</td><td>155.52</td></tr><tr><td>2023-03-24</td><td>91</td><td>3103727</td><td>5</td><td>37.22</td></tr><tr><td>2023-03-25</td><td>106</td><td>3139111</td><td>1</td><td>327.7</td></tr><tr><td>2023-03-27</td><td>96</td><td>3118981</td><td>2</td><td>21.71</td></tr><tr><td>2023-03-27</td><td>103</td><td>2915262</td><td>11</td><td>68.87</td></tr><tr><td>2023-03-24</td><td>8</td><td>1025715</td><td>1</td><td>16.17</td></tr><tr><td>2023-03-25</td><td>91</td><td>1033600</td><td>2</td><td>46.01</td></tr><tr><td>2023-03-20</td><td>49</td><td>1010684</td><td>1</td><td>12.47</td></tr><tr><td>2023-03-23</td><td>5</td><td>3116735</td><td>1</td><td>15.9</td></tr><tr><td>2023-03-26</td><td>23</td><td>3144744</td><td>2</td><td>110.24</td></tr><tr><td>2023-03-26</td><td>75</td><td>3114914</td><td>1</td><td>51.54</td></tr><tr><td>2023-03-27</td><td>94</td><td>3111572</td><td>2</td><td>217.28</td></tr><tr><td>2023-03-21</td><td>8</td><td>3094257</td><td>115</td><td>1905.66</td></tr><tr><td>2023-03-22</td><td>8</td><td>2915262</td><td>15</td><td>134.2</td></tr><tr><td>2023-03-23</td><td>38</td><td>3031000</td><td>1</td><td>100.73</td></tr><tr><td>2023-03-27</td><td>96</td><td>3138777</td><td>2</td><td>29.32</td></tr><tr><td>2023-03-24</td><td>20</td><td>3133435</td><td>9</td><td>78.39</td></tr><tr><td>2023-03-23</td><td>42</td><td>3145200</td><td>2</td><td>8.53</td></tr><tr><td>2023-03-21</td><td>36</td><td>3134588</td><td>2</td><td>444.81</td></tr><tr><td>2023-03-27</td><td>77</td><td>3111378</td><td>2</td><td>7.95</td></tr><tr><td>2023-03-20</td><td>95</td><td>1030316</td><td>2</td><td>29.17</td></tr><tr><td>2023-03-20</td><td>45</td><td>3118963</td><td>2</td><td>182.98</td></tr><tr><td>2023-03-24</td><td>91</td><td>1032031</td><td>6</td><td>98.25</td></tr><tr><td>2023-03-26</td><td>54</td><td>3145200</td><td>2</td><td>8.56</td></tr><tr><td>2023-03-25</td><td>85</td><td>2854918</td><td>12</td><td>91.56</td></tr><tr><td>2023-03-23</td><td>1</td><td>3129884</td><td>1081</td><td>9831.25</td></tr><tr><td>2023-03-24</td><td>104</td><td>3113513</td><td>2</td><td>7.41</td></tr><tr><td>2023-03-21</td><td>52</td><td>3136824</td><td>1</td><td>13.18</td></tr><tr><td>2023-03-26</td><td>16</td><td>3092641</td><td>1</td><td>173.72</td></tr><tr><td>2023-03-24</td><td>91</td><td>3141854</td><td>2</td><td>22.29</td></tr></tbody></table></div>"
      ]
     },
     "metadata": {
      "application/vnd.databricks.v1+output": {
       "addedWidgets": {},
       "aggData": [],
       "aggError": "",
       "aggOverflow": false,
       "aggSchema": [],
       "aggSeriesLimitReached": false,
       "aggType": "",
       "arguments": {},
       "columnCustomDisplayInfos": {},
       "data": [
        [
         "2023-03-25",
         1,
         3145453,
         2,
         155.19
        ],
        [
         "2023-03-26",
         63,
         3092229,
         2,
         30.13
        ],
        [
         "2023-03-23",
         28,
         1031718,
         2,
         37.28
        ],
        [
         "2023-03-24",
         113,
         3127458,
         1,
         23.16
        ],
        [
         "2023-03-23",
         6,
         3139155,
         4,
         106.99
        ],
        [
         "2023-03-21",
         3,
         3146831,
         4,
         207.9
        ],
        [
         "2023-03-20",
         5,
         1033596,
         2,
         28.62
        ],
        [
         "2023-03-20",
         13,
         1022231,
         1,
         8.14
        ],
        [
         "2023-03-20",
         18,
         3124906,
         1,
         79.29
        ],
        [
         "2023-03-27",
         49,
         1016052,
         1,
         10.05
        ],
        [
         "2023-03-21",
         76,
         3147598,
         4,
         83.58
        ],
        [
         "2023-03-21",
         101,
         3129981,
         1,
         64.64
        ],
        [
         "2023-03-23",
         38,
         1031453,
         3,
         67.56
        ],
        [
         "2023-03-22",
         94,
         3141235,
         12,
         155.46
        ],
        [
         "2023-03-21",
         67,
         3103319,
         2,
         224.97
        ],
        [
         "2023-03-20",
         68,
         3146932,
         8,
         129.84
        ],
        [
         "2023-03-27",
         18,
         3111560,
         2,
         195.33
        ],
        [
         "2023-03-25",
         48,
         3127374,
         4,
         81.07
        ],
        [
         "2023-03-24",
         98,
         2987764,
         19,
         68.3
        ],
        [
         "2023-03-25",
         22,
         3137904,
         7,
         67.62
        ],
        [
         "2023-03-21",
         86,
         3102305,
         6,
         32.59
        ],
        [
         "2023-03-20",
         47,
         3146461,
         2,
         129.99
        ],
        [
         "2023-03-23",
         43,
         1027488,
         1,
         13.87
        ],
        [
         "2023-03-25",
         84,
         3099879,
         2,
         7.05
        ],
        [
         "2023-03-27",
         113,
         3138231,
         0,
         0.0
        ],
        [
         "2023-03-27",
         112,
         3130411,
         4,
         37.16
        ],
        [
         "2023-03-25",
         108,
         2982024,
         0,
         0.0
        ],
        [
         "2023-03-25",
         2,
         2849521,
         1,
         45.56
        ],
        [
         "2023-03-27",
         91,
         2989087,
         12,
         167.61
        ],
        [
         "2023-03-24",
         73,
         3137753,
         3,
         72.69
        ],
        [
         "2023-03-24",
         4,
         1029715,
         2,
         37.03
        ],
        [
         "2023-03-26",
         80,
         3129447,
         3,
         137.53
        ],
        [
         "2023-03-21",
         91,
         3136492,
         1,
         9.61
        ],
        [
         "2023-03-23",
         3,
         3111378,
         1,
         3.82
        ],
        [
         "2023-03-25",
         94,
         2989427,
         2,
         154.51
        ],
        [
         "2023-03-22",
         47,
         3132117,
         1,
         34.78
        ],
        [
         "2023-03-20",
         10,
         3031000,
         1,
         109.47
        ],
        [
         "2023-03-25",
         58,
         1031152,
         0,
         0.0
        ],
        [
         "2023-03-22",
         13,
         3109710,
         1,
         23.3
        ],
        [
         "2023-03-22",
         11,
         2946205,
         0,
         0.0
        ],
        [
         "2023-03-24",
         23,
         1030418,
         1,
         15.59
        ],
        [
         "2023-03-27",
         18,
         3131186,
         11,
         205.44
        ],
        [
         "2023-03-27",
         40,
         3104401,
         2,
         4.41
        ],
        [
         "2023-03-23",
         5,
         986545,
         16,
         104.69
        ],
        [
         "2023-03-26",
         27,
         3137840,
         13,
         248.48
        ],
        [
         "2023-03-23",
         60,
         2987764,
         77,
         237.13
        ],
        [
         "2023-03-26",
         12,
         1012251,
         16,
         98.64
        ],
        [
         "2023-03-23",
         113,
         3129884,
         8,
         58.4
        ],
        [
         "2023-03-23",
         48,
         3136651,
         11,
         127.19
        ],
        [
         "2023-03-20",
         3,
         1027308,
         4,
         20.31
        ],
        [
         "2023-03-23",
         4,
         3136765,
         2,
         51.76
        ],
        [
         "2023-03-25",
         93,
         1031152,
         1,
         3.81
        ],
        [
         "2023-03-27",
         81,
         3136651,
         11,
         127.19
        ],
        [
         "2023-03-26",
         8,
         3124906,
         3,
         237.87
        ],
        [
         "2023-03-21",
         103,
         3108775,
         1,
         78.96
        ],
        [
         "2023-03-24",
         48,
         3127832,
         1,
         18.43
        ],
        [
         "2023-03-25",
         35,
         1022786,
         3,
         29.09
        ],
        [
         "2023-03-24",
         101,
         3111560,
         2,
         268.69
        ],
        [
         "2023-03-22",
         84,
         3124735,
         2,
         27.59
        ],
        [
         "2023-03-23",
         57,
         3146974,
         5,
         81.67
        ],
        [
         "2023-03-24",
         18,
         1029568,
         1,
         18.09
        ],
        [
         "2023-03-27",
         107,
         3111495,
         7,
         141.45
        ],
        [
         "2023-03-25",
         109,
         3111704,
         1,
         85.19
        ],
        [
         "2023-03-26",
         113,
         1033596,
         1,
         14.31
        ],
        [
         "2023-03-20",
         8,
         3134947,
         4,
         213.69
        ],
        [
         "2023-03-25",
         81,
         3094257,
         60,
         994.27
        ],
        [
         "2023-03-27",
         29,
         3117911,
         1,
         38.15
        ],
        [
         "2023-03-26",
         28,
         2854934,
         8,
         40.23
        ],
        [
         "2023-03-21",
         15,
         3137644,
         4,
         282.37
        ],
        [
         "2023-03-26",
         101,
         3104428,
         2,
         285.87
        ],
        [
         "2023-03-24",
         50,
         2989427,
         2,
         155.52
        ],
        [
         "2023-03-24",
         91,
         3103727,
         5,
         37.22
        ],
        [
         "2023-03-25",
         106,
         3139111,
         1,
         327.7
        ],
        [
         "2023-03-27",
         96,
         3118981,
         2,
         21.71
        ],
        [
         "2023-03-27",
         103,
         2915262,
         11,
         68.87
        ],
        [
         "2023-03-24",
         8,
         1025715,
         1,
         16.17
        ],
        [
         "2023-03-25",
         91,
         1033600,
         2,
         46.01
        ],
        [
         "2023-03-20",
         49,
         1010684,
         1,
         12.47
        ],
        [
         "2023-03-23",
         5,
         3116735,
         1,
         15.9
        ],
        [
         "2023-03-26",
         23,
         3144744,
         2,
         110.24
        ],
        [
         "2023-03-26",
         75,
         3114914,
         1,
         51.54
        ],
        [
         "2023-03-27",
         94,
         3111572,
         2,
         217.28
        ],
        [
         "2023-03-21",
         8,
         3094257,
         115,
         1905.66
        ],
        [
         "2023-03-22",
         8,
         2915262,
         15,
         134.2
        ],
        [
         "2023-03-23",
         38,
         3031000,
         1,
         100.73
        ],
        [
         "2023-03-27",
         96,
         3138777,
         2,
         29.32
        ],
        [
         "2023-03-24",
         20,
         3133435,
         9,
         78.39
        ],
        [
         "2023-03-23",
         42,
         3145200,
         2,
         8.53
        ],
        [
         "2023-03-21",
         36,
         3134588,
         2,
         444.81
        ],
        [
         "2023-03-27",
         77,
         3111378,
         2,
         7.95
        ],
        [
         "2023-03-20",
         95,
         1030316,
         2,
         29.17
        ],
        [
         "2023-03-20",
         45,
         3118963,
         2,
         182.98
        ],
        [
         "2023-03-24",
         91,
         1032031,
         6,
         98.25
        ],
        [
         "2023-03-26",
         54,
         3145200,
         2,
         8.56
        ],
        [
         "2023-03-25",
         85,
         2854918,
         12,
         91.56
        ],
        [
         "2023-03-23",
         1,
         3129884,
         1081,
         9831.25
        ],
        [
         "2023-03-24",
         104,
         3113513,
         2,
         7.41
        ],
        [
         "2023-03-21",
         52,
         3136824,
         1,
         13.18
        ],
        [
         "2023-03-26",
         16,
         3092641,
         1,
         173.72
        ],
        [
         "2023-03-24",
         91,
         3141854,
         2,
         22.29
        ]
       ],
       "datasetInfos": [],
       "dbfsResultPath": null,
       "isJsonSchema": true,
       "metadata": {},
       "overflow": false,
       "plotOptions": {
        "customPlotOptions": {},
        "displayType": "table",
        "pivotAggregation": null,
        "pivotColumns": null,
        "xColumns": null,
        "yColumns": null
       },
       "removedWidgets": [],
       "schema": [
        {
         "metadata": "{}",
         "name": "data_extracao",
         "type": "\"date\""
        },
        {
         "metadata": "{}",
         "name": "cod_loja",
         "type": "\"integer\""
        },
        {
         "metadata": "{}",
         "name": "cod_produto",
         "type": "\"integer\""
        },
        {
         "metadata": "{}",
         "name": "estoque_quantidade",
         "type": "\"integer\""
        },
        {
         "metadata": "{}",
         "name": "estoque_valor",
         "type": "\"double\""
        }
       ],
       "type": "table"
      }
     },
     "output_type": "display_data"
    }
   ],
   "source": [
    "sql_posicao_estoque = \"\"\"SELECT\n",
    "  data_extracao,\n",
    "  cod_loja,\n",
    "  cod_produto,\n",
    "  estoque_quantidade,\n",
    "  estoque_valor\n",
    "FROM\n",
    "  work.posicao_estoque_main_work\n",
    "WHERE \n",
    "  estoque_quantidade >= 0\n",
    "AND\n",
    "  estoque_valor >= 0\n",
    "LIMIT 100\"\"\"\n",
    "\n",
    "df_sql_posicao_estoque = spark.sql(sql_posicao_estoque)\n",
    "df_sql_posicao_estoque.display()"
   ]
  },
  {
   "cell_type": "code",
   "execution_count": 0,
   "metadata": {
    "application/vnd.databricks.v1+cell": {
     "cellMetadata": {
      "byteLimit": 2048000,
      "rowLimit": 10000
     },
     "inputWidgets": {},
     "nuid": "76eacb67-5db6-4074-977a-97f73342cc90",
     "showTitle": false,
     "title": ""
    }
   },
   "outputs": [],
   "source": [
    "df_sql_posicao_estoque.write \\\n",
    "    .option('path', '/mnt/refined/posicao_estoque_main_refined') \\\n",
    "    .partitionBy(['data_extracao', 'cod_loja', 'cod_produto']) \\\n",
    "    .mode('overwrite') \\\n",
    "    .saveAsTable('refined.posicao_estoque_main_refined')"
   ]
  }
 ],
 "metadata": {
  "application/vnd.databricks.v1+notebook": {
   "dashboards": [],
   "language": "python",
   "notebookMetadata": {
    "mostRecentlyExecutedCommandWithImplicitDF": {
     "commandId": -1,
     "dataframes": [
      "_sqldf"
     ]
    },
    "pythonIndentUnit": 4
   },
   "notebookName": "Criando tabela posição estoque refined",
   "notebookOrigID": 333799256638407,
   "widgets": {}
  }
 },
 "nbformat": 4,
 "nbformat_minor": 0
}
