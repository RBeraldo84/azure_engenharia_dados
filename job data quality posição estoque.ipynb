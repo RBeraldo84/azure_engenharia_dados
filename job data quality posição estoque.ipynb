{
 "cells": [
  {
   "cell_type": "markdown",
   "metadata": {
    "application/vnd.databricks.v1+cell": {
     "cellMetadata": {
      "byteLimit": 2048000,
      "rowLimit": 10000
     },
     "inputWidgets": {},
     "nuid": "5713bb69-e50d-41aa-bc6a-08381d2379c4",
     "showTitle": false,
     "title": ""
    }
   },
   "source": [
    "## Bibliotecas"
   ]
  },
  {
   "cell_type": "code",
   "execution_count": 0,
   "metadata": {
    "application/vnd.databricks.v1+cell": {
     "cellMetadata": {
      "byteLimit": 2048000,
      "rowLimit": 10000
     },
     "inputWidgets": {},
     "nuid": "cfc482e3-c874-4342-aa9d-4058d87a5195",
     "showTitle": false,
     "title": ""
    }
   },
   "outputs": [],
   "source": [
    "import pandas as pd\n",
    "from great_expectations.dataset import SparkDFDataset\n",
    "from datetime import datetime, timedelta"
   ]
  },
  {
   "cell_type": "markdown",
   "metadata": {
    "application/vnd.databricks.v1+cell": {
     "cellMetadata": {
      "byteLimit": 2048000,
      "rowLimit": 10000
     },
     "inputWidgets": {},
     "nuid": "d0e8027c-b21e-45a1-a294-58cd3e41c89a",
     "showTitle": false,
     "title": ""
    }
   },
   "source": [
    "## Leitura da extração"
   ]
  },
  {
   "cell_type": "code",
   "execution_count": 0,
   "metadata": {
    "application/vnd.databricks.v1+cell": {
     "cellMetadata": {
      "byteLimit": 2048000,
      "rowLimit": 10000
     },
     "inputWidgets": {},
     "nuid": "228f0e4d-8cbb-41c6-8956-8a3771e6e949",
     "showTitle": false,
     "title": ""
    }
   },
   "outputs": [
    {
     "output_type": "display_data",
     "data": {
      "text/html": [
       "<style scoped>\n  .table-result-container {\n    max-height: 300px;\n    overflow: auto;\n  }\n  table, th, td {\n    border: 1px solid black;\n    border-collapse: collapse;\n  }\n  th, td {\n    padding: 5px;\n  }\n  th {\n    text-align: left;\n  }\n</style><div class='table-result-container'><table class='table-result'><thead style='background-color: white'><tr><th>DATA</th><th>CMV</th><th>ESTOQUE_VALOR</th><th>ESTOQUE_QTDE</th><th>VENDA_VALOR</th><th>VENDA_QTDE</th><th>MARGEM_FINAL</th><th>VENDA_LIQUIDA_FINAL</th><th>PRODUTO</th><th>LOJA</th></tr></thead><tbody></tbody></table></div>"
      ]
     },
     "metadata": {
      "application/vnd.databricks.v1+output": {
       "addedWidgets": {},
       "aggData": [],
       "aggError": "",
       "aggOverflow": false,
       "aggSchema": [],
       "aggSeriesLimitReached": false,
       "aggType": "",
       "arguments": {},
       "columnCustomDisplayInfos": {},
       "data": [],
       "datasetInfos": [],
       "dbfsResultPath": null,
       "isJsonSchema": true,
       "metadata": {},
       "overflow": false,
       "plotOptions": {
        "customPlotOptions": {},
        "displayType": "table",
        "pivotAggregation": null,
        "pivotColumns": null,
        "xColumns": null,
        "yColumns": null
       },
       "removedWidgets": [],
       "schema": [
        {
         "metadata": "{}",
         "name": "DATA",
         "type": "\"string\""
        },
        {
         "metadata": "{}",
         "name": "CMV",
         "type": "\"string\""
        },
        {
         "metadata": "{}",
         "name": "ESTOQUE_VALOR",
         "type": "\"string\""
        },
        {
         "metadata": "{}",
         "name": "ESTOQUE_QTDE",
         "type": "\"string\""
        },
        {
         "metadata": "{}",
         "name": "VENDA_VALOR",
         "type": "\"string\""
        },
        {
         "metadata": "{}",
         "name": "VENDA_QTDE",
         "type": "\"string\""
        },
        {
         "metadata": "{}",
         "name": "MARGEM_FINAL",
         "type": "\"string\""
        },
        {
         "metadata": "{}",
         "name": "VENDA_LIQUIDA_FINAL",
         "type": "\"string\""
        },
        {
         "metadata": "{}",
         "name": "PRODUTO",
         "type": "\"string\""
        },
        {
         "metadata": "{}",
         "name": "LOJA",
         "type": "\"string\""
        }
       ],
       "type": "table"
      }
     },
     "output_type": "display_data"
    }
   ],
   "source": [
    "data = str(datetime.now().date())\n",
    "df_posicao_estoque = spark.read.csv(f\"/mnt/adfraw/posicao_estoque_{data}_raw.csv\", sep=\";\", header=True)\n",
    "df_posicao_estoque.display()"
   ]
  },
  {
   "cell_type": "markdown",
   "metadata": {
    "application/vnd.databricks.v1+cell": {
     "cellMetadata": {
      "byteLimit": 2048000,
      "rowLimit": 10000
     },
     "inputWidgets": {},
     "nuid": "c40abb6d-dc88-49a3-a118-7aa00247e090",
     "showTitle": false,
     "title": ""
    }
   },
   "source": [
    "## Parâmetros do Great Expectations"
   ]
  },
  {
   "cell_type": "markdown",
   "metadata": {
    "application/vnd.databricks.v1+cell": {
     "cellMetadata": {
      "byteLimit": 2048000,
      "rowLimit": 10000
     },
     "inputWidgets": {},
     "nuid": "250512a6-06ec-4c5b-9da1-f747eb1b3f4b",
     "showTitle": false,
     "title": ""
    }
   },
   "source": [
    "### Spark DF"
   ]
  },
  {
   "cell_type": "code",
   "execution_count": 0,
   "metadata": {
    "application/vnd.databricks.v1+cell": {
     "cellMetadata": {
      "byteLimit": 2048000,
      "rowLimit": 10000
     },
     "inputWidgets": {},
     "nuid": "eacf1853-911b-4281-b146-540a692fb44d",
     "showTitle": false,
     "title": ""
    }
   },
   "outputs": [
    {
     "output_type": "stream",
     "name": "stdout",
     "output_type": "stream",
     "text": [
      "Out[59]: great_expectations.dataset.sparkdf_dataset.SparkDFDataset"
     ]
    }
   ],
   "source": [
    "raw_test_df = SparkDFDataset(df_posicao_estoque)\n",
    "type(raw_test_df)"
   ]
  },
  {
   "cell_type": "markdown",
   "metadata": {
    "application/vnd.databricks.v1+cell": {
     "cellMetadata": {
      "byteLimit": 2048000,
      "rowLimit": 10000
     },
     "inputWidgets": {},
     "nuid": "89cac6f7-abef-4202-a1ed-c96e9bea5e45",
     "showTitle": false,
     "title": ""
    }
   },
   "source": [
    "### Colunas importantes"
   ]
  },
  {
   "cell_type": "code",
   "execution_count": 0,
   "metadata": {
    "application/vnd.databricks.v1+cell": {
     "cellMetadata": {
      "byteLimit": 2048000,
      "rowLimit": 10000
     },
     "inputWidgets": {},
     "nuid": "138fc205-d74b-4772-8699-0fd32ed0e9cb",
     "showTitle": false,
     "title": ""
    }
   },
   "outputs": [],
   "source": [
    "colunas_importantes = [\n",
    "    \"DATA\",\n",
    "    \"CMV\",\n",
    "    \"ESTOQUE_VALOR\",\n",
    "    \"ESTOQUE_QTDE\",\n",
    "    \"VENDA_VALOR\",\n",
    "    \"VENDA_QTDE\",\n",
    "    \"MARGEM_FINAL\",\n",
    "    \"VENDA_LIQUIDA_FINAL\",\n",
    "    \"PRODUTO\",\n",
    "    \"LOJA\"\n",
    "]"
   ]
  },
  {
   "cell_type": "markdown",
   "metadata": {
    "application/vnd.databricks.v1+cell": {
     "cellMetadata": {
      "byteLimit": 2048000,
      "rowLimit": 10000
     },
     "inputWidgets": {},
     "nuid": "2a2cc4dc-620f-468b-b20c-8e609715a124",
     "showTitle": false,
     "title": ""
    }
   },
   "source": [
    "## Análise de existência de colunas"
   ]
  },
  {
   "cell_type": "code",
   "execution_count": 0,
   "metadata": {
    "application/vnd.databricks.v1+cell": {
     "cellMetadata": {
      "byteLimit": 2048000,
      "rowLimit": 10000
     },
     "inputWidgets": {},
     "nuid": "b73ee5b7-4d2e-4f25-9866-856ddfb0be9c",
     "showTitle": false,
     "title": ""
    }
   },
   "outputs": [
    {
     "output_type": "stream",
     "name": "stdout",
     "output_type": "stream",
     "text": [
      "True\n"
     ]
    }
   ],
   "source": [
    "def coluna_existe(colunas_importantes):\n",
    "    \n",
    "    for column in colunas_importantes:            \n",
    "        resultado = raw_test_df.expect_column_to_exist(column)            \n",
    "        if(resultado.success == True):                \n",
    "            pass;                \n",
    "        else:                \n",
    "            return False;\n",
    "            break;                \n",
    "    return True;\n",
    "\n",
    "valida_coluna_existe = coluna_existe(colunas_importantes)\n",
    "\n",
    "print(valida_coluna_existe)"
   ]
  },
  {
   "cell_type": "markdown",
   "metadata": {
    "application/vnd.databricks.v1+cell": {
     "cellMetadata": {
      "byteLimit": 2048000,
      "rowLimit": 10000
     },
     "inputWidgets": {},
     "nuid": "071b39a6-14b0-43f9-8525-8b446ba98dd5",
     "showTitle": false,
     "title": ""
    }
   },
   "source": [
    "## Análise de dados nulos"
   ]
  },
  {
   "cell_type": "code",
   "execution_count": 0,
   "metadata": {
    "application/vnd.databricks.v1+cell": {
     "cellMetadata": {
      "byteLimit": 2048000,
      "rowLimit": 10000
     },
     "inputWidgets": {},
     "nuid": "d425e91e-7f4f-4bfc-afc2-648aa60eeab6",
     "showTitle": false,
     "title": ""
    }
   },
   "outputs": [
    {
     "output_type": "stream",
     "name": "stdout",
     "output_type": "stream",
     "text": [
      "True\n"
     ]
    }
   ],
   "source": [
    "def coluna_nula(colunas_importantes):\n",
    "    \n",
    "    for column in colunas_importantes:            \n",
    "        resultado = raw_test_df.expect_column_values_to_not_be_null(column)            \n",
    "        if(resultado.success == True):                \n",
    "            pass;                \n",
    "        else:\n",
    "            return False;\n",
    "            break;                \n",
    "    return True;\n",
    "\n",
    "valida_coluna_nula = coluna_nula(colunas_importantes)\n",
    "\n",
    "print(valida_coluna_nula)"
   ]
  },
  {
   "cell_type": "markdown",
   "metadata": {
    "application/vnd.databricks.v1+cell": {
     "cellMetadata": {
      "byteLimit": 2048000,
      "rowLimit": 10000
     },
     "inputWidgets": {},
     "nuid": "d44398f2-3069-4d71-b9df-116022efc529",
     "showTitle": false,
     "title": ""
    }
   },
   "source": [
    "## Análise de Data"
   ]
  },
  {
   "cell_type": "code",
   "execution_count": 0,
   "metadata": {
    "application/vnd.databricks.v1+cell": {
     "cellMetadata": {
      "byteLimit": 2048000,
      "rowLimit": 10000
     },
     "inputWidgets": {},
     "nuid": "81539c17-80a2-481b-bed9-673895e9305c",
     "showTitle": false,
     "title": ""
    }
   },
   "outputs": [
    {
     "output_type": "stream",
     "name": "stdout",
     "output_type": "stream",
     "text": [
      "2023-03-29\n"
     ]
    }
   ],
   "source": [
    "data_ontem = str(datetime.now().date() - timedelta(days=2))\n",
    "print(data_ontem)"
   ]
  },
  {
   "cell_type": "code",
   "execution_count": 0,
   "metadata": {
    "application/vnd.databricks.v1+cell": {
     "cellMetadata": {
      "byteLimit": 2048000,
      "rowLimit": 10000
     },
     "inputWidgets": {},
     "nuid": "0175f3f9-ae53-4081-a6ff-e6354f503242",
     "showTitle": false,
     "title": ""
    }
   },
   "outputs": [
    {
     "output_type": "stream",
     "name": "stdout",
     "output_type": "stream",
     "text": [
      "True\n"
     ]
    }
   ],
   "source": [
    "def valida_data(data_ontem):\n",
    "    \n",
    "    resultado = raw_test_df.expect_column_values_to_be_in_set(\"DATA\", [data_ontem])\n",
    "    if(resultado.success == True):\n",
    "        return True;\n",
    "    else:\n",
    "        return False;\n",
    "\n",
    "valida_data = valida_data(data_ontem)\n",
    "print(valida_data)"
   ]
  },
  {
   "cell_type": "markdown",
   "metadata": {
    "application/vnd.databricks.v1+cell": {
     "cellMetadata": {
      "byteLimit": 2048000,
      "rowLimit": 10000
     },
     "inputWidgets": {},
     "nuid": "61af5c01-7758-48ef-85da-10609bd2c251",
     "showTitle": false,
     "title": ""
    }
   },
   "source": [
    "## Valida contagem de linhas"
   ]
  },
  {
   "cell_type": "code",
   "execution_count": 0,
   "metadata": {
    "application/vnd.databricks.v1+cell": {
     "cellMetadata": {
      "byteLimit": 2048000,
      "implicitDf": true,
      "rowLimit": 10000
     },
     "inputWidgets": {},
     "nuid": "4ee66613-834e-4467-96ce-37059829f14e",
     "showTitle": false,
     "title": ""
    }
   },
   "outputs": [],
   "source": [
    "sql_limites = \"\"\"SELECT\n",
    "  NTILE,\n",
    "  MIN(CONTAGEM) AS LIMITE_INFERIOR,\n",
    "  MAX(CONTAGEM) AS LIMITE_SUPERIOR,\n",
    "  COUNT(DATA) AS OCORRENCIAS\n",
    "FROM\n",
    "  (SELECT\n",
    "    DATA,\n",
    "    COUNT(*) AS CONTAGEM,\n",
    "    NTILE(1) OVER (ORDER BY COUNT(*)) AS NTILE\n",
    "  FROM\n",
    "    raw.posicao_estoque_main_raw\n",
    "  WHERE\n",
    "    CAST(DATA AS DATE) >= DATEADD(MONTH, -6, CAST(DATA AS DATE))\n",
    "  GROUP BY DATA) a\n",
    "GROUP BY 1\"\"\"\n",
    "\n",
    "df_limites = spark.sql(sql_limites).toPandas()"
   ]
  },
  {
   "cell_type": "code",
   "execution_count": 0,
   "metadata": {
    "application/vnd.databricks.v1+cell": {
     "cellMetadata": {
      "byteLimit": 2048000,
      "rowLimit": 10000
     },
     "inputWidgets": {},
     "nuid": "73f24abc-7563-4b11-a3cf-2fca085f16a6",
     "showTitle": false,
     "title": ""
    }
   },
   "outputs": [
    {
     "output_type": "stream",
     "name": "stdout",
     "output_type": "stream",
     "text": [
      "87393 118857\n"
     ]
    }
   ],
   "source": [
    "limite_inferior = df_limites['LIMITE_INFERIOR'].values[0]\n",
    "limite_superior = df_limites['LIMITE_SUPERIOR'].values[0]\n",
    "print(limite_inferior, limite_superior)"
   ]
  },
  {
   "cell_type": "code",
   "execution_count": 0,
   "metadata": {
    "application/vnd.databricks.v1+cell": {
     "cellMetadata": {
      "byteLimit": 2048000,
      "rowLimit": 10000
     },
     "inputWidgets": {},
     "nuid": "5a93d19d-2bb4-4875-8aca-1d8f2ac98235",
     "showTitle": false,
     "title": ""
    }
   },
   "outputs": [
    {
     "output_type": "stream",
     "name": "stdout",
     "output_type": "stream",
     "text": [
      "False\n"
     ]
    }
   ],
   "source": [
    "def valida_contagem(limite_inferior, limite_superior):\n",
    "    \n",
    "    resultado = raw_test_df.expect_table_row_count_to_be_between(limite_inferior, limite_superior)\n",
    "    \n",
    "    if(resultado.success == True):\n",
    "        return True;\n",
    "    else:\n",
    "        return False;\n",
    "\n",
    "valida_contagem = valida_contagem(limite_inferior, limite_superior)\n",
    "\n",
    "print(valida_contagem)"
   ]
  },
  {
   "cell_type": "markdown",
   "metadata": {
    "application/vnd.databricks.v1+cell": {
     "cellMetadata": {
      "byteLimit": 2048000,
      "rowLimit": 10000
     },
     "inputWidgets": {},
     "nuid": "f4fec79d-55d9-443a-8c5a-e34e9f99c5e9",
     "showTitle": false,
     "title": ""
    }
   },
   "source": [
    "## Validação Final"
   ]
  },
  {
   "cell_type": "code",
   "execution_count": 0,
   "metadata": {
    "application/vnd.databricks.v1+cell": {
     "cellMetadata": {
      "byteLimit": 2048000,
      "rowLimit": 10000
     },
     "inputWidgets": {},
     "nuid": "4b2ee320-28d0-468a-b7d3-ff5e43bce3b8",
     "showTitle": false,
     "title": ""
    }
   },
   "outputs": [
    {
     "output_type": "stream",
     "name": "stdout",
     "output_type": "stream",
     "text": [
      "False\n"
     ]
    }
   ],
   "source": [
    "validacoes = [valida_coluna_existe,\n",
    "    valida_coluna_nula,\n",
    "    valida_data,\n",
    "    valida_contagem]\n",
    "\n",
    "def validacao_final(validacoes):\n",
    "    if False in validacoes:\n",
    "        return False;\n",
    "    else:\n",
    "        return True;\n",
    "    \n",
    "validacao_final = validacao_final(validacoes)\n",
    "print(validacao_final)"
   ]
  },
  {
   "cell_type": "markdown",
   "metadata": {
    "application/vnd.databricks.v1+cell": {
     "cellMetadata": {
      "byteLimit": 2048000,
      "rowLimit": 10000
     },
     "inputWidgets": {},
     "nuid": "ff07777e-1ab3-479b-a343-056b2986def9",
     "showTitle": false,
     "title": ""
    }
   },
   "source": [
    "## Salvando Dados"
   ]
  },
  {
   "cell_type": "code",
   "execution_count": 0,
   "metadata": {
    "application/vnd.databricks.v1+cell": {
     "cellMetadata": {
      "byteLimit": 2048000,
      "rowLimit": 10000
     },
     "inputWidgets": {},
     "nuid": "d4e8a085-2b09-4532-bc20-c92f512cafb3",
     "showTitle": false,
     "title": ""
    }
   },
   "outputs": [],
   "source": [
    "tabela = \"posicao_estoque_raw\"\n",
    "camada = \"raw\"\n",
    "data_agora_timestamp = str(datetime.now())\n",
    "data_agora = str(datetime.now().date())"
   ]
  },
  {
   "cell_type": "code",
   "execution_count": 0,
   "metadata": {
    "application/vnd.databricks.v1+cell": {
     "cellMetadata": {
      "byteLimit": 2048000,
      "rowLimit": 10000
     },
     "inputWidgets": {},
     "nuid": "980cca07-f80d-497d-9034-b504563ef7f3",
     "showTitle": false,
     "title": ""
    }
   },
   "outputs": [],
   "source": [
    "if validacao_final == False:\n",
    "    posicao_estoque_erro = df_posicao_estoque.toPandas()\n",
    "    posicao_estoque_erro.to_csv(f'/dbfs/mnt/erros_dataquality/posicao_estoque_{data}.csv', sep=\";\", index=False)\n",
    "    pasta_arquivo = f'/dbfs/mnt/erros_dataquality/posicao_estoque_{data}.csv'\n",
    "else:\n",
    "    pasta_arquivo=''"
   ]
  },
  {
   "cell_type": "code",
   "execution_count": 0,
   "metadata": {
    "application/vnd.databricks.v1+cell": {
     "cellMetadata": {
      "byteLimit": 2048000,
      "rowLimit": 10000
     },
     "inputWidgets": {},
     "nuid": "d64685a7-efc7-4325-b42f-a847b30fb0ec",
     "showTitle": false,
     "title": ""
    }
   },
   "outputs": [
    {
     "output_type": "display_data",
     "data": {
      "text/html": [
       "<style scoped>\n  .table-result-container {\n    max-height: 300px;\n    overflow: auto;\n  }\n  table, th, td {\n    border: 1px solid black;\n    border-collapse: collapse;\n  }\n  th, td {\n    padding: 5px;\n  }\n  th {\n    text-align: left;\n  }\n</style><div class='table-result-container'><table class='table-result'><thead style='background-color: white'><tr><th>tabela</th><th>camada</th><th>todas_as_colunas</th><th>dados_vazios</th><th>data_valida</th><th>contagem</th><th>aprovado</th><th>mnt</th><th>data_validacao</th><th>timestamp</th></tr></thead><tbody><tr><td>posicao_estoque_raw</td><td>raw</td><td>true</td><td>true</td><td>true</td><td>false</td><td>false</td><td>/dbfs/mnt/erros_dataquality/posicao_estoque_2023-03-31.csv</td><td>2023-03-31</td><td>2023-03-31 01:01:31.804553</td></tr></tbody></table></div>"
      ]
     },
     "metadata": {
      "application/vnd.databricks.v1+output": {
       "addedWidgets": {},
       "aggData": [],
       "aggError": "",
       "aggOverflow": false,
       "aggSchema": [],
       "aggSeriesLimitReached": false,
       "aggType": "",
       "arguments": {},
       "columnCustomDisplayInfos": {},
       "data": [
        [
         "posicao_estoque_raw",
         "raw",
         true,
         true,
         true,
         false,
         false,
         "/dbfs/mnt/erros_dataquality/posicao_estoque_2023-03-31.csv",
         "2023-03-31",
         "2023-03-31 01:01:31.804553"
        ]
       ],
       "datasetInfos": [],
       "dbfsResultPath": null,
       "isJsonSchema": true,
       "metadata": {},
       "overflow": false,
       "plotOptions": {
        "customPlotOptions": {},
        "displayType": "table",
        "pivotAggregation": null,
        "pivotColumns": null,
        "xColumns": null,
        "yColumns": null
       },
       "removedWidgets": [],
       "schema": [
        {
         "metadata": "{}",
         "name": "tabela",
         "type": "\"string\""
        },
        {
         "metadata": "{}",
         "name": "camada",
         "type": "\"string\""
        },
        {
         "metadata": "{}",
         "name": "todas_as_colunas",
         "type": "\"boolean\""
        },
        {
         "metadata": "{}",
         "name": "dados_vazios",
         "type": "\"boolean\""
        },
        {
         "metadata": "{}",
         "name": "data_valida",
         "type": "\"boolean\""
        },
        {
         "metadata": "{}",
         "name": "contagem",
         "type": "\"boolean\""
        },
        {
         "metadata": "{}",
         "name": "aprovado",
         "type": "\"boolean\""
        },
        {
         "metadata": "{}",
         "name": "mnt",
         "type": "\"string\""
        },
        {
         "metadata": "{}",
         "name": "data_validacao",
         "type": "\"string\""
        },
        {
         "metadata": "{}",
         "name": "timestamp",
         "type": "\"string\""
        }
       ],
       "type": "table"
      }
     },
     "output_type": "display_data"
    }
   ],
   "source": [
    "dicionario_validacao = [{\"tabela\":tabela,\n",
    "                       \"camada\":camada,\n",
    "                       \"todas_as_colunas\":valida_coluna_existe,\n",
    "                       \"dados_vazios\":valida_coluna_nula,\n",
    "                       \"data_valida\":valida_data,\n",
    "                       \"contagem\":valida_contagem,\n",
    "                       \"aprovado\":validacao_final,\n",
    "                       \"mnt\":pasta_arquivo,\n",
    "                       \"data_validacao\":data_agora,\n",
    "                       \"timestamp\":data_agora_timestamp}]\n",
    "\n",
    "df_validacao = spark.createDataFrame(pd.DataFrame(dicionario_validacao))\n",
    "df_validacao.display()"
   ]
  },
  {
   "cell_type": "code",
   "execution_count": 0,
   "metadata": {
    "application/vnd.databricks.v1+cell": {
     "cellMetadata": {
      "byteLimit": 2048000,
      "rowLimit": 10000
     },
     "inputWidgets": {},
     "nuid": "0f983b37-a344-4c77-b335-b163f5aba292",
     "showTitle": false,
     "title": ""
    }
   },
   "outputs": [],
   "source": [
    "df_validacao.write \\\n",
    "    .option('path', '/mnt/dataquality/valida_extracao') \\\n",
    "    .partitionBy(['data_validacao']) \\\n",
    "    .mode('append') \\\n",
    "    .saveAsTable('dataquality.valida_extracao')"
   ]
  },
  {
   "cell_type": "code",
   "execution_count": 0,
   "metadata": {
    "application/vnd.databricks.v1+cell": {
     "cellMetadata": {
      "byteLimit": 2048000,
      "rowLimit": 10000
     },
     "inputWidgets": {},
     "nuid": "52c684b9-fd16-4799-826a-beab7258e9c3",
     "showTitle": false,
     "title": ""
    }
   },
   "outputs": [
    {
     "output_type": "display_data",
     "data": {
      "text/plain": [
       "\u001B[0;31m---------------------------------------------------------------------------\u001B[0m\n\u001B[0;31mNameError\u001B[0m                                 Traceback (most recent call last)\n\u001B[0;32m<command-333799256638454>\u001B[0m in \u001B[0;36m<cell line: 1>\u001B[0;34m()\u001B[0m\n\u001B[1;32m      1\u001B[0m \u001B[0;32mif\u001B[0m \u001B[0mvalidacao_final\u001B[0m \u001B[0;34m==\u001B[0m \u001B[0;32mFalse\u001B[0m\u001B[0;34m:\u001B[0m\u001B[0;34m\u001B[0m\u001B[0;34m\u001B[0m\u001B[0m\n\u001B[0;32m----> 2\u001B[0;31m     \u001B[0;32mraise\u001B[0m \u001B[0mExcepetion\u001B[0m\u001B[0;34m(\u001B[0m\u001B[0;34m\"Data Quality Posição de Estoque RAW não foi aprovada\"\u001B[0m\u001B[0;34m)\u001B[0m\u001B[0;34m\u001B[0m\u001B[0;34m\u001B[0m\u001B[0m\n\u001B[0m\n\u001B[0;31mNameError\u001B[0m: name 'Excepetion' is not defined"
      ]
     },
     "metadata": {
      "application/vnd.databricks.v1+output": {
       "arguments": {},
       "data": "\u001B[0;31m---------------------------------------------------------------------------\u001B[0m\n\u001B[0;31mNameError\u001B[0m                                 Traceback (most recent call last)\n\u001B[0;32m<command-333799256638454>\u001B[0m in \u001B[0;36m<cell line: 1>\u001B[0;34m()\u001B[0m\n\u001B[1;32m      1\u001B[0m \u001B[0;32mif\u001B[0m \u001B[0mvalidacao_final\u001B[0m \u001B[0;34m==\u001B[0m \u001B[0;32mFalse\u001B[0m\u001B[0;34m:\u001B[0m\u001B[0;34m\u001B[0m\u001B[0;34m\u001B[0m\u001B[0m\n\u001B[0;32m----> 2\u001B[0;31m     \u001B[0;32mraise\u001B[0m \u001B[0mExcepetion\u001B[0m\u001B[0;34m(\u001B[0m\u001B[0;34m\"Data Quality Posição de Estoque RAW não foi aprovada\"\u001B[0m\u001B[0;34m)\u001B[0m\u001B[0;34m\u001B[0m\u001B[0;34m\u001B[0m\u001B[0m\n\u001B[0m\n\u001B[0;31mNameError\u001B[0m: name 'Excepetion' is not defined",
       "errorSummary": "<span class='ansi-red-fg'>NameError</span>: name 'Excepetion' is not defined",
       "errorTraceType": "ansi",
       "metadata": {},
       "type": "ipynbError"
      }
     },
     "output_type": "display_data"
    }
   ],
   "source": [
    "if validacao_final == False:\n",
    "    raise Excepetion(\"Data Quality Posição de Estoque RAW não foi aprovada\")"
   ]
  }
 ],
 "metadata": {
  "application/vnd.databricks.v1+notebook": {
   "dashboards": [],
   "language": "python",
   "notebookMetadata": {
    "mostRecentlyExecutedCommandWithImplicitDF": {
     "commandId": 333799256638453,
     "dataframes": [
      "_sqldf"
     ]
    },
    "pythonIndentUnit": 4
   },
   "notebookName": "job data quality posição estoque",
   "notebookOrigID": 333799256638422,
   "widgets": {}
  }
 },
 "nbformat": 4,
 "nbformat_minor": 0
}
