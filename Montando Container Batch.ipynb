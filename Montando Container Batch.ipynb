{
 "cells": [
  {
   "cell_type": "code",
   "execution_count": 0,
   "metadata": {
    "application/vnd.databricks.v1+cell": {
     "cellMetadata": {
      "byteLimit": 2048000,
      "rowLimit": 10000
     },
     "inputWidgets": {},
     "nuid": "042a59e3-86c6-4f4e-916e-c1b6f024e5cb",
     "showTitle": false,
     "title": ""
    }
   },
   "outputs": [
    {
     "output_type": "stream",
     "name": "stdout",
     "output_type": "stream",
     "text": [
      "Out[1]: True"
     ]
    }
   ],
   "source": [
    "container_name = \"batch\"\n",
    "storage_account = \"storagedatalakehouse\"\n",
    "key = dbutils.secrets.get(scope=\"senhas-data-lake-house\", key=\"storage-lakehouse\")\n",
    "\n",
    "dbutils.fs.mount(\n",
    "  source = f\"wasbs://{container_name}@{storage_account}.blob.core.windows.net\",\n",
    "  mount_point = \"/mnt/batch\",\n",
    "  extra_configs = {f\"fs.azure.account.key.{storage_account}.blob.core.windows.net\":key})"
   ]
  }
 ],
 "metadata": {
  "application/vnd.databricks.v1+notebook": {
   "dashboards": [],
   "language": "python",
   "notebookMetadata": {
    "pythonIndentUnit": 4
   },
   "notebookName": "Montando Container Batch",
   "notebookOrigID": 1021756329963362,
   "widgets": {}
  }
 },
 "nbformat": 4,
 "nbformat_minor": 0
}
